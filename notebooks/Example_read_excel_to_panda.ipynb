{
 "cells": [
  {
   "cell_type": "markdown",
   "metadata": {},
   "source": [
    "## Example for QC'ing dataframe interactive functionality from ipywidgets\n",
    "\n",
    "Floris Strijbos July 2020"
   ]
  },
  {
   "cell_type": "code",
   "execution_count": 1,
   "metadata": {},
   "outputs": [],
   "source": [
    "from ipywidgets import interact\n",
    "\n",
    "%matplotlib inline\n",
    "import os\n",
    "import matplotlib.pyplot as plt\n",
    "\n",
    "import pandas as pd"
   ]
  },
  {
   "cell_type": "code",
   "execution_count": 2,
   "metadata": {},
   "outputs": [],
   "source": [
    "def get_df_from_excel(xlIn,key='MD'):\n",
    "    \"\"\"\n",
    "    Create dataframe df from excel on xlIn in current working directory or subfolder\n",
    "    and select key to scroll through with as default the 1st column\n",
    "    \"\"\"\n",
    "    cwd = os.getcwd()\n",
    "    xlPath = os.path.join(cwd, xlIn)\n",
    "    df = pd.read_excel(xlPath)\n",
    "    items = sorted(df[key].unique().tolist())\n",
    "    items.append(2**31-1)\n",
    "    @interact(x=(0,len(items)-2,1))\n",
    "    def show_row(column=key,x=0):\n",
    "        return  df.loc[ ( df[column] >= items[x] ) & ( df[column] < items[x+1] ) ] \n",
    "    return df"
   ]
  },
  {
   "cell_type": "code",
   "execution_count": 3,
   "metadata": {
    "scrolled": true
   },
   "outputs": [
    {
     "data": {
      "application/vnd.jupyter.widget-view+json": {
       "model_id": "",
       "version_major": 2,
       "version_minor": 0
      },
      "text/plain": [
       "interactive(children=(Text(value='TVDKB', description='column'), IntSlider(value=0, description='x', max=139),…"
      ]
     },
     "metadata": {},
     "output_type": "display_data"
    }
   ],
   "source": [
    "dft=get_df_from_excel(\"sample_data/bakerpicks.xlsx\",key='TVDKB').astype('int32')"
   ]
  },
  {
   "cell_type": "code",
   "execution_count": null,
   "metadata": {},
   "outputs": [],
   "source": [
    "#pd.set_option('display.max_rows', df.shape[0]) "
   ]
  }
 ],
 "metadata": {
  "kernelspec": {
   "display_name": "Python 3",
   "language": "python",
   "name": "python3"
  },
  "language_info": {
   "codemirror_mode": {
    "name": "ipython",
    "version": 3
   },
   "file_extension": ".py",
   "mimetype": "text/x-python",
   "name": "python",
   "nbconvert_exporter": "python",
   "pygments_lexer": "ipython3",
   "version": "3.7.6"
  }
 },
 "nbformat": 4,
 "nbformat_minor": 2
}
