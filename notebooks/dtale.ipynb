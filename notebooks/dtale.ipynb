{
 "cells": [
  {
   "cell_type": "code",
   "execution_count": null,
   "metadata": {},
   "outputs": [],
   "source": [
    "import dtale\n",
    "import pandas as pd\n",
    "\n",
    "import dtale.app as dtale_app"
   ]
  },
  {
   "cell_type": "code",
   "execution_count": null,
   "metadata": {},
   "outputs": [],
   "source": [
    "df = pd.read_excel('DP_quant.xlsx')"
   ]
  },
  {
   "cell_type": "markdown",
   "metadata": {},
   "source": [
    "# URL"
   ]
  },
  {
   "cell_type": "code",
   "execution_count": null,
   "metadata": {},
   "outputs": [],
   "source": [
    "#d = dtale.show(df)\n",
    "#d"
   ]
  },
  {
   "cell_type": "markdown",
   "metadata": {},
   "source": [
    "# CLI"
   ]
  },
  {
   "cell_type": "code",
   "execution_count": null,
   "metadata": {
    "scrolled": true
   },
   "outputs": [],
   "source": [
    "dtale.show(df)"
   ]
  },
  {
   "cell_type": "markdown",
   "metadata": {},
   "source": [
    "# Kubernetes"
   ]
  },
  {
   "cell_type": "code",
   "execution_count": null,
   "metadata": {},
   "outputs": [],
   "source": [
    "dtale_app.JUPYTER_SERVER_PROXY = True\n",
    "\n",
    "dtale.show(df)\n",
    "#app_root ='//'"
   ]
  },
  {
   "cell_type": "markdown",
   "metadata": {},
   "source": [
    "# webApp"
   ]
  },
  {
   "cell_type": "code",
   "execution_count": null,
   "metadata": {},
   "outputs": [],
   "source": [
    "from flask import redirect\n",
    "from dtale.app import build_app\n",
    "from dtale.views import startup\n",
    "\n",
    "\n",
    "if __name__ == '__main__':\n",
    "    app = build_app(reaper_on = False)\n",
    "\n",
    "    @app.route(\"/create-df\")\n",
    "    def create_df():\n",
    "        df1 = pd.DataFrame(df)\n",
    "        instance = startup(data = df1, ignore_duplicate = True)\n",
    "        return redirect(f\"/dtale/main/{instance._data_id}\", code = 302)\n",
    "\n",
    "    @app.route(\"/\")\n",
    "    def hello_world():\n",
    "        return 'Welcome to the Data Tale'\n",
    "\n",
    "   # app.run(host = \"0.0.0.0\", port = 8080)\n",
    "    app.run(port = 8080)"
   ]
  },
  {
   "cell_type": "code",
   "execution_count": null,
   "metadata": {},
   "outputs": [],
   "source": []
  },
  {
   "cell_type": "code",
   "execution_count": null,
   "metadata": {},
   "outputs": [],
   "source": []
  }
 ],
 "metadata": {
  "kernelspec": {
   "display_name": "Python 3",
   "language": "python",
   "name": "python3"
  },
  "language_info": {
   "codemirror_mode": {
    "name": "ipython",
    "version": 3
   },
   "file_extension": ".py",
   "mimetype": "text/x-python",
   "name": "python",
   "nbconvert_exporter": "python",
   "pygments_lexer": "ipython3",
   "version": "3.7.6"
  }
 },
 "nbformat": 4,
 "nbformat_minor": 4
}
