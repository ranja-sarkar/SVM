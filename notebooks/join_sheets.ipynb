{
 "cells": [
  {
   "cell_type": "code",
   "execution_count": 1,
   "source": [
    "import pandas as pd"
   ],
   "outputs": [],
   "metadata": {}
  },
  {
   "cell_type": "code",
   "execution_count": null,
   "source": [
    "#workbook = \"C:/Users/Ranja.Sarkar/Desktop/DP/dashboard data/DPsource_data.xlsx\"\r\n",
    "#all_dfs = pd.read_excel(workbook, sheet_name = None)\r\n",
    "#all_dfs.keys()\r\n",
    "\r\n",
    "#df = pd.concat(all_dfs, ignore_index = True, sort = False)\r\n",
    "#df"
   ],
   "outputs": [],
   "metadata": {}
  },
  {
   "cell_type": "code",
   "execution_count": null,
   "source": [
    "\"\"\"\r\n",
    "df1 = pd.read_excel('DP_quant.xlsx', sheet_name = 'DP', sort = False, ignore_index = True)\r\n",
    "\r\n",
    "df1.shape\r\n",
    "\"\"\""
   ],
   "outputs": [],
   "metadata": {}
  },
  {
   "cell_type": "code",
   "execution_count": null,
   "source": [
    "\"\"\"\r\n",
    "df2 = pd.read_excel('DP_quant.xlsx', sheet_name = 'Source', sort = False)\r\n",
    "\r\n",
    "df2.shape\r\n",
    "\"\"\""
   ],
   "outputs": [],
   "metadata": {}
  },
  {
   "cell_type": "code",
   "execution_count": null,
   "source": [
    "#import pandas\r\n",
    "#df = pd.merge(df1, df2, on = '', how = 'inner')\r\n",
    "\r\n",
    "\"\"\"\r\n",
    "df = pd.merge(df1, df2, on = \"DP ID\", how = 'left')\r\n",
    "\r\n",
    "df.shape\r\n",
    "\"\"\""
   ],
   "outputs": [],
   "metadata": {}
  },
  {
   "cell_type": "code",
   "execution_count": null,
   "source": [
    "#df.to_csv('DP_quant_merged.csv')"
   ],
   "outputs": [],
   "metadata": {}
  },
  {
   "cell_type": "code",
   "execution_count": 166,
   "source": [
    "#df = pd.read_excel('data_colorgroups.xlsx', sheet_name = 'quant')\r\n",
    "#df"
   ],
   "outputs": [],
   "metadata": {}
  },
  {
   "cell_type": "code",
   "execution_count": 2,
   "source": [
    "dff = pd.read_excel('DP_quant_merged_v1.xlsx', sheet_name = 'DP_quant_merged')\r\n",
    "dff.shape"
   ],
   "outputs": [
    {
     "output_type": "execute_result",
     "data": {
      "text/plain": [
       "(472, 17)"
      ]
     },
     "metadata": {},
     "execution_count": 2
    }
   ],
   "metadata": {}
  },
  {
   "cell_type": "code",
   "execution_count": 3,
   "source": [
    "dff.columns"
   ],
   "outputs": [
    {
     "output_type": "execute_result",
     "data": {
      "text/plain": [
       "Index(['DP ID', 'Trade name', 'Category of non-metallic materials', 'Polymer',\n",
       "       'Exposure medium', 'Concentration of medium (vol%)',\n",
       "       'Temperature of medium (C)', 'Pressure (bar)',\n",
       "       'Duration of exposure (h)', 'Weight change (%)', 'Density change (%)',\n",
       "       'Volume change (%)', 'Change in hardness (IRHD)',\n",
       "       'Change in tensile strength (%)', 'Change in elongation at break (%)',\n",
       "       'Report no.', 'Report name'],\n",
       "      dtype='object')"
      ]
     },
     "metadata": {},
     "execution_count": 3
    }
   ],
   "metadata": {}
  },
  {
   "cell_type": "code",
   "execution_count": 4,
   "source": [
    "dff['Volume change'] = dff['Volume change (%)']\r\n",
    "dff['Volume change'] = dff['Volume change'].replace('No data', '')\r\n",
    "dff['Volume change'] = pd.to_numeric(dff['Volume change'], errors = 'coerce')"
   ],
   "outputs": [],
   "metadata": {}
  },
  {
   "cell_type": "code",
   "execution_count": 159,
   "source": [
    "#dff['Volume change'] = dff['Volume change'].astype(float)"
   ],
   "outputs": [],
   "metadata": {}
  },
  {
   "cell_type": "code",
   "execution_count": 7,
   "source": [
    "#dff.tail(30)\r\n",
    "\r\n",
    "dff['Color Group'] = 0\r\n",
    "dff.loc[(dff['Volume change'] >= -5.0) & (dff['Volume change'] < 0), 'Color Group'] = 'Color1'\r\n",
    "dff.loc[(dff['Volume change'] >= 0) & (dff['Volume change'] <= 10.0), 'Color Group'] = 'Color2'\r\n",
    "dff.loc[(dff['Volume change'] > 10.0) & (dff['Volume change'] <= 15.0), 'Color Group'] = 'Color3'\r\n",
    "dff.loc[(dff['Volume change'] > 15.0) & (dff['Volume change'] <= 20.0), 'Color Group'] = 'Color4'\r\n",
    "dff.loc[(dff['Volume change'] > 20.0), 'Color Group'] = 'Color5'\r\n",
    "#dff.loc[(dff['Volume change'] == ''), 'Color Group'] = ''\r\n"
   ],
   "outputs": [],
   "metadata": {}
  },
  {
   "cell_type": "code",
   "execution_count": 8,
   "source": [
    "dff.columns"
   ],
   "outputs": [
    {
     "output_type": "execute_result",
     "data": {
      "text/plain": [
       "Index(['DP ID', 'Trade name', 'Category of non-metallic materials', 'Polymer',\n",
       "       'Exposure medium', 'Concentration of medium (vol%)',\n",
       "       'Temperature of medium (C)', 'Pressure (bar)',\n",
       "       'Duration of exposure (h)', 'Weight change (%)', 'Density change (%)',\n",
       "       'Volume change (%)', 'Change in hardness (IRHD)',\n",
       "       'Change in tensile strength (%)', 'Change in elongation at break (%)',\n",
       "       'Report no.', 'Report name', 'Volume change', 'Color Group'],\n",
       "      dtype='object')"
      ]
     },
     "metadata": {},
     "execution_count": 8
    }
   ],
   "metadata": {}
  },
  {
   "cell_type": "code",
   "execution_count": 10,
   "source": [
    "dff = dff.drop(columns = ['Volume change'], axis = 1)\r\n",
    "dff.shape"
   ],
   "outputs": [
    {
     "output_type": "execute_result",
     "data": {
      "text/plain": [
       "(472, 18)"
      ]
     },
     "metadata": {},
     "execution_count": 10
    }
   ],
   "metadata": {}
  }
 ],
 "metadata": {
  "kernelspec": {
   "display_name": "Python 3",
   "language": "python",
   "name": "python3"
  },
  "language_info": {
   "codemirror_mode": {
    "name": "ipython",
    "version": 3
   },
   "file_extension": ".py",
   "mimetype": "text/x-python",
   "name": "python",
   "nbconvert_exporter": "python",
   "pygments_lexer": "ipython3",
   "version": "3.7.6"
  },
  "toc": {
   "base_numbering": 1,
   "nav_menu": {},
   "number_sections": true,
   "sideBar": true,
   "skip_h1_title": false,
   "title_cell": "Table of Contents",
   "title_sidebar": "Contents",
   "toc_cell": false,
   "toc_position": {},
   "toc_section_display": true,
   "toc_window_display": false
  },
  "varInspector": {
   "cols": {
    "lenName": 16,
    "lenType": 16,
    "lenVar": 40
   },
   "kernels_config": {
    "python": {
     "delete_cmd_postfix": "",
     "delete_cmd_prefix": "del ",
     "library": "var_list.py",
     "varRefreshCmd": "print(var_dic_list())"
    },
    "r": {
     "delete_cmd_postfix": ") ",
     "delete_cmd_prefix": "rm(",
     "library": "var_list.r",
     "varRefreshCmd": "cat(var_dic_list()) "
    }
   },
   "types_to_exclude": [
    "module",
    "function",
    "builtin_function_or_method",
    "instance",
    "_Feature"
   ],
   "window_display": false
  }
 },
 "nbformat": 4,
 "nbformat_minor": 2
}