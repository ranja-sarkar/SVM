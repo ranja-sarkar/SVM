{
 "cells": [
  {
   "cell_type": "code",
   "execution_count": null,
   "metadata": {},
   "outputs": [],
   "source": [
    "#Local URL: http://localhost:8501\n",
    "#Network URL: http://10.0.1.29:8501"
   ]
  },
  {
   "cell_type": "code",
   "execution_count": 1,
   "metadata": {},
   "outputs": [],
   "source": [
    "import streamlit\n",
    "\n",
    "streamlit.write(\"Hello world\")"
   ]
  },
  {
   "cell_type": "code",
   "execution_count": null,
   "metadata": {},
   "outputs": [],
   "source": [
    "\"\"\"Example of generating correlated normally distributed random samples.\"\"\"\n",
    "\n",
    "import numpy as np\n",
    "from scipy.linalg import eigh, cholesky\n",
    "from scipy.stats import norm\n",
    "\n",
    "from pylab import plot, show, axis, subplot, xlabel, ylabel, grid\n",
    "\n",
    "\n",
    "# Choice of cholesky or eigenvector method.\n",
    "method = 'cholesky'\n",
    "#method = 'eigenvectors'\n",
    "\n",
    "num_samples = 400\n",
    "\n",
    "# The desired covariance matrix.\n",
    "r = np.array([\n",
    "        [  3.40, -2.75, -2.00],\n",
    "        [ -2.75,  5.50,  1.50],\n",
    "        [ -2.00,  1.50,  1.25]\n",
    "    ])\n",
    "\n",
    "# Generate samples from three independent normally distributed random\n",
    "# variables (with mean 0 and std. dev. 1).\n",
    "x = norm.rvs(size=(3, num_samples))\n",
    "\n",
    "# We need a matrix `c` for which `c*c^T = r`.  We can use, for example,\n",
    "# the Cholesky decomposition, or the we can construct `c` from the\n",
    "# eigenvectors and eigenvalues.\n",
    "\n",
    "if method == 'cholesky':\n",
    "    # Compute the Cholesky decomposition.\n",
    "    c = cholesky(r, lower=True)\n",
    "else:\n",
    "    # Compute the eigenvalues and eigenvectors.\n",
    "    evals, evecs = eigh(r)\n",
    "    # Construct c, so c*c^T = r.\n",
    "    c = np.dot(evecs, np.diag(np.sqrt(evals)))\n",
    "\n",
    "# Convert the data to correlated random variables. \n",
    "y = np.dot(c, x)\n",
    "\n",
    "#\n",
    "# Plot various projections of the samples.\n",
    "#\n",
    "subplot(2,2,1)\n",
    "plot(y[0], y[1], 'b.')\n",
    "ylabel('y[1]')\n",
    "axis('equal')\n",
    "grid(True)\n",
    "\n",
    "subplot(2,2,3)\n",
    "plot(y[0], y[2], 'b.')\n",
    "xlabel('y[0]')\n",
    "ylabel('y[2]')\n",
    "axis('equal')\n",
    "grid(True)\n",
    "\n",
    "subplot(2,2,4)\n",
    "plot(y[1], y[2], 'b.')\n",
    "xlabel('y[1]')\n",
    "axis('equal')\n",
    "grid(True)\n",
    "\n",
    "show()"
   ]
  },
  {
   "cell_type": "code",
   "execution_count": 1,
   "metadata": {},
   "outputs": [],
   "source": [
    "import numpy\n",
    "numpy.__version__"
   ]
  },
  {
   "cell_type": "code",
   "execution_count": 1,
   "metadata": {},
   "outputs": [],
   "source": [
    "from PyPDF2 import PdfFileReader, PdfFileWriter\n",
    "\n",
    "infile = PdfFileReader(\"Experimental studies on CO2 corrosion of rubber materials.pdf\", 'rb')\n",
    "pdfwriter = PdfFileWriter()\n",
    "\n",
    "for i in range(4, 7):\n",
    "    page = infile.getPage(i)\n",
    "    pdfwriter.addPage(page)\n",
    "\n",
    "with open('Dajiang Zhu et al_Experimental studies on CO2 corrosion of rubber materials.pdf', 'wb') as fh:\n",
    "    pdfwriter.write(fh)"
   ]
  }
 ],
 "metadata": {
  "interpreter": {
   "hash": "af8b93295ec152667600696eebafdfb1a6679e79e15871d01906b24cd0cc4b31"
  },
  "kernelspec": {
   "display_name": "Python 3",
   "language": "python",
   "name": "python3"
  },
  "language_info": {
   "codemirror_mode": {
    "name": "ipython",
    "version": 3
   },
   "file_extension": ".py",
   "mimetype": "text/x-python",
   "name": "python",
   "nbconvert_exporter": "python",
   "pygments_lexer": "ipython3",
   "version": "3.7.6"
  },
  "toc": {
   "base_numbering": 1,
   "nav_menu": {},
   "number_sections": true,
   "sideBar": true,
   "skip_h1_title": false,
   "title_cell": "Table of Contents",
   "title_sidebar": "Contents",
   "toc_cell": false,
   "toc_position": {},
   "toc_section_display": true,
   "toc_window_display": false
  },
  "varInspector": {
   "cols": {
    "lenName": 16,
    "lenType": 16,
    "lenVar": 40
   },
   "kernels_config": {
    "python": {
     "delete_cmd_postfix": "",
     "delete_cmd_prefix": "del ",
     "library": "var_list.py",
     "varRefreshCmd": "print(var_dic_list())"
    },
    "r": {
     "delete_cmd_postfix": ") ",
     "delete_cmd_prefix": "rm(",
     "library": "var_list.r",
     "varRefreshCmd": "cat(var_dic_list()) "
    }
   },
   "types_to_exclude": [
    "module",
    "function",
    "builtin_function_or_method",
    "instance",
    "_Feature"
   ],
   "window_display": false
  }
 },
 "nbformat": 4,
 "nbformat_minor": 4
}
