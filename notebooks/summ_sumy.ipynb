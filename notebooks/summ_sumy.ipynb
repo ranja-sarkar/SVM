{
 "cells": [
  {
   "cell_type": "code",
   "execution_count": 1,
   "metadata": {},
   "outputs": [],
   "source": [
    "import warnings\n",
    "warnings.filterwarnings(\"ignore\")\n",
    "import PyPDF2\n",
    "\n",
    "import sumy\n",
    "from sumy.parsers.plaintext import PlaintextParser\n",
    "from sumy.nlp.tokenizers import Tokenizer\n",
    "import re"
   ]
  },
  {
   "cell_type": "code",
   "execution_count": 8,
   "metadata": {},
   "outputs": [],
   "source": [
    "filepath = \"Ender_Process engineering training course M&C II.PDF\"\n",
    "pdfFileObj = open(filepath, 'rb') \n",
    "pdfreader = PyPDF2.PdfFileReader(pdfFileObj) \n",
    "count = pdfreader.numPages\n",
    "\n",
    "text = ''\n",
    "#text = []\n",
    "for j in range(count):\n",
    "    page = pdfreader.getPage(j)\n",
    "    pp = page.extractText()\n",
    "#    text.append(pp)\n",
    "    text = text + pp\n",
    "        "
   ]
  },
  {
   "cell_type": "code",
   "execution_count": 9,
   "metadata": {},
   "outputs": [],
   "source": [
    "text = re.sub(r\"[0-9]+\", 'x', text)\n",
    "#text = re.sub(r\"[^a-zA-Z0-9\\s]\", '', text)\n",
    "\n",
    "parser = PlaintextParser.from_string(text, Tokenizer(language = \"english\"))"
   ]
  },
  {
   "cell_type": "code",
   "execution_count": null,
   "metadata": {},
   "outputs": [],
   "source": [
    "#ALGORITHMS\n",
    "## **Luhn – heurestic method**\n",
    "## **Latent Semantic Analysis (LSA)**\n",
    "## **LexRank – Unsupervised approach inspired by algorithms PageRank and HITS**\n"
   ]
  },
  {
   "cell_type": "markdown",
   "metadata": {},
   "source": [
    "# Using LexRank:graph-based centrality scoring of sentences, similarity of one sentence to many others"
   ]
  },
  {
   "cell_type": "code",
   "execution_count": null,
   "metadata": {},
   "outputs": [],
   "source": [
    "#from sumy.summarizers.lex_rank import LexRankSummarizer\n",
    "\n",
    "##summarizer = LexRankSummarizer()\n",
    "#Summarize the document with 3 sentences\n",
    "##summary = summarizer(parser.document, 3)\n",
    "##print(summary)"
   ]
  },
  {
   "cell_type": "markdown",
   "metadata": {},
   "source": [
    "# Using Luhn: importance of words by frequency "
   ]
  },
  {
   "cell_type": "code",
   "execution_count": null,
   "metadata": {},
   "outputs": [],
   "source": [
    "##from sumy.summarizers.luhn import LuhnSummarizer\n",
    "\n",
    "##summarizer_luhn = LuhnSummarizer()\n",
    "##summary = summarizer_luhn(parser.document, 2)\n",
    "##print(summary)\n",
    "\n",
    "##for sentence in summary:\n",
    "##    print(sentence)\n",
    "    "
   ]
  },
  {
   "cell_type": "markdown",
   "metadata": {},
   "source": [
    "# Using LSA: term frequency techniques with SVD to summarize texts"
   ]
  },
  {
   "cell_type": "code",
   "execution_count": 11,
   "metadata": {},
   "outputs": [
    {
     "name": "stdout",
     "output_type": "stream",
     "text": [
      "tJ , ot wi\" x .. ŁŁ \"'h i .... t':OW'AN'i..\n"
     ]
    }
   ],
   "source": [
    "from sumy.summarizers.lsa import LsaSummarizer\n",
    "\n",
    "summarizer_lsa = LsaSummarizer()\n",
    "summary = summarizer_lsa(parser.document, 2)\n",
    "#print(summary)\n",
    "\n",
    "#ll = []\n",
    "#for i in range(0, 2):\n",
    "#    ll.append(summary[i])\n",
    "#    print(ll[i])\n",
    "\n",
    "txtsum = ' '.join(str(sentences) for sentences in summary) + '.'\n",
    "print(txtsum)"
   ]
  },
  {
   "cell_type": "code",
   "execution_count": null,
   "metadata": {},
   "outputs": [],
   "source": [
    "#from sumy.nlp.stemmers import Stemmer\n",
    "#from sumy.utils import get_stop_words\n",
    "\n",
    "#summarizer_lsa2 = LsaSummarizer()\n",
    "#summarizer_lsa2 = LsaSummarizer(Stemmer(\"english\"))\n",
    "#summarizer_lsa2.stop_words = get_stop_words(\"english\")\n",
    "#summary = summarizer_lsa2(parser.document, 2)\n",
    "\n",
    "#for sentence in summary:\n",
    "#    print(sentence)\n"
   ]
  },
  {
   "cell_type": "markdown",
   "metadata": {},
   "source": [
    "# Using TextRank"
   ]
  },
  {
   "cell_type": "code",
   "execution_count": null,
   "metadata": {},
   "outputs": [],
   "source": [
    "##from sumy.summarizers.text_rank import TextRankSummarizer\n",
    "\n",
    "##summarizer = TextRankSummarizer()\n",
    "##summary = summarizer(parser.document,2)\n",
    "\n",
    "##for sentence in summary:\n",
    "##    print(sentence)\n",
    "    \n",
    "#txtsum = ' '.join(str(sentences) for sentences in summary) + '.'\n",
    "#print(txtsum)"
   ]
  },
  {
   "cell_type": "code",
   "execution_count": null,
   "metadata": {},
   "outputs": [],
   "source": []
  },
  {
   "cell_type": "code",
   "execution_count": null,
   "metadata": {},
   "outputs": [],
   "source": []
  }
 ],
 "metadata": {
  "kernelspec": {
   "display_name": "Python 3",
   "language": "python",
   "name": "python3"
  },
  "language_info": {
   "codemirror_mode": {
    "name": "ipython",
    "version": 3
   },
   "file_extension": ".py",
   "mimetype": "text/x-python",
   "name": "python",
   "nbconvert_exporter": "python",
   "pygments_lexer": "ipython3",
   "version": "3.7.6"
  }
 },
 "nbformat": 4,
 "nbformat_minor": 4
}
