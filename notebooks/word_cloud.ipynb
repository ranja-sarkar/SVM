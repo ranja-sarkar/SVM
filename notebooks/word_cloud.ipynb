{
 "cells": [
  {
   "cell_type": "code",
   "execution_count": null,
   "metadata": {},
   "outputs": [],
   "source": [
    "import dash\n",
    "import dash.dependencies as dd\n",
    "import dash_core_components as dcc\n",
    "import dash_html_components as html\n",
    "from io import BytesIO\n",
    "import pandas as pd\n",
    "from wordcloud import WordCloud\n",
    "import base64\n",
    "\n",
    "# external_stylesheets = ['https://codepen.io/chriddyp/pen/bWLwgP.css']\n",
    "\n",
    "app = dash.Dash(__name__) #, external_stylesheets=external_stylesheets)\n",
    "\n",
    "#dfm = pd.DataFrame({'word': ['apple', 'pear', 'orange'], 'freq': [1, 3, 9]})\n",
    "dff = pd.read_excel('DP_qual.xlsx')\n",
    "ref = dff['Polymer']\n",
    "dfm = pd.DataFrame(ref, ref.value_counts())\n",
    "\n",
    "#interface design\n",
    "colors = {'background': '#FFD500', 'text': '#ED1C24'}\n",
    "app.layout = html.Div([html.H3('Dominant ones in the database', style = {'color': colors['text'], 'backgroundColor': colors['background']}),\n",
    "                      html.Img(id = \"image_wc\")], \n",
    "                       style = {'textAlign': 'center', 'font-family': 'futura medium', 'font-size': '20px'}\n",
    "                     )\n",
    "\n",
    "def plot_wordcloud(data):\n",
    "#    d = {a: x for a, x in data.values}\n",
    "    d = ref.value_counts()\n",
    "    wc = WordCloud(background_color = 'white', width = 500, height = 350) \n",
    "    wc.fit_words(d)\n",
    "    return wc.to_image()\n",
    "\n",
    "@app.callback(dd.Output('image_wc', 'src'), [dd.Input('image_wc', 'id')])\n",
    "def make_image(b):\n",
    "    img = BytesIO()\n",
    "    plot_wordcloud(data = dfm).save(img, format = 'PNG')\n",
    "    return 'data:image/png;base64,{}'.format(base64.b64encode(img.getvalue()).decode())\n",
    "\n",
    "if __name__ == '__main__':\n",
    "    app.run_server(debug = False)\n",
    "\n"
   ]
  },
  {
   "cell_type": "code",
   "execution_count": 1,
   "metadata": {},
   "outputs": [],
   "source": [
    "import dash"
   ]
  },
  {
   "cell_type": "code",
   "execution_count": 2,
   "metadata": {},
   "outputs": [
    {
     "data": {
      "text/plain": [
       "'1.14.0'"
      ]
     },
     "execution_count": 2,
     "metadata": {},
     "output_type": "execute_result"
    }
   ],
   "source": [
    "dash.__version__"
   ]
  }
 ],
 "metadata": {
  "kernelspec": {
   "display_name": "Python 3",
   "language": "python",
   "name": "python3"
  },
  "language_info": {
   "codemirror_mode": {
    "name": "ipython",
    "version": 3
   },
   "file_extension": ".py",
   "mimetype": "text/x-python",
   "name": "python",
   "nbconvert_exporter": "python",
   "pygments_lexer": "ipython3",
   "version": "3.7.6"
  },
  "toc": {
   "base_numbering": 1,
   "nav_menu": {},
   "number_sections": true,
   "sideBar": true,
   "skip_h1_title": false,
   "title_cell": "Table of Contents",
   "title_sidebar": "Contents",
   "toc_cell": false,
   "toc_position": {},
   "toc_section_display": true,
   "toc_window_display": false
  },
  "varInspector": {
   "cols": {
    "lenName": 16,
    "lenType": 16,
    "lenVar": 40
   },
   "kernels_config": {
    "python": {
     "delete_cmd_postfix": "",
     "delete_cmd_prefix": "del ",
     "library": "var_list.py",
     "varRefreshCmd": "print(var_dic_list())"
    },
    "r": {
     "delete_cmd_postfix": ") ",
     "delete_cmd_prefix": "rm(",
     "library": "var_list.r",
     "varRefreshCmd": "cat(var_dic_list()) "
    }
   },
   "types_to_exclude": [
    "module",
    "function",
    "builtin_function_or_method",
    "instance",
    "_Feature"
   ],
   "window_display": false
  }
 },
 "nbformat": 4,
 "nbformat_minor": 4
}
