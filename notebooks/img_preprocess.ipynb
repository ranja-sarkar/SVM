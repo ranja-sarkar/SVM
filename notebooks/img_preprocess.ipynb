{
 "cells": [
  {
   "cell_type": "code",
   "execution_count": 29,
   "metadata": {},
   "outputs": [],
   "source": [
    "%matplotlib notebook\n",
    "\n",
    "from PIL import Image\n",
    "from scipy import *\n",
    "from pylab import *\n",
    "\n",
    "im = array(Image.open('COFLON.jpeg'))\n",
    "vr = im.shape[0]\n",
    "hr = im.shape[1]\n",
    "#print(vr, hr, im.shape) #471, 750\n",
    "#imshow(im)"
   ]
  },
  {
   "cell_type": "code",
   "execution_count": null,
   "metadata": {},
   "outputs": [],
   "source": [
    "%matplotlib notebook\n",
    "\n",
    "from PIL import Image\n",
    "from scipy import *\n",
    "from pylab import *\n",
    "\n",
    "im = array(Image.open('C:/Users/Ranja.Sarkar/test2.jpg'))\n",
    "imshow(im) \n",
    "\n",
    "vr = im.shape[0]\n",
    "hr = im.shape[1]\n",
    "#print(im.shape, vr, hr) #(645, 1024)\n",
    "\n",
    "#HNBR1.jpg"
   ]
  },
  {
   "cell_type": "code",
   "execution_count": null,
   "metadata": {},
   "outputs": [],
   "source": [
    "%matplotlib notebook\n",
    "\n",
    "from PIL import Image\n",
    "from scipy import *\n",
    "from pylab import *\n",
    "\n",
    "im = array(Image.open('C:/Users/Ranja.Sarkar/test3.jpg'))\n",
    "imshow(im)  \n",
    "\n",
    "vr = im.shape[0]\n",
    "hr = im.shape[1]\n",
    "#print(im.shape, vr, hr) #(645, 1024)\n",
    "\n",
    "#HNBR2.jpg"
   ]
  },
  {
   "cell_type": "code",
   "execution_count": null,
   "metadata": {},
   "outputs": [],
   "source": [
    "%matplotlib notebook\n",
    "\n",
    "from PIL import Image\n",
    "from scipy import *\n",
    "from pylab import *\n",
    "\n",
    "im = array(Image.open('C:/Users/Ranja.Sarkar/PVDF.jpg'))\n",
    "imshow(im)   \n",
    "\n",
    "#vr = im.shape[0]\n",
    "#hr = im.shape[1]\n"
   ]
  },
  {
   "cell_type": "code",
   "execution_count": null,
   "metadata": {},
   "outputs": [],
   "source": [
    "%matplotlib notebook\n",
    "\n",
    "from PIL import Image\n",
    "from scipy import *\n",
    "from pylab import *\n",
    "\n",
    "im = array(Image.open('C:/Users/Ranja.Sarkar/PTFE.jpg'))\n",
    "imshow(im) \n",
    "\n",
    "#vr = im.shape[0]\n",
    "#hr = im.shape[1]  \n"
   ]
  },
  {
   "cell_type": "code",
   "execution_count": 21,
   "metadata": {},
   "outputs": [],
   "source": [
    "pytesseract.pytesseract.tesseract_cmd = r\"C:\\Users\\Ranja.Sarkar\\AppData\\Local\\Tesseract-OCR\\tesseract.exe\""
   ]
  },
  {
   "cell_type": "code",
   "execution_count": 47,
   "metadata": {},
   "outputs": [],
   "source": [
    "from PIL import Image\n",
    "#import Image\n",
    "import pytesseract\n",
    "\n",
    "def ocr_core(filename):\n",
    "    \"\"\"\n",
    "    This function will handle the core OCR processing of images\n",
    "    \"\"\"\n",
    "    # Pillow's Image class opens the image, pytesseract detects the string in the image\n",
    "    img = Image.open(filename)\n",
    "    text = pytesseract.image_to_string(img)   \n",
    "    custom_config = r'-c tessedit_char_whitelist=0123456789. --oem 3 --psm 6 outputbase digits'\n",
    "    text1 = pytesseract.image_to_string(img, config = custom_config)\n",
    "    return text\n"
   ]
  },
  {
   "cell_type": "code",
   "execution_count": 48,
   "metadata": {},
   "outputs": [
    {
     "name": "stdout",
     "output_type": "stream",
     "text": [
      "Volume swell [%]\n",
      "\n",
      "14\n",
      "\n",
      "12\n",
      "\n",
      "10\n",
      "\n",
      " \n",
      "\n",
      " \n",
      "\n",
      " \n",
      "\n",
      " \n",
      "\n",
      " \n",
      "\n",
      " \n",
      "\n",
      " \n",
      "\n",
      " \n",
      "\n",
      "8\n",
      "6 | ------------------------------------------------------------------------\n",
      "a\n",
      "4\n",
      "2\n",
      "°\n",
      "0\n",
      "0 20 40 60 80 100 120 140 160 180 200\n",
      "\n",
      "Pressure [bar]\n",
      "\f",
      "\n"
     ]
    }
   ],
   "source": [
    "print(ocr_core(\"PVDF.jpg\"))"
   ]
  },
  {
   "cell_type": "code",
   "execution_count": 49,
   "metadata": {},
   "outputs": [],
   "source": [
    "#import PIL\n",
    "from PIL import Image\n",
    "\n",
    "def convert_pdf_2_image(uploaded_image):\n",
    "#    project_dir = os.getcwd()\n",
    "#    os.chdir(uploaded_image_path)\n",
    "    filename = str(uploaded_image).replace('.pdf','')\n",
    "    output_file = filename + '.jpg'\n",
    "    pages = convert_from_path(uploaded_image, 200)\n",
    "    for page in pages:\n",
    "        page.save(output_file, 'jpeg')\n",
    "        break\n",
    "#    os.chdir(project_dir)\n",
    "    img = Image.open(output_file)\n",
    "    img.save(output_file)\n",
    "    return output_file"
   ]
  },
  {
   "cell_type": "code",
   "execution_count": null,
   "metadata": {},
   "outputs": [],
   "source": []
  }
 ],
 "metadata": {
  "kernelspec": {
   "display_name": "Python 3",
   "language": "python",
   "name": "python3"
  },
  "language_info": {
   "codemirror_mode": {
    "name": "ipython",
    "version": 3
   },
   "file_extension": ".py",
   "mimetype": "text/x-python",
   "name": "python",
   "nbconvert_exporter": "python",
   "pygments_lexer": "ipython3",
   "version": "3.7.6"
  },
  "toc": {
   "base_numbering": 1,
   "nav_menu": {},
   "number_sections": true,
   "sideBar": true,
   "skip_h1_title": false,
   "title_cell": "Table of Contents",
   "title_sidebar": "Contents",
   "toc_cell": false,
   "toc_position": {},
   "toc_section_display": true,
   "toc_window_display": false
  },
  "varInspector": {
   "cols": {
    "lenName": 16,
    "lenType": 16,
    "lenVar": 40
   },
   "kernels_config": {
    "python": {
     "delete_cmd_postfix": "",
     "delete_cmd_prefix": "del ",
     "library": "var_list.py",
     "varRefreshCmd": "print(var_dic_list())"
    },
    "r": {
     "delete_cmd_postfix": ") ",
     "delete_cmd_prefix": "rm(",
     "library": "var_list.r",
     "varRefreshCmd": "cat(var_dic_list()) "
    }
   },
   "types_to_exclude": [
    "module",
    "function",
    "builtin_function_or_method",
    "instance",
    "_Feature"
   ],
   "window_display": false
  }
 },
 "nbformat": 4,
 "nbformat_minor": 2
}
