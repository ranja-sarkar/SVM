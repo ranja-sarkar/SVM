{
 "cells": [
  {
   "cell_type": "code",
   "execution_count": 1,
   "metadata": {},
   "outputs": [],
   "source": [
    "import pandas as pd\n",
    "import numpy as np"
   ]
  },
  {
   "cell_type": "code",
   "execution_count": 2,
   "metadata": {},
   "outputs": [
    {
     "name": "stdout",
     "output_type": "stream",
     "text": [
      "    X   Y  Z\n",
      "0  20  60  6\n",
      "1  40  40  6\n",
      "2  60  22  2\n",
      "3  80  22  2\n"
     ]
    }
   ],
   "source": [
    "df = pd.DataFrame({\n",
    "    'X': np.array([20, 40, 60, 80]),\n",
    "    'Y': np.array([60, 40, 22, 22]),\n",
    "    'Z': np.array([6, 6, 2, 2])})\n",
    "\n",
    "print(df)"
   ]
  },
  {
   "cell_type": "code",
   "execution_count": 8,
   "metadata": {},
   "outputs": [
    {
     "name": "stdout",
     "output_type": "stream",
     "text": [
      "Y   22  40  60\n",
      "X             \n",
      "20   0   0   6\n",
      "40   0   6   0\n",
      "60   2   0   0\n",
      "80   2   0   0\n"
     ]
    }
   ],
   "source": [
    "dff = df.pivot_table(index = 'X', columns = 'Y', values = 'Z', fill_value = 0)\n",
    "print(dff)\n",
    "\n",
    "#df.groupby(['Concentration','Temperature'])['Resistance'].first().unstack()\n",
    "\n",
    "#df.index.values\n",
    "#df.columns.values\n",
    "#df.values"
   ]
  },
  {
   "cell_type": "code",
   "execution_count": null,
   "metadata": {},
   "outputs": [],
   "source": [
    "#df['key'] = df.groupby(['Concentration', 'Temperature']).cumcount()\n",
    "#pp = df.pivot_table(index = ['key', 'Concentration', 'Temperature'], columns = 'Concentration', values = 'Resistance', fill_value = 0).reset_index()\n",
    "#pp"
   ]
  },
  {
   "cell_type": "code",
   "execution_count": 9,
   "metadata": {},
   "outputs": [
    {
     "data": {
      "text/plain": [
       "{(20, 60): 6, (40, 40): 6, (60, 22): 2, (80, 22): 2}"
      ]
     },
     "execution_count": 9,
     "metadata": {},
     "output_type": "execute_result"
    }
   ],
   "source": [
    "dic_matrix = pd.Series(df.Z.values, index = [df.X, df.Y]).to_dict()\n",
    "dic_matrix"
   ]
  },
  {
   "cell_type": "code",
   "execution_count": 10,
   "metadata": {},
   "outputs": [
    {
     "data": {
      "text/plain": [
       "[((20, 60), 6), ((40, 40), 6), ((60, 22), 2), ((80, 22), 2)]"
      ]
     },
     "execution_count": 10,
     "metadata": {},
     "output_type": "execute_result"
    }
   ],
   "source": [
    "list = [(k, v) for k, v in dic_matrix.items()]\n",
    "list"
   ]
  },
  {
   "cell_type": "code",
   "execution_count": null,
   "metadata": {},
   "outputs": [],
   "source": [
    "from typing import Tuple\n",
    "from IPython import get_ipython\n",
    "import matplotlib.pyplot as plt\n",
    "import pandas as pd\n",
    "import numpy as np\n",
    "import copy\n",
    "\n",
    "\n",
    "def pivoting(df: pd.DataFrame) -> pd.DataFrame:\n",
    "    \"\"\"Pivoting function to reshape DataFrame with columns\n",
    "    ['Temperature', 'Concentration', 'Resistance']\n",
    "    from long to wide format.\n",
    "    Args:\n",
    "        df (pd.DataFrame): Given DataFrame in long format.\n",
    "    Returns:\n",
    "        pd.DataFrame: Final DataFrame in wide format, NANs filled with zeros\n",
    "                      and index sorted.\n",
    "    \"\"\"\n",
    "    df2 = (df.pivot('Temperature', 'Concentration', 'Resistance')\n",
    "             .reindex(sorted(set(df['Concentration'])), axis=1)\n",
    "             .fillna(0)\n",
    "             .astype(int)\n",
    "             .sort_index(axis=0, ascending=False))\n",
    "    return df2\n",
    "\n",
    "\n",
    "def check_matrix(mat: np.array, conc: list, temp: list) -> Tuple[np.array, list, list]:\n",
    "    \"\"\"The function checks if the given matrix (nxm) has dimension\n",
    "    1xm or nx1. If so it adds one column or row filled with zeros,\n",
    "    respectively. It also make sure that this values are added to\n",
    "    the concentration and temperature lists.\n",
    "    Args:\n",
    "        mat (np.array): Given matrix.\n",
    "        conc (list): List of given concentrations.\n",
    "        temp (list): List of given temperatures.\n",
    "    Returns:\n",
    "        Tuple[np.array, list, list]: Three variable (final matrix, list of concs, list of temps)\n",
    "    \"\"\"\n",
    "    final_mat = copy.deepcopy(mat)\n",
    "    if final_mat.shape[0] == 1:\n",
    "        temp[len(temp)] = 0\n",
    "        new_mat = np.zeros(mat.shape[1])\n",
    "        final_mat = np.vstack([final_mat, new_mat])\n",
    "    if final_mat.shape[1] == 1:\n",
    "        conc[len(conc)] = 0\n",
    "        new_mat = np.zeros(final_mat.shape[0]).reshape(-1, 1)\n",
    "        final_mat = np.hstack([new_mat, final_mat])\n",
    "    return final_mat, conc, temp\n",
    "\n",
    "\n",
    "def prepare_matrix(mat: np.array) -> np.array:\n",
    "    \"\"\"Function that fills zeros in given matrix if:\n",
    "    1. There is a higher value (to the right) in the row with zero checked.\n",
    "    2. There is a higher value (above) in the column with zero checked.\n",
    "    If both conditions are met, the higher value is chosen.\n",
    "    Args:\n",
    "        mat (np.array): Given matrix with zeros.\n",
    "    Returns:\n",
    "        np.array: Final matrix with some zeros filled.\n",
    "    \"\"\"\n",
    "    mat_final = copy.deepcopy(mat)\n",
    "    zero_indices = np.where(mat_final == 0)\n",
    "    for i, j in zip(zero_indices[0], zero_indices[1]):\n",
    "        if (max(mat_final[i, j:]) > mat_final[i, j]) and (max(mat_final[i, j:]) > max(mat_final[:i+1, j])):\n",
    "            mat_final[i, j] = max(mat_final[i, j:])\n",
    "        elif max(mat_final[:i+1, j]) > mat_final[i, j]:\n",
    "            mat_final[i, j] = max(mat_final[:i+1, j])\n",
    "    return mat_final\n",
    "\n",
    "\n",
    "# %%\n",
    "get_ipython().run_line_magic('matplotlib', 'inline')\n",
    "\n",
    "# Plotting function\n",
    "def plot(mat, conc, temp):\n",
    "    levels = np.linspace(0, 10)\n",
    "    img = plt.contourf(mat, extent = [min(conc), max(conc), max(temp), min(temp)], levels = levels, cmap = 'RdYlGn')\n",
    "    #plt.grid()\n",
    "    bounds = [0, 1, 2, 3, 4, 5, 6, 7, 8, 9, 10]\n",
    "    #pylab.colorbar(ticks = bounds)\n",
    "    plt.colorbar(img, ticks = bounds, label = 'Chemical Resistance')\n",
    "    #plt.clim(0,10)\n",
    "    plt.xlabel('Concentration (vol%)', fontsize = 12.0)\n",
    "    plt.ylabel('Temperature (C)', fontsize = 12.0)\n",
    "\n",
    "\n",
    "df = pd.read_excel('test_cases.xlsx', sheet_name = 'test1')\n",
    "n = len(df)\n",
    "conc = df['Concentration']\n",
    "temp = df['Temperature']\n",
    "\n",
    "df2 = pivoting(df)\n",
    "mat = df2.to_numpy()\n",
    "mat, conc, temp = check_matrix(mat, conc, temp)\n",
    "mat = prepare_matrix(mat)\n",
    "plot(mat, conc, temp)\n",
    "\n",
    "\n",
    "df = pd.read_csv('test2.csv')\n",
    "n = len(df)\n",
    "conc = df['Concentration']\n",
    "temp = df['Temperature']\n",
    "\n",
    "df2 = pivoting(df)\n",
    "mat = df2.to_numpy()\n",
    "mat, conc, temp = check_matrix(mat, conc, temp)\n",
    "mat = prepare_matrix(mat)\n",
    "plot(mat, conc, temp)\n",
    "\n",
    "\n",
    "df = pd.read_csv('test3.csv')\n",
    "n = len(df)\n",
    "conc = df['Concentration']\n",
    "temp = df['Temperature']\n",
    "\n",
    "df2 = pivoting(df)\n",
    "mat = df2.to_numpy()\n",
    "mat, conc, temp = check_matrix(mat, conc, temp)\n",
    "mat = prepare_matrix(mat)\n",
    "plot(mat, conc, temp)\n",
    "\n",
    "df = pd.read_csv('test4.csv')\n",
    "n = len(df)\n",
    "conc = df['Concentration']\n",
    "temp = df['Temperature']\n",
    "\n",
    "df2 = pivoting(df)\n",
    "mat = df2.to_numpy()\n",
    "mat, conc, temp = check_matrix(mat, conc, temp)\n",
    "mat = prepare_matrix(mat)\n",
    "plot(mat, conc, temp)\n",
    "\n",
    "df = pd.read_csv('test5.csv')\n",
    "n = len(df)\n",
    "conc = df['Concentration']\n",
    "temp = df['Temperature']\n",
    "\n",
    "df2 = pivoting(df)\n",
    "mat = df2.to_numpy()\n",
    "mat, conc, temp = check_matrix(mat, conc, temp)\n",
    "mat = prepare_matrix(mat)\n",
    "plot(mat, conc, temp)"
   ]
  },
  {
   "cell_type": "code",
   "execution_count": null,
   "metadata": {},
   "outputs": [],
   "source": []
  }
 ],
 "metadata": {
  "interpreter": {
   "hash": "af8b93295ec152667600696eebafdfb1a6679e79e15871d01906b24cd0cc4b31"
  },
  "kernelspec": {
   "display_name": "Python 3.7.6 64-bit ('base': conda)",
   "name": "python3"
  },
  "language_info": {
   "codemirror_mode": {
    "name": "ipython",
    "version": 3
   },
   "file_extension": ".py",
   "mimetype": "text/x-python",
   "name": "python",
   "nbconvert_exporter": "python",
   "pygments_lexer": "ipython3",
   "version": "3.7.6"
  }
 },
 "nbformat": 4,
 "nbformat_minor": 2
}
