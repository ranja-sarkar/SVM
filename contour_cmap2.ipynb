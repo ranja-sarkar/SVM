{
 "cells": [
  {
   "cell_type": "code",
   "execution_count": 1,
   "metadata": {},
   "outputs": [],
   "source": [
    "import pandas as pd\n",
    "import numpy as np\n",
    "import matplotlib.pyplot as plt"
   ]
  },
  {
   "cell_type": "code",
   "execution_count": null,
   "metadata": {},
   "outputs": [],
   "source": []
  },
  {
   "cell_type": "code",
   "execution_count": null,
   "metadata": {},
   "outputs": [],
   "source": [
    "df = pd.read_excel('CCS_qual.xlsx', 0)\n",
    "df.head()"
   ]
  },
  {
   "cell_type": "code",
   "execution_count": null,
   "metadata": {},
   "outputs": [],
   "source": [
    "exp = df['Chemical Component']\n",
    "exp_med = exp.values\n",
    "em = exp.unique()\n",
    "em.any()"
   ]
  },
  {
   "cell_type": "code",
   "execution_count": null,
   "metadata": {},
   "outputs": [],
   "source": [
    "#df[['Resistance']].values"
   ]
  },
  {
   "cell_type": "markdown",
   "metadata": {},
   "source": [
    "# TEST case 1: Temperature doesn't vary"
   ]
  },
  {
   "cell_type": "code",
   "execution_count": null,
   "metadata": {},
   "outputs": [],
   "source": [
    "df = pd.read_excel('test.xlsx', 0)\n",
    "n = len(df)\n",
    "df.iloc[0:n,:]"
   ]
  },
  {
   "cell_type": "code",
   "execution_count": null,
   "metadata": {},
   "outputs": [],
   "source": [
    "#df = pd.DataFrame(df[[\"Concentration\", \"Temperature\", \"Resistance\"]].values)\n",
    "#df['Exp Medium'].unique()\n",
    "max(df['Concentration'])"
   ]
  },
  {
   "cell_type": "code",
   "execution_count": null,
   "metadata": {},
   "outputs": [],
   "source": [
    "df = df.sort_values('Concentration', axis = 0, ascending = True)\n",
    "df"
   ]
  },
  {
   "cell_type": "code",
   "execution_count": null,
   "metadata": {},
   "outputs": [],
   "source": [
    "conc = df['Concentration'].values\n",
    "temp = df['Temperature'].values\n",
    "res = df['Resistance'].values\n",
    "print(conc[1])"
   ]
  },
  {
   "cell_type": "code",
   "execution_count": null,
   "metadata": {},
   "outputs": [],
   "source": [
    "mapping = {(x, y): z for (x, y, z) in df[[\"Concentration\", \"Temperature\", \"Resistance\"]].values}\n",
    "\n",
    "mat = np.zeros((n, n))\n",
    "\n",
    "for i, x in np.ndenumerate(df[\"Concentration\"]):\n",
    "    for j, y in np.ndenumerate(df[\"Temperature\"]):\n",
    "        mat[j, i] = mapping.get((x, y))\n",
    "        \n",
    "#print(mapping.get((x,y)))\n",
    "print(mat)"
   ]
  },
  {
   "cell_type": "code",
   "execution_count": null,
   "metadata": {},
   "outputs": [],
   "source": [
    "conc = df['Concentration']\n",
    "temp = df['Temperature']\n",
    "res = df['Resistance']\n",
    "\n",
    "#print(min(conc), max(conc), max(temp))\n",
    "#dataset = pd.DataFrame({'Concentration': np.array([min(conc), max(conc)]), \n",
    "#                         'Temperature': np.array([min(temp), max(temp)]), 'Resistance': np.array([0, max(res)])})\n",
    "\n",
    "#dataset['Resistance'].values"
   ]
  },
  {
   "cell_type": "code",
   "execution_count": null,
   "metadata": {},
   "outputs": [],
   "source": [
    "%matplotlib inline\n",
    "\n",
    "levels = np.linspace(0, 10)\n",
    "img = plt.contourf(mat, extent = [min(conc), max(conc), max(temp), 0], levels = levels, cmap = 'RdYlGn')\n",
    "bounds = [0, 1, 2, 3, 4, 5, 6, 7, 8, 9, 10]\n",
    "#pylab.colorbar(ticks = bounds)\n",
    "\n",
    "plt.colorbar(img, ticks = bounds, label = 'Chemical Resistance')\n",
    "plt.xlabel('Concentration (vol%)', fontsize = 10.0)\n",
    "plt.ylabel('Temperature (C)', fontsize = 10.0)\n",
    "#plt.title('')\n",
    "plt.grid()\n",
    "plt.show()"
   ]
  },
  {
   "cell_type": "markdown",
   "metadata": {},
   "source": [
    "# TEST case 2: Temp doesn't vary, no data at lower conc., data at higher conc"
   ]
  },
  {
   "cell_type": "code",
   "execution_count": null,
   "metadata": {},
   "outputs": [],
   "source": [
    "df = pd.read_excel('test4.xlsx', 2)\n",
    "n = len(df)\n",
    "\n",
    "df.iloc[0:n,:]"
   ]
  },
  {
   "cell_type": "code",
   "execution_count": null,
   "metadata": {},
   "outputs": [],
   "source": [
    "df = df.sort_values('Concentration', axis = 0, ascending = True)\n",
    "df"
   ]
  },
  {
   "cell_type": "code",
   "execution_count": null,
   "metadata": {},
   "outputs": [],
   "source": [
    "mapping = {(x, y): z for (x, y, z) in df[[\"Concentration\", \"Temperature\", \"Resistance\"]].values}\n",
    "\n",
    "mat = np.zeros((n, n))\n",
    "\n",
    "conc = df.Concentration\n",
    "temp = df.Temperature\n",
    "res = df.Resistance\n",
    "\n",
    "for i, x in np.ndenumerate(conc):\n",
    "#    print(x)\n",
    "    for j, y in np.ndenumerate(temp):\n",
    "        mat[j, i] = mapping.get((x, y), 0)\n",
    "        if (x < max(conc)) & (mat[j, i] == 0):\n",
    "            mat[j, i] = max(res)\n",
    "        \n",
    "print(mat)"
   ]
  },
  {
   "cell_type": "code",
   "execution_count": null,
   "metadata": {},
   "outputs": [],
   "source": [
    "#plt.imshow(mat, cmap = '')\n",
    "\n",
    "levels = np.linspace(0, 10)\n",
    "bounds = [0, 1, 2, 3, 4, 5, 6, 7, 8, 9, 10]\n",
    "img = plt.contourf(mat, extent = [min(conc), max(conc), max(temp), 0], levels = levels, cmap = 'RdYlGn')\n",
    "#plt.grid()\n",
    "\n",
    "plt.colorbar(img, ticks = bounds, label = 'Chemical Resistance')\n",
    "\n",
    "plt.xlabel('Concentration (vol%)')\n",
    "plt.ylabel('Temperature (C)')\n",
    "plt.show()"
   ]
  },
  {
   "cell_type": "markdown",
   "metadata": {},
   "source": [
    "# TEST case 3: Single line item"
   ]
  },
  {
   "cell_type": "code",
   "execution_count": null,
   "metadata": {},
   "outputs": [],
   "source": [
    "df = pd.read_excel('test5.xlsx', 0)\n",
    "n = len(df)\n",
    "df.iloc[0:n,:]"
   ]
  },
  {
   "cell_type": "code",
   "execution_count": null,
   "metadata": {},
   "outputs": [],
   "source": [
    "conc = df.Concentration\n",
    "temp = df.Temperature\n",
    "res = df.Resistance"
   ]
  },
  {
   "cell_type": "code",
   "execution_count": null,
   "metadata": {},
   "outputs": [],
   "source": [
    "df = pd.DataFrame({'Concentration': np.array([0, max(conc)]), 'Temperature': np.array([0, max(temp)]), 'Resistance': np.array([max(res), max(res)])})\n",
    "n = len(df)\n",
    "print(df)"
   ]
  },
  {
   "cell_type": "code",
   "execution_count": null,
   "metadata": {},
   "outputs": [],
   "source": [
    "mapping = {(x, y): z for (x, y, z) in df[[\"Concentration\", \"Temperature\", \"Resistance\"]].values}\n",
    "\n",
    "mat = np.zeros((n, n))\n",
    "\n",
    "for i, x in np.ndenumerate(df[\"Concentration\"]):\n",
    "    for j, y in np.ndenumerate(df[\"Temperature\"]):\n",
    "        mat[j, i] = mapping.get((x, y), max(res))\n",
    "\n",
    "        \n",
    "print(mat)"
   ]
  },
  {
   "cell_type": "code",
   "execution_count": null,
   "metadata": {},
   "outputs": [],
   "source": [
    "conc = df.Concentration\n",
    "temp = df.Temperature\n",
    "levels = np.linspace(0, 10)\n",
    "bounds = [0, 1, 2, 3, 4, 5, 6, 7, 8, 9, 10]\n",
    "img = plt.contourf(mat, extent = [min(conc), max(conc), max(temp), min(temp)], levels = levels, cmap = 'RdYlGn')\n",
    "#plt.grid()\n",
    "\n",
    "plt.colorbar(img, ticks = bounds, label = 'Chemical Resistance')\n",
    "plt.xlabel('Concentration (vol%)')\n",
    "plt.ylabel('Temperature (C)')\n",
    "plt.show()"
   ]
  },
  {
   "cell_type": "markdown",
   "metadata": {},
   "source": [
    "# TEST case 4: Concentration doesn't vary"
   ]
  },
  {
   "cell_type": "code",
   "execution_count": 12,
   "metadata": {},
   "outputs": [],
   "source": [
    "df = pd.read_excel('saturated chemicals.xlsx', 0)\n",
    "n = len(df)\n",
    "#df.iloc[0:n,:]"
   ]
  },
  {
   "cell_type": "code",
   "execution_count": 16,
   "metadata": {},
   "outputs": [
    {
     "data": {
      "image/png": "[encoded data removed]",
      "text/plain": [
       "<Figure size 432x288 with 1 Axes>"
      ]
     },
     "metadata": {
      "needs_background": "light"
     },
     "output_type": "display_data"
    }
   ],
   "source": [
    "temp = df['Temperature (C)']\n",
    "res = df['Resistance']\n",
    "\n",
    "plt.plot(temp, res, '.', markersize = 12)\n",
    "plt.grid()\n",
    "plt.title('PVC in Sodium Benzoate cold aq. sat.')\n",
    "plt.xlabel('Temperature (C)')\n",
    "plt.ylabel('Chemical Resistance')\n",
    "plt.show()\n"
   ]
  },
  {
   "cell_type": "code",
   "execution_count": null,
   "metadata": {},
   "outputs": [],
   "source": [
    "df = df.sort_values('Temperature', axis = 0, ascending = False)\n",
    "df"
   ]
  },
  {
   "cell_type": "code",
   "execution_count": null,
   "metadata": {},
   "outputs": [],
   "source": [
    "mapping = {(x, y): z for (x, y, z) in df[[\"Concentration\", \"Temperature\", \"Resistance\"]].values}\n",
    "\n",
    "mat = np.zeros((n, n))\n",
    "\n",
    "for i, x in np.ndenumerate(df[\"Concentration\"]):\n",
    "    for j, y in np.ndenumerate(df[\"Temperature\"]):\n",
    "        mat[j, i] = mapping.get((x, y), 0)\n",
    "\n",
    "        \n",
    "print(mat)"
   ]
  },
  {
   "cell_type": "code",
   "execution_count": null,
   "metadata": {},
   "outputs": [],
   "source": [
    "conc = df.Concentration\n",
    "temp = df.Temperature\n",
    "\n",
    "levels = np.linspace(0, 10)\n",
    "bounds = [0, 1, 2, 3, 4, 5, 6, 7, 8, 9, 10]\n",
    "img = plt.contourf(mat, extent = [0, max(conc), max(temp), min(temp)], levels = levels, cmap = 'RdYlGn')\n",
    "#plt.grid()\n",
    "\n",
    "plt.colorbar(img, ticks = bounds, label = 'Chemical Resistance')\n",
    "plt.xlabel('Concentration (vol%)')\n",
    "plt.ylabel('Temperature (C)')\n",
    "plt.show()"
   ]
  },
  {
   "cell_type": "code",
   "execution_count": null,
   "metadata": {},
   "outputs": [],
   "source": [
    "\"\"\"\n",
    "import pylab \n",
    "\n",
    "%matplotlib notebook\n",
    "\n",
    "img = pylab.pcolor(mat, cmap = 'RdYlGn', vmin = 0, vmax = 10)\n",
    "#img = pylab.pcolormesh(mat, cmap = 'RdYlGn', vmin = 0, vmax = 10)\n",
    "\n",
    "pylab.grid()\n",
    "pylab.colorbar(img, label = 'Chemical Resistance')\n",
    "pylab.xlabel('Concentration (vol%)')\n",
    "pylab.ylabel('Temperature (C)')\n",
    "\n",
    "\"\"\""
   ]
  },
  {
   "cell_type": "code",
   "execution_count": null,
   "metadata": {},
   "outputs": [],
   "source": []
  }
 ],
 "metadata": {
  "interpreter": {
   "hash": "af8b93295ec152667600696eebafdfb1a6679e79e15871d01906b24cd0cc4b31"
  },
  "kernelspec": {
   "display_name": "Python 3",
   "language": "python",
   "name": "python3"
  },
  "language_info": {
   "codemirror_mode": {
    "name": "ipython",
    "version": 3
   },
   "file_extension": ".py",
   "mimetype": "text/x-python",
   "name": "python",
   "nbconvert_exporter": "python",
   "pygments_lexer": "ipython3",
   "version": "3.7.6"
  },
  "toc": {
   "base_numbering": 1,
   "nav_menu": {},
   "number_sections": true,
   "sideBar": true,
   "skip_h1_title": false,
   "title_cell": "Table of Contents",
   "title_sidebar": "Contents",
   "toc_cell": false,
   "toc_position": {},
   "toc_section_display": true,
   "toc_window_display": false
  },
  "varInspector": {
   "cols": {
    "lenName": 16,
    "lenType": 16,
    "lenVar": 40
   },
   "kernels_config": {
    "python": {
     "delete_cmd_postfix": "",
     "delete_cmd_prefix": "del ",
     "library": "var_list.py",
     "varRefreshCmd": "print(var_dic_list())"
    },
    "r": {
     "delete_cmd_postfix": ") ",
     "delete_cmd_prefix": "rm(",
     "library": "var_list.r",
     "varRefreshCmd": "cat(var_dic_list()) "
    }
   },
   "types_to_exclude": [
    "module",
    "function",
    "builtin_function_or_method",
    "instance",
    "_Feature"
   ],
   "window_display": false
  }
 },
 "nbformat": 4,
 "nbformat_minor": 4
}
