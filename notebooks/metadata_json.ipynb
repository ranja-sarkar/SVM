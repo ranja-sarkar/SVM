{
 "cells": [
  {
   "cell_type": "code",
   "execution_count": 1,
   "metadata": {},
   "outputs": [],
   "source": [
    "import pandas as pd"
   ]
  },
  {
   "cell_type": "code",
   "execution_count": 39,
   "metadata": {},
   "outputs": [],
   "source": [
    "#df1 = pd.read_excel('DP_qual.xlsx')"
   ]
  },
  {
   "cell_type": "code",
   "execution_count": 3,
   "metadata": {},
   "outputs": [],
   "source": [
    "#import schema"
   ]
  },
  {
   "cell_type": "code",
   "execution_count": 35,
   "metadata": {},
   "outputs": [
    {
     "data": {
      "text/plain": [
       "Index(['Datasize', '#Internal Sources ', '#External Sources', 'Features',\n",
       "       'Data Types', 'Line items', '#Unique Values', 'Comment'],\n",
       "      dtype='object')"
      ]
     },
     "execution_count": 35,
     "metadata": {},
     "output_type": "execute_result"
    }
   ],
   "source": [
    "df2 = pd.read_excel('Polymer_Database_metadata.xlsx', sheet_name = 'DP_qual')\n",
    "df2.columns"
   ]
  },
  {
   "cell_type": "code",
   "execution_count": 36,
   "metadata": {},
   "outputs": [
    {
     "data": {
      "text/plain": [
       "Index(['Datasize', '#Internal Sources ', '#External Sources', 'Features',\n",
       "       'Data Types', 'Line items', '#Unique Values', 'Comment'],\n",
       "      dtype='object')"
      ]
     },
     "execution_count": 36,
     "metadata": {},
     "output_type": "execute_result"
    }
   ],
   "source": [
    "df3 = pd.read_excel('Polymer_Database_metadata.xlsx', sheet_name = 'DP_quant')\n",
    "df3.columns"
   ]
  },
  {
   "cell_type": "code",
   "execution_count": 37,
   "metadata": {},
   "outputs": [
    {
     "data": {
      "text/plain": [
       "((14, 8), (18, 8))"
      ]
     },
     "execution_count": 37,
     "metadata": {},
     "output_type": "execute_result"
    }
   ],
   "source": [
    "df2.shape, df3.shape"
   ]
  },
  {
   "cell_type": "code",
   "execution_count": 56,
   "metadata": {},
   "outputs": [
    {
     "data": {
      "text/html": [
       "<div>\n",
       "<style scoped>\n",
       "    .dataframe tbody tr th:only-of-type {\n",
       "        vertical-align: middle;\n",
       "    }\n",
       "\n",
       "    .dataframe tbody tr th {\n",
       "        vertical-align: top;\n",
       "    }\n",
       "\n",
       "    .dataframe thead th {\n",
       "        text-align: right;\n",
       "    }\n",
       "</style>\n",
       "<table border=\"1\" class=\"dataframe\">\n",
       "  <thead>\n",
       "    <tr style=\"text-align: right;\">\n",
       "      <th></th>\n",
       "      <th>Features</th>\n",
       "      <th>Data Types</th>\n",
       "    </tr>\n",
       "  </thead>\n",
       "  <tbody>\n",
       "    <tr>\n",
       "      <th>0</th>\n",
       "      <td>DP ID</td>\n",
       "      <td>integer</td>\n",
       "    </tr>\n",
       "    <tr>\n",
       "      <th>1</th>\n",
       "      <td>Trade name</td>\n",
       "      <td>object</td>\n",
       "    </tr>\n",
       "    <tr>\n",
       "      <th>2</th>\n",
       "      <td>Polymer</td>\n",
       "      <td>object</td>\n",
       "    </tr>\n",
       "    <tr>\n",
       "      <th>3</th>\n",
       "      <td>Exposure medium</td>\n",
       "      <td>object</td>\n",
       "    </tr>\n",
       "    <tr>\n",
       "      <th>4</th>\n",
       "      <td>Concentration (vol%)</td>\n",
       "      <td>integer</td>\n",
       "    </tr>\n",
       "  </tbody>\n",
       "</table>\n",
       "</div>"
      ],
      "text/plain": [
       "               Features Data Types\n",
       "0                 DP ID    integer\n",
       "1            Trade name     object\n",
       "2               Polymer     object\n",
       "3       Exposure medium     object\n",
       "4  Concentration (vol%)    integer"
      ]
     },
     "execution_count": 56,
     "metadata": {},
     "output_type": "execute_result"
    }
   ],
   "source": [
    "df = df2[['Features','Data Types']]\n",
    "df.head()"
   ]
  },
  {
   "cell_type": "code",
   "execution_count": 60,
   "metadata": {},
   "outputs": [
    {
     "data": {
      "text/plain": [
       "'[{\"Features\":\"DP ID\",\"Data Types\":\"integer\"},{\"Features\":\"Trade name\",\"Data Types\":\"object\"},{\"Features\":\"Polymer\",\"Data Types\":\"object\"},{\"Features\":\"Exposure medium\",\"Data Types\":\"object\"},{\"Features\":\"Concentration (vol%)\",\"Data Types\":\"integer\"},{\"Features\":\"Temperature (C)\",\"Data Types\":\"integer\"},{\"Features\":\"Qualitative result\",\"Data Types\":\"object\"},{\"Features\":\"Note\",\"Data Types\":\"object\"},{\"Features\":\"Report no.\",\"Data Types\":\"object\"},{\"Features\":\"Report source\",\"Data Types\":\"object\"},{\"Features\":\"Report name\",\"Data Types\":\"object\"},{\"Features\":\"Redefined legends\",\"Data Types\":\"object\"},{\"Features\":\"Resistance\",\"Data Types\":\"integer\"},{\"Features\":\"Color Group\",\"Data Types\":\"object\"}]'"
      ]
     },
     "execution_count": 60,
     "metadata": {},
     "output_type": "execute_result"
    }
   ],
   "source": [
    "data = df.to_json(orient = 'records')\n",
    "data"
   ]
  },
  {
   "cell_type": "code",
   "execution_count": 61,
   "metadata": {},
   "outputs": [
    {
     "data": {
      "text/plain": [
       "'{\"schema\":{\"fields\":[{\"name\":\"index\",\"type\":\"integer\"},{\"name\":\"Features\",\"type\":\"string\"},{\"name\":\"Data Types\",\"type\":\"string\"}],\"primaryKey\":[\"index\"],\"pandas_version\":\"0.20.0\"},\"data\":[{\"index\":0,\"Features\":\"DP ID\",\"Data Types\":\"integer\"},{\"index\":1,\"Features\":\"Trade name\",\"Data Types\":\"object\"},{\"index\":2,\"Features\":\"Polymer\",\"Data Types\":\"object\"},{\"index\":3,\"Features\":\"Exposure medium\",\"Data Types\":\"object\"},{\"index\":4,\"Features\":\"Concentration (vol%)\",\"Data Types\":\"integer\"},{\"index\":5,\"Features\":\"Temperature (C)\",\"Data Types\":\"integer\"},{\"index\":6,\"Features\":\"Qualitative result\",\"Data Types\":\"object\"},{\"index\":7,\"Features\":\"Note\",\"Data Types\":\"object\"},{\"index\":8,\"Features\":\"Report no.\",\"Data Types\":\"object\"},{\"index\":9,\"Features\":\"Report source\",\"Data Types\":\"object\"},{\"index\":10,\"Features\":\"Report name\",\"Data Types\":\"object\"},{\"index\":11,\"Features\":\"Redefined legends\",\"Data Types\":\"object\"},{\"index\":12,\"Features\":\"Resistance\",\"Data Types\":\"integer\"},{\"index\":13,\"Features\":\"Color Group\",\"Data Types\":\"object\"}]}'"
      ]
     },
     "execution_count": 61,
     "metadata": {},
     "output_type": "execute_result"
    }
   ],
   "source": [
    "data = df.to_json(orient = 'table')\n",
    "data"
   ]
  },
  {
   "cell_type": "code",
   "execution_count": 62,
   "metadata": {},
   "outputs": [
    {
     "data": {
      "text/plain": [
       "'[[\"DP ID\",\"integer\"],[\"Trade name\",\"object\"],[\"Polymer\",\"object\"],[\"Exposure medium\",\"object\"],[\"Concentration (vol%)\",\"integer\"],[\"Temperature (C)\",\"integer\"],[\"Qualitative result\",\"object\"],[\"Note\",\"object\"],[\"Report no.\",\"object\"],[\"Report source\",\"object\"],[\"Report name\",\"object\"],[\"Redefined legends\",\"object\"],[\"Resistance\",\"integer\"],[\"Color Group\",\"object\"]]'"
      ]
     },
     "execution_count": 62,
     "metadata": {},
     "output_type": "execute_result"
    }
   ],
   "source": [
    "data = df.to_json(orient = 'values')\n",
    "data"
   ]
  },
  {
   "cell_type": "code",
   "execution_count": 63,
   "metadata": {},
   "outputs": [
    {
     "data": {
      "text/plain": [
       "'{\"Features\":{\"0\":\"DP ID\",\"1\":\"Trade name\",\"2\":\"Polymer\",\"3\":\"Exposure medium\",\"4\":\"Concentration (vol%)\",\"5\":\"Temperature (C)\",\"6\":\"Qualitative result\",\"7\":\"Note\",\"8\":\"Report no.\",\"9\":\"Report source\",\"10\":\"Report name\",\"11\":\"Redefined legends\",\"12\":\"Resistance\",\"13\":\"Color Group\"},\"Data Types\":{\"0\":\"integer\",\"1\":\"object\",\"2\":\"object\",\"3\":\"object\",\"4\":\"integer\",\"5\":\"integer\",\"6\":\"object\",\"7\":\"object\",\"8\":\"object\",\"9\":\"object\",\"10\":\"object\",\"11\":\"object\",\"12\":\"integer\",\"13\":\"object\"}}'"
      ]
     },
     "execution_count": 63,
     "metadata": {},
     "output_type": "execute_result"
    }
   ],
   "source": [
    "data = df.to_json(orient = 'columns') #default\n",
    "data"
   ]
  },
  {
   "cell_type": "code",
   "execution_count": 65,
   "metadata": {},
   "outputs": [
    {
     "data": {
      "text/plain": [
       "'{\"columns\":[\"Features\",\"Data Types\"],\"index\":[0,1,2,3,4,5,6,7,8,9,10,11,12,13],\"data\":[[\"DP ID\",\"integer\"],[\"Trade name\",\"object\"],[\"Polymer\",\"object\"],[\"Exposure medium\",\"object\"],[\"Concentration (vol%)\",\"integer\"],[\"Temperature (C)\",\"integer\"],[\"Qualitative result\",\"object\"],[\"Note\",\"object\"],[\"Report no.\",\"object\"],[\"Report source\",\"object\"],[\"Report name\",\"object\"],[\"Redefined legends\",\"object\"],[\"Resistance\",\"integer\"],[\"Color Group\",\"object\"]]}'"
      ]
     },
     "execution_count": 65,
     "metadata": {},
     "output_type": "execute_result"
    }
   ],
   "source": [
    "data = df.to_json(orient = 'split')\n",
    "data"
   ]
  },
  {
   "cell_type": "code",
   "execution_count": 66,
   "metadata": {},
   "outputs": [
    {
     "data": {
      "text/plain": [
       "'{\"0\":{\"Features\":\"DP ID\",\"Data Types\":\"integer\"},\"1\":{\"Features\":\"Trade name\",\"Data Types\":\"object\"},\"2\":{\"Features\":\"Polymer\",\"Data Types\":\"object\"},\"3\":{\"Features\":\"Exposure medium\",\"Data Types\":\"object\"},\"4\":{\"Features\":\"Concentration (vol%)\",\"Data Types\":\"integer\"},\"5\":{\"Features\":\"Temperature (C)\",\"Data Types\":\"integer\"},\"6\":{\"Features\":\"Qualitative result\",\"Data Types\":\"object\"},\"7\":{\"Features\":\"Note\",\"Data Types\":\"object\"},\"8\":{\"Features\":\"Report no.\",\"Data Types\":\"object\"},\"9\":{\"Features\":\"Report source\",\"Data Types\":\"object\"},\"10\":{\"Features\":\"Report name\",\"Data Types\":\"object\"},\"11\":{\"Features\":\"Redefined legends\",\"Data Types\":\"object\"},\"12\":{\"Features\":\"Resistance\",\"Data Types\":\"integer\"},\"13\":{\"Features\":\"Color Group\",\"Data Types\":\"object\"}}'"
      ]
     },
     "execution_count": 66,
     "metadata": {},
     "output_type": "execute_result"
    }
   ],
   "source": [
    "data = df.to_json(orient = 'index')\n",
    "data"
   ]
  },
  {
   "cell_type": "code",
   "execution_count": null,
   "metadata": {},
   "outputs": [],
   "source": []
  }
 ],
 "metadata": {
  "kernelspec": {
   "display_name": "Python 3",
   "language": "python",
   "name": "python3"
  },
  "language_info": {
   "codemirror_mode": {
    "name": "ipython",
    "version": 3
   },
   "file_extension": ".py",
   "mimetype": "text/x-python",
   "name": "python",
   "nbconvert_exporter": "python",
   "pygments_lexer": "ipython3",
   "version": "3.7.6"
  }
 },
 "nbformat": 4,
 "nbformat_minor": 4
}
