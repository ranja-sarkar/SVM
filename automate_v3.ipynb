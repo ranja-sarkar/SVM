{
 "cells": [
  {
   "cell_type": "code",
   "execution_count": null,
   "metadata": {},
   "outputs": [],
   "source": [
    "import pandas as pd\n",
    "import numpy as np\n",
    "\n",
    "#dataframe with 3 columns/variables\n",
    "\n",
    "data = pd.DataFrame({\n",
    "    'X': np.round(np.random.rand(4)*100),\n",
    "    'Y': np.round(np.random.rand(4)*100),\n",
    "    'Z': np.round(np.random.rand(4)*10)})\n",
    "\n",
    "#print(data)\n",
    "data = data.sort_values('X', axis=0, ascending=True)\n",
    "print(data)\n",
    "\n",
    "#obtain the matrix\n",
    "mapping = {(x, y): z for (x, y, z) in data[[\"X\", \"Y\", \"Z\"]].values}\n",
    "\n",
    "n = len(data)\n",
    "mat = np.zeros((n, n))\n",
    "\n",
    "for i, x in np.ndenumerate(data[\"X\"]):\n",
    "    for j, y in np.ndenumerate(data[\"Y\"]):\n",
    "        mat[j, i] = mapping.get((x, y), 0)\n",
    "\n",
    "print(mat)"
   ]
  },
  {
   "cell_type": "code",
   "execution_count": null,
   "metadata": {},
   "outputs": [],
   "source": [
    "r, c = np.tril_indices_from(mat)\n",
    "\n",
    "# determine fillable slots\n",
    "newr = np.array([],dtype=int)\n",
    "newc = np.array([],dtype=int)\n",
    "for ct in range(len(r)):\n",
    "    if mat[r[ct],c[ct]] == 0 :\n",
    "        newr = np.append(newr,r[ct])\n",
    "        newc = np.append(newc,c[ct])\n",
    "        \n",
    "print(newr)\n",
    "# First Cycle Based on Column\n",
    "value = data[data['Y'] == max(data['Y'])]['Z']\n",
    "for ct in range(len(newr)):\n",
    "    \n",
    "    mat[newr[ct],newc[ct]] = value\n",
    "\n",
    "    \n",
    "# Second Cycle Based on Rows\n",
    "value = data[data['X'] == max(data['X'])]['Z']\n",
    "chckmat = np.copy(mat)\n",
    "for ct in range(len(newr)):\n",
    "    chckmat[newr[ct],newc[ct]] = value\n",
    "\n",
    "    \n",
    "# Condition Check\n",
    "if chckmat[0,0] < chckmat[-1,0]:\n",
    "    finalmat = chckmat\n",
    "else:\n",
    "    finalmat = mat\n",
    "    \n",
    "print(mat)"
   ]
  },
  {
   "cell_type": "markdown",
   "metadata": {},
   "source": [
    "Condition that has been applied for above transformation:\n",
    "For a given X, Z corresponding to the highest Y (in the column) is also the value for all lower Ys. \n",
    "For a given Y, Z corresponding to the highest X (in the row) is also the value in all lower Xs.\n",
    "\n",
    "Final check of the matrix:\n",
    "Higher Y should have lower or equal Z (for a given X). \n",
    "Higher X should have lower or equal Z (for a given Y). "
   ]
  },
  {
   "cell_type": "markdown",
   "metadata": {},
   "source": [
    "# Example 2"
   ]
  },
  {
   "cell_type": "code",
   "execution_count": 1,
   "metadata": {},
   "outputs": [],
   "source": [
    "import pandas as pd\n",
    "import numpy as np"
   ]
  },
  {
   "cell_type": "code",
   "execution_count": 18,
   "metadata": {},
   "outputs": [
    {
     "name": "stdout",
     "output_type": "stream",
     "text": [
      "[[7. 0. 7.]\n",
      " [0. 6. 0.]\n",
      " [7. 0. 7.]]\n"
     ]
    }
   ],
   "source": [
    "data = pd.DataFrame({'X': np.array([10, 20, 35]),\n",
    "    'Y': np.array([22, 150, 22]),\n",
    "    'Z': np.array([7, 6, 7])})\n",
    "\n",
    "    \n",
    "#print(data)\n",
    "data = data.sort_values('X', axis=0, ascending=True)\n",
    "#print(data)\n",
    "\n",
    "#obtain the matrix\n",
    "mapping = {(x, y): z for (x, y, z) in data[[\"X\", \"Y\", \"Z\"]].values}\n",
    "\n",
    "n = len(data)\n",
    "mat = np.zeros((n, n))\n",
    "\n",
    "for i, x in np.ndenumerate(data[\"X\"]):\n",
    "    for j, y in np.ndenumerate(data[\"Y\"]):\n",
    "        mat[j, i] = mapping.get((x, y), 0)\n",
    "\n",
    "print(mat)"
   ]
  },
  {
   "cell_type": "code",
   "execution_count": 19,
   "metadata": {},
   "outputs": [
    {
     "name": "stdout",
     "output_type": "stream",
     "text": [
      "[[7. 6. 7.]\n",
      " [6. 6. 0.]\n",
      " [7. 6. 7.]]\n"
     ]
    }
   ],
   "source": [
    "orgmat = np.copy(mat)\n",
    "r, c = np.tril_indices_from(mat)\n",
    "\n",
    "# determine fillable slots\n",
    "mr = np.size(mat, 0)\n",
    "mc = np.size(mat, 1)\n",
    "\n",
    "newr = np.array([], dtype = int)\n",
    "newc = np.array([], dtype = int)\n",
    "for i in range(mr):\n",
    "    for j in range(mc):\n",
    "        if mat[i,j] == 0:\n",
    "            newr = np.append(newr,i)\n",
    "            newc = np.append(newc,j)\n",
    "        \n",
    "#### First Cycle Based on Column\n",
    "value = data[data['Y'] == max(data['Y'])]['Z']\n",
    "for i in range(len(newr)):\n",
    "    mat[newr[i], newc[i]] = value\n",
    "\n",
    "\n",
    "for i in range(0, mr):\n",
    "    for j in range(i+1, mc):\n",
    "        if orgmat[i,j] == 0:\n",
    "            if mat[i,j] < max(orgmat[:,j]):\n",
    "                mat[i,j] = orgmat[i,j]\n",
    "\n",
    "                \n",
    "#### Second Cycle Based on Rows\n",
    "value = data[data['X'] == max(data['X'])]['Z']\n",
    "chckmat = np.copy(mat)\n",
    "for i in range(len(newr)):\n",
    "    chckmat[newr[i], newc[i]] = value\n",
    "\n",
    "                \n",
    "#### Condition Check\n",
    "if chckmat[0,0] < chckmat[-1,0]:\n",
    "    finalmat = chckmat\n",
    "else:\n",
    "    finalmat = mat\n",
    "    \n",
    "print(finalmat)"
   ]
  },
  {
   "cell_type": "code",
   "execution_count": null,
   "metadata": {},
   "outputs": [],
   "source": []
  }
 ],
 "metadata": {
  "kernelspec": {
   "display_name": "Python 3",
   "language": "python",
   "name": "python3"
  },
  "language_info": {
   "codemirror_mode": {
    "name": "ipython",
    "version": 3
   },
   "file_extension": ".py",
   "mimetype": "text/x-python",
   "name": "python",
   "nbconvert_exporter": "python",
   "pygments_lexer": "ipython3",
   "version": "3.7.6"
  },
  "toc": {
   "base_numbering": 1,
   "nav_menu": {},
   "number_sections": true,
   "sideBar": true,
   "skip_h1_title": false,
   "title_cell": "Table of Contents",
   "title_sidebar": "Contents",
   "toc_cell": false,
   "toc_position": {},
   "toc_section_display": true,
   "toc_window_display": false
  },
  "varInspector": {
   "cols": {
    "lenName": 16,
    "lenType": 16,
    "lenVar": 40
   },
   "kernels_config": {
    "python": {
     "delete_cmd_postfix": "",
     "delete_cmd_prefix": "del ",
     "library": "var_list.py",
     "varRefreshCmd": "print(var_dic_list())"
    },
    "r": {
     "delete_cmd_postfix": ") ",
     "delete_cmd_prefix": "rm(",
     "library": "var_list.r",
     "varRefreshCmd": "cat(var_dic_list()) "
    }
   },
   "types_to_exclude": [
    "module",
    "function",
    "builtin_function_or_method",
    "instance",
    "_Feature"
   ],
   "window_display": false
  }
 },
 "nbformat": 4,
 "nbformat_minor": 2
}
