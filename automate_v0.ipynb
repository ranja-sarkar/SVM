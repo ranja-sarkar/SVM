{
 "cells": [
  {
   "cell_type": "code",
   "execution_count": 2,
   "metadata": {},
   "outputs": [],
   "source": [
    "import pandas as pd\n",
    "import numpy as np"
   ]
  },
  {
   "cell_type": "code",
   "execution_count": 5,
   "metadata": {},
   "outputs": [
    {
     "name": "stdout",
     "output_type": "stream",
     "text": [
      "    X   Y  Z\n",
      "0  20  60  6\n",
      "1  40  40  6\n",
      "2  60  22  2\n",
      "3  80  22  2\n"
     ]
    }
   ],
   "source": [
    "#dataframe with 3 columns/variables\n",
    "\n",
    "data = pd.DataFrame({\n",
    "    'X': np.array([20, 40, 60, 80]),\n",
    "    'Y': np.array([60, 40, 22, 22]),\n",
    "    'Z': np.array([6, 6, 2, 2])})\n",
    "\n",
    "print(data)"
   ]
  },
  {
   "cell_type": "code",
   "execution_count": 3,
   "metadata": {},
   "outputs": [
    {
     "name": "stdout",
     "output_type": "stream",
     "text": [
      "[[6. 0. 0. 0.]\n",
      " [0. 6. 0. 0.]\n",
      " [0. 0. 2. 2.]\n",
      " [0. 0. 2. 2.]]\n"
     ]
    }
   ],
   "source": [
    "#obtain the matrix\n",
    "\n",
    "mapping = {(x, y): z for (x, y, z) in data[[\"X\", \"Y\", \"Z\"]].values}\n",
    "\n",
    "n = len(data)\n",
    "mat = np.zeros((n, n))\n",
    "\n",
    "for i, x in np.ndenumerate(data[\"X\"]):\n",
    "    for j, y in np.ndenumerate(data[\"Y\"]):\n",
    "        mat[j, i] = mapping.get((x, y), 0)\n",
    "\n",
    "        \n",
    "print(mat)"
   ]
  },
  {
   "cell_type": "markdown",
   "metadata": {},
   "source": [
    "# Following condition to populate the matrix further needs to be automated:"
   ]
  },
  {
   "cell_type": "code",
   "execution_count": 6,
   "metadata": {},
   "outputs": [
    {
     "name": "stdout",
     "output_type": "stream",
     "text": [
      "[[6. 0. 0. 0.]\n",
      " [6. 6. 0. 0.]\n",
      " [6. 6. 2. 2.]\n",
      " [6. 6. 2. 2.]]\n"
     ]
    }
   ],
   "source": [
    "#Transform the matrix to the one below:\n",
    "mat[1,0] = 6\n",
    "mat[2,0] = 6\n",
    "mat[3,0] = 6\n",
    "mat[2,1] = 6\n",
    "mat[3,1] = 6\n",
    "\n",
    "print(mat)"
   ]
  },
  {
   "cell_type": "markdown",
   "metadata": {},
   "source": [
    "Condition that has been applied for above transformation:\n",
    "For a given X, Z corresponding to the highest Y (in the column) is also the value for all lower Ys. \n",
    "For a given Y, Z corresponding to the highest X (in the row) is also the value in all lower Xs.\n",
    "\n",
    "Final check of the matrix:\n",
    "Higher Y should have lower or equal Z (for a given X). \n",
    "Higher X should have lower or equal Z (for a given Y). "
   ]
  },
  {
   "cell_type": "code",
   "execution_count": 7,
   "metadata": {},
   "outputs": [
    {
     "name": "stdout",
     "output_type": "stream",
     "text": [
      "[[6. 0. 0. 0.]\n",
      " [6. 6. 0. 0.]\n",
      " [2. 2. 2. 2.]\n",
      " [2. 2. 2. 2.]]\n"
     ]
    }
   ],
   "source": [
    "#Following transformation therefore is wrong and first transformation is right:\n",
    "mat[2,0] = 2\n",
    "mat[3,0] = 2\n",
    "mat[2,1] = 2\n",
    "mat[3,1] = 2\n",
    "\n",
    "print(mat)"
   ]
  },
  {
   "cell_type": "code",
   "execution_count": null,
   "metadata": {},
   "outputs": [],
   "source": []
  }
 ],
 "metadata": {
  "kernelspec": {
   "display_name": "Python 3",
   "language": "python",
   "name": "python3"
  },
  "language_info": {
   "codemirror_mode": {
    "name": "ipython",
    "version": 3
   },
   "file_extension": ".py",
   "mimetype": "text/x-python",
   "name": "python",
   "nbconvert_exporter": "python",
   "pygments_lexer": "ipython3",
   "version": "3.7.6"
  }
 },
 "nbformat": 4,
 "nbformat_minor": 2
}
