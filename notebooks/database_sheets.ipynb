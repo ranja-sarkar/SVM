{
 "cells": [
  {
   "cell_type": "code",
   "execution_count": 1,
   "metadata": {},
   "outputs": [],
   "source": [
    "import pandas as pd\n",
    "from pandas import ExcelFile\n",
    "#from pandas import ExcelWriter"
   ]
  },
  {
   "cell_type": "code",
   "execution_count": 2,
   "metadata": {},
   "outputs": [
    {
     "data": {
      "text/plain": [
       "['DP_db_quant.csv',\n",
       " 'DP_GS0652850.csv',\n",
       " 'DP_JW.csv',\n",
       " 'DP_quant_merged.csv',\n",
       " 'DP_SR1313602.csv',\n",
       " 'DP_SR1314235_SR1610506_GS0951520.csv',\n",
       " 'GS0853115.csv']"
      ]
     },
     "execution_count": 2,
     "metadata": {},
     "output_type": "execute_result"
    }
   ],
   "source": [
    "import glob\n",
    "\n",
    "#glob.glob(\"*.xlsx\")\n",
    "glob.glob(\"*.csv\")"
   ]
  },
  {
   "cell_type": "code",
   "execution_count": 3,
   "metadata": {},
   "outputs": [
    {
     "data": {
      "text/plain": [
       "('GS.06.52850_Volume_swelling_of_FFKM_FKM_and_HNBR_elastomers_in_Saraline_Paraffins.pdf',\n",
       " 'GS.08.53115_Adhesive_bonded_metallic_permeation_barrier_for_thermoplastic_pipes.pdf',\n",
       " 'GS.09.51520_Evaluation_of_polymers_for_gas_injection_lines_conveying_high_pressure_and_supercritical_carbon_dioxide.pdf',\n",
       " 'James Walker Sealing Guide.pdf',\n",
       " 'MAU-SR.13.14235 NAM Chemical Compatibility of Coflon® with KHI and CI.pdf',\n",
       " 'MAU-SR.16.10506 PEARL Assessment of HNBR for BOP application.pdf',\n",
       " 'SR.13.13602 - The Sol.pdf')"
      ]
     },
     "execution_count": 3,
     "metadata": {},
     "output_type": "execute_result"
    }
   ],
   "source": [
    "s1, s2, s3, s4, s5, s6, s7 = glob.glob(\"*.pdf\")\n",
    "s1, s2, s3, s4, s5, s6, s7"
   ]
  },
  {
   "cell_type": "code",
   "execution_count": 4,
   "metadata": {},
   "outputs": [
    {
     "name": "stdout",
     "output_type": "stream",
     "text": [
      "GS.06.52850 Volume_swelling_of_FFKM_FKM_and_HNBR_elastomers_in_Saraline_Paraffins.pdf\n",
      "MAU-SR.13.14235 NAM Chemical Compatibility of Coflon® with KHI and CI.pdf\n",
      "MAU-SR.16.10506 PEARL Assessment of HNBR for BOP application.pdf\n",
      "GS.09.51520 Evaluation_of_polymers_for_gas_injection_lines_conveying_high_pressure_and_supercritical_carbon_dioxide.pdf\n",
      " James Walker Sealing Guide.pdf\n",
      "SR.13.13602  The Sol.pdf\n",
      "GS.08.53115 Adhesive_bonded_metallic_permeation_barrier_for_thermoplastic_pipes.pdf\n"
     ]
    }
   ],
   "source": [
    "report_num1 = s1[0:11]\n",
    "report_name1 = s1[12:]\n",
    "print(report_num1, report_name1)\n",
    "\n",
    "#------------------------------\n",
    "\n",
    "report_num3 = s5[0:15]\n",
    "report_name3 = s5[16:]\n",
    "print(report_num3, report_name3)\n",
    "\n",
    "report_num4 = s6[0:15]\n",
    "report_name4 = s6[16:]\n",
    "print(report_num4, report_name4)\n",
    "\n",
    "report_num5 = s3[0:11]\n",
    "report_name5 = s3[12:]\n",
    "print(report_num5, report_name5)\n",
    "\n",
    "#-------------------------------\n",
    "\n",
    "report_num7 = ''\n",
    "report_name7 = s4[0:]\n",
    "print(report_num7, report_name7)\n",
    "\n",
    "#----------------------------\n",
    "\n",
    "report_num8 = s7[0:11]\n",
    "report_name8 = s7[13:]\n",
    "print(report_num8, report_name8)\n",
    "\n",
    "#-----------------------------\n",
    "\n",
    "report_num9 = s2[0:11]\n",
    "report_name9 = s2[12:]\n",
    "print(report_num9, report_name9)"
   ]
  },
  {
   "cell_type": "code",
   "execution_count": 11,
   "metadata": {},
   "outputs": [],
   "source": [
    "\"\"\"\n",
    "with open('DP_ccEM.csv', 'r') as f2:\n",
    "    id2 = f2.read()\n",
    "\n",
    "#with open('DEP_db.csv', 'r') as f3:\n",
    "#    id345 = f3.read()\n",
    "    \n",
    "with open('DEP_db.csv', 'r') as f4:\n",
    "    id6 = f4.read()\n",
    "\n",
    "#with open('jwsealinguide.csv', 'r') as f5:\n",
    "#    id7 = f5.read()\n",
    "\n",
    "with open('DP_db_qual.csv', 'a') as f1:\n",
    "    f1.write('\\n')\n",
    "    f1.write(id2)\n",
    "#    f1.write(id345)\n",
    "    f1.write(id6)\n",
    "#    f1.write(id7)\n",
    "\"\"\""
   ]
  },
  {
   "cell_type": "code",
   "execution_count": 5,
   "metadata": {},
   "outputs": [
    {
     "data": {
      "text/plain": [
       "((189, 17), (80, 17), (61, 17), (127, 17), (15, 17))"
      ]
     },
     "execution_count": 5,
     "metadata": {},
     "output_type": "execute_result"
    }
   ],
   "source": [
    "#import openpyxl\n",
    "#book = openpyxl.load_workbook('DP_db_01.xlsx')\n",
    "\n",
    "#all_files = [i for i in glob.glob('*.csv')]\n",
    "#combined = pd.concat([pd.read_csv(f) for f in all_files], sort = False)\n",
    "#combined.to_csv(\"combined.csv\", index = False)\n",
    "\n",
    "##combined.to_csv(\"combined.csv\", index = False, header = False)\n",
    "\n",
    "\n",
    "df1 = pd.read_csv('DP_GS0652850.csv')\n",
    "df345 = pd.read_csv('DP_SR1314235_SR1610506_GS0951520.csv')\n",
    "df7 = pd.read_csv('DP_JW.csv')\n",
    "df8 = pd.read_csv('DP_SR1313602.csv')\n",
    "df9 = pd.read_csv('GS0853115.csv')\n",
    "\n",
    "\n",
    "df1.shape, df345.shape, df7.shape, df8.shape, df9.shape"
   ]
  },
  {
   "cell_type": "code",
   "execution_count": 6,
   "metadata": {},
   "outputs": [
    {
     "data": {
      "text/plain": [
       "(472, 17)"
      ]
     },
     "execution_count": 6,
     "metadata": {},
     "output_type": "execute_result"
    }
   ],
   "source": [
    "df = df1.append(([df345, df7, df8, df9]), ignore_index = True, sort = False)\n",
    "df.shape"
   ]
  },
  {
   "cell_type": "code",
   "execution_count": 7,
   "metadata": {},
   "outputs": [],
   "source": [
    "df.to_csv('DP_db_quant.csv')"
   ]
  },
  {
   "cell_type": "code",
   "execution_count": 8,
   "metadata": {},
   "outputs": [
    {
     "data": {
      "text/html": [
       "<div>\n",
       "<style scoped>\n",
       "    .dataframe tbody tr th:only-of-type {\n",
       "        vertical-align: middle;\n",
       "    }\n",
       "\n",
       "    .dataframe tbody tr th {\n",
       "        vertical-align: top;\n",
       "    }\n",
       "\n",
       "    .dataframe thead th {\n",
       "        text-align: right;\n",
       "    }\n",
       "</style>\n",
       "<table border=\"1\" class=\"dataframe\">\n",
       "  <thead>\n",
       "    <tr style=\"text-align: right;\">\n",
       "      <th></th>\n",
       "      <th>DP ID</th>\n",
       "      <th>Report no.</th>\n",
       "      <th>Report name</th>\n",
       "    </tr>\n",
       "  </thead>\n",
       "  <tbody>\n",
       "    <tr>\n",
       "      <th>0</th>\n",
       "      <td>01</td>\n",
       "      <td>GS.06.52850</td>\n",
       "      <td>Volume_swelling_of_FFKM_FKM_and_HNBR_elastomer...</td>\n",
       "    </tr>\n",
       "    <tr>\n",
       "      <th>1</th>\n",
       "      <td>03</td>\n",
       "      <td>MAU-SR.13.14235</td>\n",
       "      <td>NAM Chemical Compatibility of Coflon® with KHI...</td>\n",
       "    </tr>\n",
       "    <tr>\n",
       "      <th>2</th>\n",
       "      <td>04</td>\n",
       "      <td>MAU-SR.16.10506</td>\n",
       "      <td>PEARL Assessment of HNBR for BOP application.pdf</td>\n",
       "    </tr>\n",
       "    <tr>\n",
       "      <th>3</th>\n",
       "      <td>05</td>\n",
       "      <td>GS.09.51520</td>\n",
       "      <td>Evaluation_of_polymers_for_gas_injection_lines...</td>\n",
       "    </tr>\n",
       "    <tr>\n",
       "      <th>4</th>\n",
       "      <td>07</td>\n",
       "      <td></td>\n",
       "      <td>James Walker Sealing Guide.pdf</td>\n",
       "    </tr>\n",
       "    <tr>\n",
       "      <th>5</th>\n",
       "      <td>08</td>\n",
       "      <td>SR.13.13602</td>\n",
       "      <td>The Sol.pdf</td>\n",
       "    </tr>\n",
       "    <tr>\n",
       "      <th>6</th>\n",
       "      <td>09</td>\n",
       "      <td>GS.08.53115</td>\n",
       "      <td>Adhesive_bonded_metallic_permeation_barrier_fo...</td>\n",
       "    </tr>\n",
       "  </tbody>\n",
       "</table>\n",
       "</div>"
      ],
      "text/plain": [
       "  DP ID       Report no.                                        Report name\n",
       "0    01      GS.06.52850  Volume_swelling_of_FFKM_FKM_and_HNBR_elastomer...\n",
       "1    03  MAU-SR.13.14235  NAM Chemical Compatibility of Coflon® with KHI...\n",
       "2    04  MAU-SR.16.10506   PEARL Assessment of HNBR for BOP application.pdf\n",
       "3    05      GS.09.51520  Evaluation_of_polymers_for_gas_injection_lines...\n",
       "4    07                                      James Walker Sealing Guide.pdf\n",
       "5    08      SR.13.13602                                        The Sol.pdf\n",
       "6    09      GS.08.53115  Adhesive_bonded_metallic_permeation_barrier_fo..."
      ]
     },
     "execution_count": 8,
     "metadata": {},
     "output_type": "execute_result"
    }
   ],
   "source": [
    "source_df = pd.DataFrame(columns = ['DP ID', 'Report no.','Report name'])\n",
    "\n",
    "df1 = source_df.append({'DP ID': '01', 'Report no.':report_num1, 'Report name':report_name1}, ignore_index = True)\n",
    "df3 = df1.append({'DP ID': '03', 'Report no.':report_num3,'Report name':report_name3}, ignore_index = True)\n",
    "df4 = df3.append({'DP ID': '04', 'Report no.':report_num4,'Report name':report_name4}, ignore_index = True)\n",
    "df5 = df4.append({'DP ID': '05', 'Report no.':report_num5,'Report name':report_name5}, ignore_index = True)\n",
    "df7 = df5.append({'DP ID': '07', 'Report no.':report_num7,'Report name':report_name7}, ignore_index = True)\n",
    "df8 = df7.append({'DP ID': '08', 'Report no.':report_num8,'Report name':report_name8}, ignore_index = True)\n",
    "df9 = df8.append({'DP ID': '09', 'Report no.':report_num9,'Report name':report_name9}, ignore_index = True)\n",
    "\n",
    "df9"
   ]
  },
  {
   "cell_type": "code",
   "execution_count": 9,
   "metadata": {},
   "outputs": [],
   "source": [
    "dff = pd.read_csv('DP_db_quant.csv')"
   ]
  },
  {
   "cell_type": "code",
   "execution_count": 10,
   "metadata": {},
   "outputs": [],
   "source": [
    "writer = pd.ExcelWriter('DP_quant.xlsx', engine = 'xlsxwriter')\n",
    "dff.to_excel(writer, sheet_name = 'DP', index = False)\n",
    "df9.to_excel(writer, sheet_name = 'Source', index = False)\n",
    "\n",
    "writer.save()"
   ]
  },
  {
   "cell_type": "code",
   "execution_count": 19,
   "metadata": {},
   "outputs": [],
   "source": []
  },
  {
   "cell_type": "code",
   "execution_count": 19,
   "metadata": {},
   "outputs": [],
   "source": []
  },
  {
   "cell_type": "code",
   "execution_count": 22,
   "metadata": {},
   "outputs": [],
   "source": []
  },
  {
   "cell_type": "code",
   "execution_count": null,
   "metadata": {},
   "outputs": [],
   "source": []
  }
 ],
 "metadata": {
  "kernelspec": {
   "display_name": "Python 3",
   "language": "python",
   "name": "python3"
  },
  "language_info": {
   "codemirror_mode": {
    "name": "ipython",
    "version": 3
   },
   "file_extension": ".py",
   "mimetype": "text/x-python",
   "name": "python",
   "nbconvert_exporter": "python",
   "pygments_lexer": "ipython3",
   "version": "3.7.6"
  },
  "toc": {
   "base_numbering": 1,
   "nav_menu": {},
   "number_sections": true,
   "sideBar": true,
   "skip_h1_title": false,
   "title_cell": "Table of Contents",
   "title_sidebar": "Contents",
   "toc_cell": false,
   "toc_position": {},
   "toc_section_display": true,
   "toc_window_display": false
  },
  "varInspector": {
   "cols": {
    "lenName": 16,
    "lenType": 16,
    "lenVar": 40
   },
   "kernels_config": {
    "python": {
     "delete_cmd_postfix": "",
     "delete_cmd_prefix": "del ",
     "library": "var_list.py",
     "varRefreshCmd": "print(var_dic_list())"
    },
    "r": {
     "delete_cmd_postfix": ") ",
     "delete_cmd_prefix": "rm(",
     "library": "var_list.r",
     "varRefreshCmd": "cat(var_dic_list()) "
    }
   },
   "types_to_exclude": [
    "module",
    "function",
    "builtin_function_or_method",
    "instance",
    "_Feature"
   ],
   "window_display": false
  }
 },
 "nbformat": 4,
 "nbformat_minor": 2
}
