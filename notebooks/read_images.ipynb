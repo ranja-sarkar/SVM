{
 "cells": [
  {
   "cell_type": "code",
   "execution_count": 1,
   "metadata": {},
   "outputs": [],
   "source": [
    "import pytesseract\n",
    "pytesseract.pytesseract.tesseract_cmd = r\"C:\\Users\\Ranja.Sarkar\\AppData\\Local\\Tesseract-OCR\\tesseract.exe\""
   ]
  },
  {
   "cell_type": "code",
   "execution_count": 2,
   "metadata": {},
   "outputs": [],
   "source": [
    "import fitz\n",
    "import io\n",
    "from PIL import Image\n",
    "import os"
   ]
  },
  {
   "cell_type": "code",
   "execution_count": 62,
   "metadata": {},
   "outputs": [
    {
     "name": "stdout",
     "output_type": "stream",
     "text": [
      "[!] No images found on page 0\n",
      "Found a total of 1 images in page 1\n",
      "Found a total of 1 images in page 2\n",
      "Found a total of 1 images in page 3\n",
      "Found a total of 1 images in page 4\n",
      "Found a total of 1 images in page 5\n",
      "Found a total of 1 images in page 6\n",
      "Found a total of 1 images in page 7\n",
      "Found a total of 1 images in page 8\n",
      "Found a total of 1 images in page 9\n",
      "Found a total of 1 images in page 10\n",
      "Found a total of 1 images in page 11\n",
      "Found a total of 1 images in page 12\n",
      "Found a total of 1 images in page 13\n",
      "Found a total of 1 images in page 14\n",
      "Found a total of 1 images in page 15\n",
      "Found a total of 1 images in page 16\n",
      "17 16\n"
     ]
    }
   ],
   "source": [
    "  \n",
    "file = \"Ender_PTFE expansion joints for chemical service.pdf\"\n",
    "pdf_file = fitz.open(file)\n",
    "n_img = 0 \n",
    "for page_index in range(len(pdf_file)):\n",
    "    \n",
    "    page = pdf_file[page_index]\n",
    "    #image_list = page.getImageList()\n",
    "    image_list = page.get_images()\n",
    "    n_img = n_img + len(image_list)\n",
    "\n",
    "    if image_list:\n",
    "        print(f\"Found a total of {len(image_list)} images in page {page_index}\")\n",
    "    else:\n",
    "        print(\"[!] No images found on page\", page_index)\n",
    "\n",
    "    #for image_index, img in enumerate(image_list):\n",
    "    #    xref = img[image_index]\n",
    "    #    base_image = pdf_file.extract_image(xref)\n",
    "    #    image = Image.open(io.BytesIO(base_image['image']))\n",
    "    #    rgb_img = image.convert('RGB')\n",
    "    #    rgb_img.show()\n",
    "\n",
    "print(len(pdf_file), n_img)    "
   ]
  },
  {
   "cell_type": "code",
   "execution_count": 61,
   "metadata": {},
   "outputs": [
    {
     "name": "stdout",
     "output_type": "stream",
     "text": [
      "17 16\n"
     ]
    }
   ],
   "source": [
    "file = \"Ender_PTFE expansion joints for chemical service.pdf\"\n",
    "infile = str(file[:-4])\n",
    "out_path = os.path.join(\"C:/Users/Ranja.Sarkar/DPdatabase/DPxtra/\", infile)\n",
    "os.mkdir(out_path)\n",
    "\n",
    "n_img = 0 \n",
    "pdf_file = fitz.open(file)\n",
    "for page_index in range(len(pdf_file)):\n",
    "    \n",
    "    page = pdf_file[page_index]\n",
    "    image_list = page.get_images()\n",
    "    for image_index, img in enumerate(image_list):\n",
    "        xref = img[image_index]\n",
    "        base_image = pdf_file.extract_image(xref)\n",
    "        image = Image.open(io.BytesIO(base_image['image']))\n",
    "        rgb_img = image.convert('RGB')\n",
    "        filename = infile+'_'+str(image_index)+\".jpg\"\n",
    "        output_path = os.path.join(out_path, filename)\n",
    "        rgb_img.save(output_path)\n",
    "        \n",
    "              \n",
    "    n_img = n_img + len(image_list)\n",
    "\n",
    "print(len(pdf_file), n_img)\n",
    "        "
   ]
  },
  {
   "cell_type": "code",
   "execution_count": null,
   "metadata": {},
   "outputs": [],
   "source": []
  },
  {
   "cell_type": "code",
   "execution_count": null,
   "metadata": {},
   "outputs": [],
   "source": []
  },
  {
   "cell_type": "code",
   "execution_count": null,
   "metadata": {},
   "outputs": [],
   "source": [
    "filePath = \"SR.19.00268_Failure Investigation Butyl Rubber Lining.pdf\"\n",
    "doc = fitz.Document(filePath)\n",
    "\n",
    "#page = doc.loadPage(0)\n",
    "page = doc.load_page(0)\n",
    "\n",
    "#xref = page.getImageList()[0][0]\n",
    "xref = page.get_images()[0][0]\n",
    "\n",
    "#baseImage = doc.extractImage(xref)\n",
    "baseImage = doc.extract_image(xref)\n",
    "\n",
    "image = Image.open(io.BytesIO(baseImage['image']))\n",
    "#image.show()\n",
    "image.save('tt.jpg')"
   ]
  },
  {
   "cell_type": "code",
   "execution_count": null,
   "metadata": {},
   "outputs": [],
   "source": []
  },
  {
   "cell_type": "code",
   "execution_count": null,
   "metadata": {},
   "outputs": [],
   "source": [
    "import minecart #requires pdfminer\n",
    "import PIL\n",
    "import os"
   ]
  },
  {
   "cell_type": "code",
   "execution_count": null,
   "metadata": {},
   "outputs": [],
   "source": [
    "def extractImages(filename):\n",
    "\n",
    "    dir_name = filename[:-4]\n",
    "    if not os.path.exists(dir_name):\n",
    "        os.makedir(dir_name + '/images')\n",
    "\n",
    "    pdf_file = open(filename, 'rb')\n",
    "    doc = minecart.Document(pdf_file)\n",
    "    \n",
    "    count = 0\n",
    "    for page in doc.iter_pages():\n",
    "        for i in range(len((doc.get_page()).images)):\n",
    "            try:\n",
    "                im = page.images[i].as_pil()  \n",
    "                name = dir_name + '/images/image_' + str(count) + '.jpg'\n",
    "                count = count + 1\n",
    "                im.save(name)\n",
    "            except:\n",
    "                print('Error encountered at %s' %filename)\n",
    "\n",
    "    #doc_name = dir_name + '/images/info.txt'\n",
    "\n",
    "    print('Number of images in document: {}'.format(count))"
   ]
  }
 ],
 "metadata": {
  "kernelspec": {
   "display_name": "Python 3",
   "language": "python",
   "name": "python3"
  },
  "language_info": {
   "codemirror_mode": {
    "name": "ipython",
    "version": 3
   },
   "file_extension": ".py",
   "mimetype": "text/x-python",
   "name": "python",
   "nbconvert_exporter": "python",
   "pygments_lexer": "ipython3",
   "version": "3.7.6"
  },
  "toc": {
   "base_numbering": 1,
   "nav_menu": {},
   "number_sections": true,
   "sideBar": true,
   "skip_h1_title": false,
   "title_cell": "Table of Contents",
   "title_sidebar": "Contents",
   "toc_cell": false,
   "toc_position": {},
   "toc_section_display": true,
   "toc_window_display": false
  },
  "varInspector": {
   "cols": {
    "lenName": 16,
    "lenType": 16,
    "lenVar": 40
   },
   "kernels_config": {
    "python": {
     "delete_cmd_postfix": "",
     "delete_cmd_prefix": "del ",
     "library": "var_list.py",
     "varRefreshCmd": "print(var_dic_list())"
    },
    "r": {
     "delete_cmd_postfix": ") ",
     "delete_cmd_prefix": "rm(",
     "library": "var_list.r",
     "varRefreshCmd": "cat(var_dic_list()) "
    }
   },
   "types_to_exclude": [
    "module",
    "function",
    "builtin_function_or_method",
    "instance",
    "_Feature"
   ],
   "window_display": false
  }
 },
 "nbformat": 4,
 "nbformat_minor": 4
}
