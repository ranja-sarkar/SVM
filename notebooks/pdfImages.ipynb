{
 "cells": [
  {
   "cell_type": "code",
   "execution_count": null,
   "metadata": {},
   "outputs": [],
   "source": [
    "import warnings\n",
    "warnings.filterwarnings(\"ignore\")\n",
    "import PyPDF2\n",
    "\n",
    "filepath = \"GS.08.54388_Failure_analysis_of_aramid_reinforced_guide-straps_ex_Brigantine_platform.pdf\"\n",
    "pdfFileObj = open(filepath, 'rb') \n",
    "pdfreader = PyPDF2.PdfFileReader(pdfFileObj) \n",
    "count = pdfreader.numPages\n",
    "\n",
    "text = ''\n",
    "#text = []\n",
    "for j in range(count):\n",
    "    page = pdfreader.getPage(j)\n",
    "    pp = page.extractText()\n",
    "#    text.append(pp)\n",
    "    text = text + pp\n",
    "        \n",
    "#print(text)"
   ]
  },
  {
   "cell_type": "code",
   "execution_count": 22,
   "metadata": {},
   "outputs": [],
   "source": [
    "##from pytldr.nlp.tokenizer import Tokenizer\n",
    "##from pytldr.summarize.lsa import LsaSummarizer, LsaOzsoy, LsaSteinberger\n",
    "\n",
    "##tokenizer = Tokenizer(language='english', stopwords=None, stemming=True)\n",
    "\n",
    "# Note that if stopwords=None then the tokenizer loads stopwords from a bundled data-set\n",
    "# You can alternatively specify a text file or provide a list of words\n",
    "\n",
    "#summarizer = LsaOzsoy()\n",
    "#summarizer = LsaSteinberger()\n",
    "##summarizer = LsaSummarizer()  # This is identical to the LsaOzsoy object\n",
    "\n",
    "##summary = summarizer.summarize(text, topics=4, length=5, binary_matrix=True, topic_sigma_threshold=0.5)\n",
    "\n",
    "# topics specifies the number of topics to cluster the article into.\n",
    "# topic_sigma_threshold removes all topics with a singular value less than a given\n",
    "# percentage of the largest singular value."
   ]
  },
  {
   "cell_type": "code",
   "execution_count": 1,
   "metadata": {},
   "outputs": [],
   "source": [
    "import fitz #requires PyMuPDF\n",
    "import time\n",
    "import os"
   ]
  },
  {
   "cell_type": "code",
   "execution_count": 18,
   "metadata": {},
   "outputs": [],
   "source": [
    "#t0 = time.clock()\n",
    "\n",
    "def extract_images(filename):\n",
    "    #filename = \"GS.09.51520_Evaluation of polymers for gas injection lines conveying high pressure and supercritical carbon dioxide.pdf\"\n",
    "    doc = fitz.open(filename)\n",
    "    dir_name = str(filename[:-4])\n",
    "    out_path = os.path.join(\"C:/Users/Ranja.Sarkar/DPdatabase/DPxtra/\", dir_name)\n",
    "    if not os.path.exists(out_path):\n",
    "        #os.makedir(dir_name + '/images')\n",
    "        os.makedirs(out_path)\n",
    "    print('Output directory of images created.')\n",
    "    \n",
    "    imgcount = 0\n",
    "    for i in range(len(doc)):\n",
    "        #for img in doc.getPageImageList(i):\n",
    "        for img in doc.get_page_images(i):\n",
    "            try:\n",
    "                xref = img[0]\n",
    "                pix = fitz.Pixmap(doc, xref)\n",
    "                imgcount += 1\n",
    "                if pix.n > 5:\n",
    "                    name = 'p%s-%s.jpg' %(i, xref)\n",
    "                    output = os.path.join(out_path, name)\n",
    "                    #pix.writePNG(\"p%s-%s.jpg\" %(i, xref)) \n",
    "                    pix.save(output)\n",
    "                else:\n",
    "                    pix1 = fitz.Pixmap(fitz.csRGB, pix)\n",
    "                    name = 'p%s-%s.jpg' %(i, xref)\n",
    "                    output = os.path.join(out_path, name)\n",
    "                    #pix1.writePNG('p%s-%s.jpg' %(i, xref)) \n",
    "                    pix1.save(output)\n",
    "                    pix1 = None \n",
    "                pix = None\n",
    "            except:\n",
    "                print('ERROR ENCOUNTERED AT FILE.')\n",
    "        \n",
    "    return print(\"Number of images extracted = \", imgcount)\n",
    "\n",
    "#t1 = time.clock()\n",
    "#print(\"#images = \", imgcount)\n",
    "#print(\"Time taken\", round(t1-t0,2))"
   ]
  },
  {
   "cell_type": "code",
   "execution_count": 22,
   "metadata": {},
   "outputs": [
    {
     "name": "stdout",
     "output_type": "stream",
     "text": [
      "Output directory of images created.\n"
     ]
    },
    {
     "name": "stderr",
     "output_type": "stream",
     "text": [
      "mupdf: source colorspace must not be None\n",
      "Exception ignored in: <function Pixmap.__del__ at 0x000001CEAC2DCE58>\n",
      "Traceback (most recent call last):\n",
      "  File \"C:\\Users\\Ranja.Sarkar\\Anaconda3\\lib\\site-packages\\fitz\\fitz.py\", line 7104, in __del__\n",
      "    self.__swig_destroy__(self)\n",
      "TypeError: in method 'delete_Pixmap', argument 1 of type 'struct Pixmap *'\n"
     ]
    },
    {
     "name": "stdout",
     "output_type": "stream",
     "text": [
      "Error encountered at file\n",
      "Number of images extracted =  223\n",
      "Time taken (s) =  953.61\n"
     ]
    }
   ],
   "source": [
    "extract_images(\"GS.09.51520_Evaluation of polymers for gas injection lines conveying high pressure and supercritical carbon dioxide.pdf\")\n",
    "print(\"Time taken (s) = \", round(time.perf_counter(), 2))"
   ]
  },
  {
   "cell_type": "code",
   "execution_count": 9,
   "metadata": {},
   "outputs": [],
   "source": [
    "from PIL import Image\n",
    "from pylab import *\n",
    "\n",
    "#im = array(Image.open('p0-99.jpg'))\n",
    "#imshow(im)"
   ]
  },
  {
   "cell_type": "code",
   "execution_count": 38,
   "metadata": {},
   "outputs": [],
   "source": [
    "#import os\n",
    "#from IPython.display import display\n",
    "#from IPython.display import Image as _Imgdis\n",
    "\n",
    "#folder = \"C:/Users/Ranja.Sarkar/DPdatabase/failure_analysis_data\"\n",
    "\n",
    "#onlyfiles = [f for f in os.listdir(folder) if os.path.isfile(os.path.join(folder, f+\".jpg\"))]\n",
    "\n",
    "#for i in range(len(onlyfiles)):\n",
    "##    print(onlyfiles[i])\n",
    "#    display(_Imgdis(filename = folder + \"/\" + onlyfiles[i], width=240, height=320))"
   ]
  },
  {
   "cell_type": "code",
   "execution_count": 32,
   "metadata": {},
   "outputs": [],
   "source": [
    "import bpy\n",
    "from os.path import join, isfile\n",
    "from os import listdir\n",
    "from pylab import *\n",
    "\n",
    "imagePath = 'C:/Users/Ranja.Sarkar/DPdatabase/DPxtra/MAU-SR.16.10506 PEARL Assessment of HNBR for BOP application'\n",
    "imgFiles  = [\n",
    "    join(imagePath, fn)                     # Create full paths to images\n",
    "    for fn in listdir(imagePath)           # For each item in the image folder\n",
    "    if isfile(join(imagePath, fn))         # If the item is indeed a file\n",
    "    and fn.lower().endswith(('.png','.jpg'))]\n",
    "\n",
    "imageObjects = []\n",
    "# Load entire list of images\n",
    "for img in imgFiles:\n",
    "    # Add to image object list to use later\n",
    "    imageObjects.append(bpy.data.images.load(img)) \n",
    "\n",
    "# Load a specific index from the list (5th in the list in this example)\n",
    "imgObj = bpy.data.images.load(imgFiles[4])\n",
    "show(imgObj)\n",
    "#len(imageObjects)"
   ]
  },
  {
   "cell_type": "code",
   "execution_count": 22,
   "metadata": {},
   "outputs": [
    {
     "data": {
      "text/plain": [
       "<matplotlib.image.AxesImage at 0x18646a17548>"
      ]
     },
     "execution_count": 22,
     "metadata": {},
     "output_type": "execute_result"
    },
    {
     "data": {
      "image/png": "[encoded data removed]",
      "text/plain": [
       "<Figure size 432x288 with 1 Axes>"
      ]
     },
     "metadata": {
      "needs_background": "light"
     },
     "output_type": "display_data"
    }
   ],
   "source": [
    "from PIL import Image\n",
    "from pylab import *\n",
    "\n",
    "im = Image.open('p22-285.jpg')\n",
    "imshow(im)"
   ]
  },
  {
   "cell_type": "code",
   "execution_count": null,
   "metadata": {},
   "outputs": [],
   "source": []
  }
 ],
 "metadata": {
  "kernelspec": {
   "display_name": "Python 3",
   "language": "python",
   "name": "python3"
  },
  "language_info": {
   "codemirror_mode": {
    "name": "ipython",
    "version": 3
   },
   "file_extension": ".py",
   "mimetype": "text/x-python",
   "name": "python",
   "nbconvert_exporter": "python",
   "pygments_lexer": "ipython3",
   "version": "3.7.6"
  }
 },
 "nbformat": 4,
 "nbformat_minor": 4
}
