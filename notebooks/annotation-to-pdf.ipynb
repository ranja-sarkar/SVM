{
 "cells": [
  {
   "cell_type": "code",
   "execution_count": null,
   "source": [
    "from pdf_annotate import PdfAnnotator, Appearance, Location\r\n",
    "\r\n",
    "annotator = PdfAnnotator('test.pdf')\r\n",
    "annotator.add_annotation('square',  Location(x1=50, y1=50, x2=100, y2=100, page = 0),\r\n",
    "    Appearance(stroke_color = (1, 0, 0), stroke_width = 2),)\r\n",
    "\r\n",
    "annotator.write('annotated.pdf')\r\n",
    "\r\n",
    "#Supported annotation types\r\n",
    "##square\r\n",
    "##circle\r\n",
    "#line\r\n",
    "#polygon\r\n",
    "#polyline\r\n",
    "#ink\r\n",
    "#text\r\n",
    "#image"
   ],
   "outputs": [],
   "metadata": {}
  },
  {
   "cell_type": "markdown",
   "source": [
    "# MAIN CODE for EXECUTION"
   ],
   "metadata": {}
  },
  {
   "cell_type": "code",
   "execution_count": 1,
   "source": [
    "#from io import StringIO\r\n",
    "from reportlab.pdfgen.canvas import Canvas\r\n",
    "from reportlab.lib.pagesizes import letter\r\n",
    "\r\n",
    "can = Canvas(\"add.pdf\")\r\n",
    "can.drawString(100, 700, \"This document has been reclassified from CONFIDENTIAL to RESTRICTED.\")\r\n",
    "can.setFont(\"Times-Roman\", 44)\r\n",
    "can.save()\r\n"
   ],
   "outputs": [],
   "metadata": {}
  },
  {
   "cell_type": "code",
   "execution_count": 5,
   "source": [
    "from PyPDF2 import PdfFileWriter, PdfFileReader, PdfFileMerger\r\n",
    "\r\n",
    "infile_1 = PdfFileReader(\"test.pdf\", 'rb')\r\n",
    "infile_2 = PdfFileReader(\"add.pdf\", 'rb')\r\n",
    "\r\n",
    "pdfmerger = PdfFileMerger()\r\n",
    "pdfmerger.append(infile_2)\r\n",
    "pdfmerger.merge(1, infile_1)\r\n",
    "\r\n",
    "with open(\"annotated.pdf\", \"wb\") as of:\r\n",
    "    pdfmerger.write(of)"
   ],
   "outputs": [],
   "metadata": {}
  }
 ],
 "metadata": {
  "kernelspec": {
   "display_name": "Python 3",
   "language": "python",
   "name": "python3"
  },
  "language_info": {
   "codemirror_mode": {
    "name": "ipython",
    "version": 3
   },
   "file_extension": ".py",
   "mimetype": "text/x-python",
   "name": "python",
   "nbconvert_exporter": "python",
   "pygments_lexer": "ipython3",
   "version": "3.7.6"
  },
  "toc": {
   "base_numbering": 1,
   "nav_menu": {},
   "number_sections": true,
   "sideBar": true,
   "skip_h1_title": false,
   "title_cell": "Table of Contents",
   "title_sidebar": "Contents",
   "toc_cell": false,
   "toc_position": {},
   "toc_section_display": true,
   "toc_window_display": false
  },
  "varInspector": {
   "cols": {
    "lenName": 16,
    "lenType": 16,
    "lenVar": 40
   },
   "kernels_config": {
    "python": {
     "delete_cmd_postfix": "",
     "delete_cmd_prefix": "del ",
     "library": "var_list.py",
     "varRefreshCmd": "print(var_dic_list())"
    },
    "r": {
     "delete_cmd_postfix": ") ",
     "delete_cmd_prefix": "rm(",
     "library": "var_list.r",
     "varRefreshCmd": "cat(var_dic_list()) "
    }
   },
   "types_to_exclude": [
    "module",
    "function",
    "builtin_function_or_method",
    "instance",
    "_Feature"
   ],
   "window_display": false
  }
 },
 "nbformat": 4,
 "nbformat_minor": 4
}