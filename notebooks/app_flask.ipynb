{
 "cells": [
  {
   "cell_type": "code",
   "execution_count": null,
   "metadata": {},
   "outputs": [],
   "source": [
    "import os\n",
    "import sys\n",
    "\n",
    "from flask import Flask\n",
    "\n",
    "def init_webhooks(base_url):\n",
    "    # Update inbound traffic via APIs to use the public-facing ngrok URL\n",
    "    pass\n",
    "\n",
    "def create_app():\n",
    "    app = Flask(__name__)\n",
    "\n",
    "    # Initialize our ngrok settings into Flask\n",
    "    app.config.from_mapping(\n",
    "        BASE_URL=\"http://localhost:5000\",\n",
    "        USE_NGROK=os.environ.get(\"USE_NGROK\", \"False\") == \"True\" and os.environ.get(\"WERKZEUG_RUN_MAIN\") != \"true\"\n",
    "    )\n",
    "\n",
    "    if app.config.get(\"ENV\") == \"development\" and app.config[\"USE_NGROK\"]:\n",
    "        # pyngrok will only be installed, and should only ever be initialized, in a dev environment\n",
    "        from pyngrok import ngrok\n",
    "\n",
    "        # Get the dev server port (defaults to 5000 for Flask, can be overridden with `--port`\n",
    "        # when starting the server\n",
    "        port = sys.argv[sys.argv.index(\"--port\") + 1] if \"--port\" in sys.argv else 5000\n",
    "\n",
    "        # Open a ngrok tunnel to the dev server\n",
    "        public_url = ngrok.connect(port).public_url\n",
    "        print(\" * ngrok tunnel \\\"{}\\\" -> \\\"http://127.0.0.1:{}\\\"\".format(public_url, port))\n",
    "\n",
    "        # Update any base URLs or webhooks to use the public ngrok URL\n",
    "        app.config[\"BASE_URL\"] = public_url\n",
    "        init_webhooks(public_url)\n",
    "\n",
    "    # ... Initialize Blueprints and the rest of our app\n",
    "\n",
    "    return app"
   ]
  },
  {
   "cell_type": "code",
   "execution_count": null,
   "metadata": {},
   "outputs": [],
   "source": []
  }
 ],
 "metadata": {
  "interpreter": {
   "hash": "af8b93295ec152667600696eebafdfb1a6679e79e15871d01906b24cd0cc4b31"
  },
  "kernelspec": {
   "display_name": "Python 3.7.6 64-bit ('base': conda)",
   "name": "python3"
  },
  "language_info": {
   "codemirror_mode": {
    "name": "ipython",
    "version": 3
   },
   "file_extension": ".py",
   "mimetype": "text/x-python",
   "name": "python",
   "nbconvert_exporter": "python",
   "pygments_lexer": "ipython3",
   "version": "3.7.6"
  },
  "toc": {
   "base_numbering": 1,
   "nav_menu": {},
   "number_sections": true,
   "sideBar": true,
   "skip_h1_title": false,
   "title_cell": "Table of Contents",
   "title_sidebar": "Contents",
   "toc_cell": false,
   "toc_position": {},
   "toc_section_display": true,
   "toc_window_display": false
  },
  "varInspector": {
   "cols": {
    "lenName": 16,
    "lenType": 16,
    "lenVar": 40
   },
   "kernels_config": {
    "python": {
     "delete_cmd_postfix": "",
     "delete_cmd_prefix": "del ",
     "library": "var_list.py",
     "varRefreshCmd": "print(var_dic_list())"
    },
    "r": {
     "delete_cmd_postfix": ") ",
     "delete_cmd_prefix": "rm(",
     "library": "var_list.r",
     "varRefreshCmd": "cat(var_dic_list()) "
    }
   },
   "types_to_exclude": [
    "module",
    "function",
    "builtin_function_or_method",
    "instance",
    "_Feature"
   ],
   "window_display": false
  }
 },
 "nbformat": 4,
 "nbformat_minor": 2
}
