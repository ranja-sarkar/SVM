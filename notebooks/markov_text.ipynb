{
 "cells": [
  {
   "cell_type": "code",
   "execution_count": 1,
   "metadata": {},
   "outputs": [],
   "source": [
    "import warnings\n",
    "warnings.filterwarnings(\"ignore\")"
   ]
  },
  {
   "cell_type": "code",
   "execution_count": 2,
   "metadata": {},
   "outputs": [],
   "source": [
    "from sklearn.feature_extraction.text import CountVectorizer\n",
    "from sklearn.feature_extraction.text import TfidfVectorizer\n",
    "\n",
    "import string\n",
    "import nltk\n",
    "\n",
    "import pandas as pd"
   ]
  },
  {
   "cell_type": "code",
   "execution_count": 3,
   "metadata": {},
   "outputs": [],
   "source": [
    "lemmer = nltk.stem.WordNetLemmatizer()\n",
    "def LemTokens(tokens):\n",
    "     return [lemmer.lemmatize(token) for token in tokens]\n",
    "\n",
    "\n",
    "remove_punct_dict = dict((ord(punct), None) for punct in string.punctuation)\n",
    "def LemNormalize(text):\n",
    "     return LemTokens(nltk.word_tokenize(text.lower().translate(remove_punct_dict)))\n"
   ]
  },
  {
   "cell_type": "code",
   "execution_count": 7,
   "metadata": {},
   "outputs": [
    {
     "name": "stdout",
     "output_type": "stream",
     "text": [
      "          text1     text2     text3\n",
      "text1  1.000000  0.289416  0.350025\n",
      "text2  0.289416  1.000000  0.444271\n",
      "text3  0.350025  0.444271  1.000000\n"
     ]
    }
   ],
   "source": [
    "text1 = 'There is no change in hardness under ambient temperatures.'\n",
    "text2 = 'There is change in hardness upon exposure to the solvent.'\n",
    "text3 = 'There is change in hardness upon high pressure.'\n",
    "\n",
    "test_set = [text1, text2, text3]\n",
    "\n",
    "TfidfVec = TfidfVectorizer(tokenizer = LemNormalize)\n",
    "\n",
    "def cos_similarity(text):\n",
    "    tfidf = TfidfVec.fit_transform(text)\n",
    "    return (tfidf * tfidf.T).toarray()\n",
    "\n",
    "mat = cos_similarity(test_set)\n",
    "#print(mat)\n",
    "\n",
    "df = pd.DataFrame(mat, columns = ['text1', 'text2', 'text3'], index = ['text1', 'text2', 'text3'])\n",
    "print(df)"
   ]
  },
  {
   "cell_type": "markdown",
   "metadata": {},
   "source": [
    "# Test case"
   ]
  },
  {
   "cell_type": "markdown",
   "metadata": {},
   "source": [
    "# Text summarization"
   ]
  },
  {
   "cell_type": "code",
   "execution_count": 1,
   "metadata": {},
   "outputs": [],
   "source": [
    "import PyPDF2\n",
    "import string\n",
    "\n",
    "filepath = \"GS.07.50734_Technical assessment of spoolable fibre.pdf\"\n",
    "pdfFileObj = open(filepath, 'rb') \n",
    "pdfreader = PyPDF2.PdfFileReader(pdfFileObj) \n",
    "count = pdfreader.numPages\n",
    "#exclude = set(string.punctuation)\n",
    "\n",
    "text = ''\n",
    "for j in range(count):\n",
    "    page = pdfreader.getPage(j)\n",
    "    pp = page.extractText()\n",
    "#    text.append(pp)\n",
    "    text = text + pp\n",
    "#    text = ''.join(ch for ch in text if ch not in exclude) \n",
    "    \n",
    "#print(text)"
   ]
  },
  {
   "cell_type": "markdown",
   "metadata": {},
   "source": [
    "Generate random sentences from text data.\n",
    "Every time the program is run a new output is generated because Markov models are memoryless."
   ]
  },
  {
   "cell_type": "code",
   "execution_count": 10,
   "metadata": {},
   "outputs": [
    {
     "name": "stdout",
     "output_type": "stream",
     "text": [
      "Surface Installations Techniques for surface installation of Fiberspar spools are fabricated from steel GS.07.50734 RESTRICTED - ECCN EAR 99 36Manual GIG01 rev 021606 2006 Fiberspar LinePipe based on minimum 20-year service life using ASTM D2992 long-term test procedures.\n",
      "The pulling head is then pulled around the spool flange, or to cut the pipe rated pressure per minute to 50% of the spool, providing a positive drive system.\n",
      "These cradles are used to push the FS LP.\n"
     ]
    }
   ],
   "source": [
    "import markovify\n",
    "\n",
    "data_model = markovify.Text(text)\n",
    "\n",
    "#for i in range(3):\n",
    "#    print(data_model.make_sentence())\n",
    "    \n",
    "for i in range(3):\n",
    "    print(data_model.make_short_sentence(300))"
   ]
  },
  {
   "cell_type": "markdown",
   "metadata": {},
   "source": [
    "# Similarity to a phrase"
   ]
  },
  {
   "cell_type": "code",
   "execution_count": 35,
   "metadata": {},
   "outputs": [],
   "source": [
    "text2 = 'There is change in hardness upon exposure to the solvent. There is no change in hardness under ambient temperatures.'\n",
    "\n",
    "test_set = [text1, text2]"
   ]
  },
  {
   "cell_type": "code",
   "execution_count": 36,
   "metadata": {},
   "outputs": [
    {
     "name": "stdout",
     "output_type": "stream",
     "text": [
      "[[1.         0.18764328]\n",
      " [0.18764328 1.        ]]\n"
     ]
    }
   ],
   "source": [
    "TfidfVec = TfidfVectorizer(tokenizer = LemNormalize)\n",
    "\n",
    "def cos_similarity(text):\n",
    "    tfidf = TfidfVec.fit_transform(text)\n",
    "    return (tfidf * tfidf.T).toarray()\n",
    "\n",
    "print(cos_similarity(test_set))"
   ]
  },
  {
   "cell_type": "code",
   "execution_count": 40,
   "metadata": {},
   "outputs": [
    {
     "name": "stdout",
     "output_type": "stream",
     "text": [
      "          text1     text2\n",
      "text1  1.000000  0.187643\n",
      "text2  0.187643  1.000000\n"
     ]
    }
   ],
   "source": [
    "import pandas as pd\n",
    "\n",
    "df = pd.DataFrame(cos_similarity(test_set), columns = ['text1', 'text2'], index = ['text1', 'text2'])\n",
    "print(df)"
   ]
  },
  {
   "cell_type": "code",
   "execution_count": null,
   "metadata": {},
   "outputs": [],
   "source": [
    "import numpy as np\n",
    "\n",
    "a = cos_similarity(test_set)\n",
    "\n",
    "print(np.triu(a)) #np.tril(a)"
   ]
  },
  {
   "cell_type": "code",
   "execution_count": 34,
   "metadata": {},
   "outputs": [],
   "source": [
    "#from sklearn.metrics.pairwise import cosine_similarity"
   ]
  },
  {
   "cell_type": "code",
   "execution_count": null,
   "metadata": {},
   "outputs": [],
   "source": []
  }
 ],
 "metadata": {
  "kernelspec": {
   "display_name": "Python 3",
   "language": "python",
   "name": "python3"
  },
  "language_info": {
   "codemirror_mode": {
    "name": "ipython",
    "version": 3
   },
   "file_extension": ".py",
   "mimetype": "text/x-python",
   "name": "python",
   "nbconvert_exporter": "python",
   "pygments_lexer": "ipython3",
   "version": "3.7.6"
  }
 },
 "nbformat": 4,
 "nbformat_minor": 4
}
