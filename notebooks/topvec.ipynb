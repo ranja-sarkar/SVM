{
 "cells": [
  {
   "cell_type": "code",
   "execution_count": 1,
   "metadata": {},
   "outputs": [],
   "source": [
    "import os\n",
    "\n",
    "path = \"internal_reports_readable/\"\n",
    "docs = os.listdir(path)"
   ]
  },
  {
   "cell_type": "code",
   "execution_count": 2,
   "metadata": {},
   "outputs": [],
   "source": [
    "import warnings\n",
    "warnings.filterwarnings(\"ignore\")"
   ]
  },
  {
   "cell_type": "code",
   "execution_count": 3,
   "metadata": {},
   "outputs": [],
   "source": [
    "import PyPDF2\n",
    "import string\n",
    "\n",
    "exclude = set(string.punctuation)\n",
    "alldocslist = []\n",
    "#docslist = []\n",
    "\n",
    "for index, i in  enumerate(docs):\n",
    "    doctext = []\n",
    "    if i.endswith(\".pdf\"):\n",
    "        in_file = os.path.abspath(path + \"\\\\\" + i)\n",
    "        in_file1 = in_file.encode('UTF-8')\n",
    "        pdfileobject = open(in_file1,'rb')\n",
    "        pdfreader = PyPDF2.PdfFileReader(pdfileobject)   \n",
    "        count = pdfreader.numPages\n",
    "        for j in range(count):\n",
    "            page = pdfreader.getPage(j)\n",
    "            pp = page.extractText()\n",
    "            doctext.append(pp)\n",
    "            \n",
    "#        dt = ''.join(ch for ch in doctext)\n",
    "#        docslist.append(dt)\n",
    "        doctext = ''.join(ch for ch in doctext if ch not in exclude)        \n",
    "        alldocslist.append(doctext) "
   ]
  },
  {
   "cell_type": "code",
   "execution_count": 4,
   "metadata": {},
   "outputs": [
    {
     "ename": "ModuleNotFoundError",
     "evalue": "No module named 'top2vec'",
     "output_type": "error",
     "traceback": [
      "\u001b[1;31m---------------------------------------------------------------------------\u001b[0m",
      "\u001b[1;31mModuleNotFoundError\u001b[0m                       Traceback (most recent call last)",
      "\u001b[1;32m<ipython-input-4-9a81163f0da9>\u001b[0m in \u001b[0;36m<module>\u001b[1;34m\u001b[0m\n\u001b[1;32m----> 1\u001b[1;33m \u001b[1;32mfrom\u001b[0m \u001b[0mtop2vec\u001b[0m \u001b[1;32mimport\u001b[0m \u001b[0mTop2Vec\u001b[0m\u001b[1;33m\u001b[0m\u001b[1;33m\u001b[0m\u001b[0m\n\u001b[0m",
      "\u001b[1;31mModuleNotFoundError\u001b[0m: No module named 'top2vec'"
     ]
    }
   ],
   "source": [
    "from top2vec import Top2Vec"
   ]
  },
  {
   "cell_type": "code",
   "execution_count": null,
   "metadata": {},
   "outputs": [],
   "source": []
  }
 ],
 "metadata": {
  "kernelspec": {
   "display_name": "Python 3",
   "language": "python",
   "name": "python3"
  },
  "language_info": {
   "codemirror_mode": {
    "name": "ipython",
    "version": 3
   },
   "file_extension": ".py",
   "mimetype": "text/x-python",
   "name": "python",
   "nbconvert_exporter": "python",
   "pygments_lexer": "ipython3",
   "version": "3.7.6"
  }
 },
 "nbformat": 4,
 "nbformat_minor": 4
}
