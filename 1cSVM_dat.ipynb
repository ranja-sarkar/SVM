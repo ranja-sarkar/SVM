{
  "nbformat": 4,
  "nbformat_minor": 0,
  "metadata": {
    "colab": {
      "provenance": [],
      "toc_visible": true,
      "authorship_tag": "ABX9TyOkMLoRPBirxHPBsqop5rPI",
      "include_colab_link": true
    },
    "kernelspec": {
      "name": "python3",
      "display_name": "Python 3"
    },
    "language_info": {
      "name": "python"
    }
  },
  "cells": [
    {
      "cell_type": "markdown",
      "metadata": {
        "id": "view-in-github",
        "colab_type": "text"
      },
      "source": [
        "<a href=\"https://colab.research.google.com/github/ranja-sarkar/SVM/blob/main/1cSVM_dat.ipynb\" target=\"_parent\"><img src=\"https://colab.research.google.com/assets/colab-badge.svg\" alt=\"Open In Colab\"/></a>"
      ]
    },
    {
      "cell_type": "code",
      "execution_count": 1,
      "metadata": {
        "id": "cLEyHcnAl2dX"
      },
      "outputs": [],
      "source": [
        "import pandas as pd\n",
        "import numpy as np\n",
        "import matplotlib.pyplot as plt\n",
        "\n",
        "import sklearn.datasets\n",
        "from sklearn.preprocessing import StandardScaler\n",
        "from sklearn.svm import OneClassSVM"
      ]
    },
    {
      "cell_type": "markdown",
      "source": [
        "# Data"
      ],
      "metadata": {
        "id": "YiFCHrkGe-94"
      }
    },
    {
      "cell_type": "code",
      "source": [
        "kddcup = sklearn.datasets.fetch_kddcup99(random_state = 42, percent10 = True)\n",
        "train = pd.DataFrame(kddcup.data, columns = kddcup.feature_names)\n",
        "\n",
        "dff = train.head(104000)"
      ],
      "metadata": {
        "id": "QLvEW1b7l55C"
      },
      "execution_count": 27,
      "outputs": []
    },
    {
      "cell_type": "code",
      "source": [
        "dff.info()  #reduced datasize #downsizing from ~150 MB to ~30MB"
      ],
      "metadata": {
        "colab": {
          "base_uri": "https://localhost:8080/"
        },
        "id": "H_Oh1b1pl7FP",
        "outputId": "92825a32-0be8-4d9e-8cf1-4f80a025743b"
      },
      "execution_count": 28,
      "outputs": [
        {
          "output_type": "stream",
          "name": "stdout",
          "text": [
            "<class 'pandas.core.frame.DataFrame'>\n",
            "RangeIndex: 104000 entries, 0 to 103999\n",
            "Data columns (total 41 columns):\n",
            " #   Column                       Non-Null Count   Dtype \n",
            "---  ------                       --------------   ----- \n",
            " 0   duration                     104000 non-null  object\n",
            " 1   protocol_type                104000 non-null  object\n",
            " 2   service                      104000 non-null  object\n",
            " 3   flag                         104000 non-null  object\n",
            " 4   src_bytes                    104000 non-null  object\n",
            " 5   dst_bytes                    104000 non-null  object\n",
            " 6   land                         104000 non-null  object\n",
            " 7   wrong_fragment               104000 non-null  object\n",
            " 8   urgent                       104000 non-null  object\n",
            " 9   hot                          104000 non-null  object\n",
            " 10  num_failed_logins            104000 non-null  object\n",
            " 11  logged_in                    104000 non-null  object\n",
            " 12  num_compromised              104000 non-null  object\n",
            " 13  root_shell                   104000 non-null  object\n",
            " 14  su_attempted                 104000 non-null  object\n",
            " 15  num_root                     104000 non-null  object\n",
            " 16  num_file_creations           104000 non-null  object\n",
            " 17  num_shells                   104000 non-null  object\n",
            " 18  num_access_files             104000 non-null  object\n",
            " 19  num_outbound_cmds            104000 non-null  object\n",
            " 20  is_host_login                104000 non-null  object\n",
            " 21  is_guest_login               104000 non-null  object\n",
            " 22  count                        104000 non-null  object\n",
            " 23  srv_count                    104000 non-null  object\n",
            " 24  serror_rate                  104000 non-null  object\n",
            " 25  srv_serror_rate              104000 non-null  object\n",
            " 26  rerror_rate                  104000 non-null  object\n",
            " 27  srv_rerror_rate              104000 non-null  object\n",
            " 28  same_srv_rate                104000 non-null  object\n",
            " 29  diff_srv_rate                104000 non-null  object\n",
            " 30  srv_diff_host_rate           104000 non-null  object\n",
            " 31  dst_host_count               104000 non-null  object\n",
            " 32  dst_host_srv_count           104000 non-null  object\n",
            " 33  dst_host_same_srv_rate       104000 non-null  object\n",
            " 34  dst_host_diff_srv_rate       104000 non-null  object\n",
            " 35  dst_host_same_src_port_rate  104000 non-null  object\n",
            " 36  dst_host_srv_diff_host_rate  104000 non-null  object\n",
            " 37  dst_host_serror_rate         104000 non-null  object\n",
            " 38  dst_host_srv_serror_rate     104000 non-null  object\n",
            " 39  dst_host_rerror_rate         104000 non-null  object\n",
            " 40  dst_host_srv_rerror_rate     104000 non-null  object\n",
            "dtypes: object(41)\n",
            "memory usage: 32.5+ MB\n"
          ]
        }
      ]
    },
    {
      "cell_type": "code",
      "source": [
        "dff.nunique()"
      ],
      "metadata": {
        "colab": {
          "base_uri": "https://localhost:8080/",
          "height": 1000
        },
        "id": "Yh-pw4sUl6-Q",
        "outputId": "d4dd4493-8c15-46fb-a1f8-caa97bf879aa"
      },
      "execution_count": 29,
      "outputs": [
        {
          "output_type": "execute_result",
          "data": {
            "text/plain": [
              "duration                        233\n",
              "protocol_type                     3\n",
              "service                          63\n",
              "flag                             11\n",
              "src_bytes                      2674\n",
              "dst_bytes                      9202\n",
              "land                              2\n",
              "wrong_fragment                    3\n",
              "urgent                            4\n",
              "hot                              17\n",
              "num_failed_logins                 5\n",
              "logged_in                         2\n",
              "num_compromised                  12\n",
              "root_shell                        2\n",
              "su_attempted                      3\n",
              "num_root                         13\n",
              "num_file_creations               11\n",
              "num_shells                        3\n",
              "num_access_files                  5\n",
              "num_outbound_cmds                 1\n",
              "is_host_login                     1\n",
              "is_guest_login                    2\n",
              "count                           379\n",
              "srv_count                       349\n",
              "serror_rate                      41\n",
              "srv_serror_rate                  36\n",
              "rerror_rate                      54\n",
              "srv_rerror_rate                  30\n",
              "same_srv_rate                    64\n",
              "diff_srv_rate                    55\n",
              "srv_diff_host_rate               64\n",
              "dst_host_count                  256\n",
              "dst_host_srv_count              256\n",
              "dst_host_same_srv_rate          101\n",
              "dst_host_diff_srv_rate          101\n",
              "dst_host_same_src_port_rate     101\n",
              "dst_host_srv_diff_host_rate      54\n",
              "dst_host_serror_rate             76\n",
              "dst_host_srv_serror_rate         38\n",
              "dst_host_rerror_rate            101\n",
              "dst_host_srv_rerror_rate         84\n",
              "dtype: int64"
            ],
            "text/html": [
              "<div>\n",
              "<style scoped>\n",
              "    .dataframe tbody tr th:only-of-type {\n",
              "        vertical-align: middle;\n",
              "    }\n",
              "\n",
              "    .dataframe tbody tr th {\n",
              "        vertical-align: top;\n",
              "    }\n",
              "\n",
              "    .dataframe thead th {\n",
              "        text-align: right;\n",
              "    }\n",
              "</style>\n",
              "<table border=\"1\" class=\"dataframe\">\n",
              "  <thead>\n",
              "    <tr style=\"text-align: right;\">\n",
              "      <th></th>\n",
              "      <th>0</th>\n",
              "    </tr>\n",
              "  </thead>\n",
              "  <tbody>\n",
              "    <tr>\n",
              "      <th>duration</th>\n",
              "      <td>233</td>\n",
              "    </tr>\n",
              "    <tr>\n",
              "      <th>protocol_type</th>\n",
              "      <td>3</td>\n",
              "    </tr>\n",
              "    <tr>\n",
              "      <th>service</th>\n",
              "      <td>63</td>\n",
              "    </tr>\n",
              "    <tr>\n",
              "      <th>flag</th>\n",
              "      <td>11</td>\n",
              "    </tr>\n",
              "    <tr>\n",
              "      <th>src_bytes</th>\n",
              "      <td>2674</td>\n",
              "    </tr>\n",
              "    <tr>\n",
              "      <th>dst_bytes</th>\n",
              "      <td>9202</td>\n",
              "    </tr>\n",
              "    <tr>\n",
              "      <th>land</th>\n",
              "      <td>2</td>\n",
              "    </tr>\n",
              "    <tr>\n",
              "      <th>wrong_fragment</th>\n",
              "      <td>3</td>\n",
              "    </tr>\n",
              "    <tr>\n",
              "      <th>urgent</th>\n",
              "      <td>4</td>\n",
              "    </tr>\n",
              "    <tr>\n",
              "      <th>hot</th>\n",
              "      <td>17</td>\n",
              "    </tr>\n",
              "    <tr>\n",
              "      <th>num_failed_logins</th>\n",
              "      <td>5</td>\n",
              "    </tr>\n",
              "    <tr>\n",
              "      <th>logged_in</th>\n",
              "      <td>2</td>\n",
              "    </tr>\n",
              "    <tr>\n",
              "      <th>num_compromised</th>\n",
              "      <td>12</td>\n",
              "    </tr>\n",
              "    <tr>\n",
              "      <th>root_shell</th>\n",
              "      <td>2</td>\n",
              "    </tr>\n",
              "    <tr>\n",
              "      <th>su_attempted</th>\n",
              "      <td>3</td>\n",
              "    </tr>\n",
              "    <tr>\n",
              "      <th>num_root</th>\n",
              "      <td>13</td>\n",
              "    </tr>\n",
              "    <tr>\n",
              "      <th>num_file_creations</th>\n",
              "      <td>11</td>\n",
              "    </tr>\n",
              "    <tr>\n",
              "      <th>num_shells</th>\n",
              "      <td>3</td>\n",
              "    </tr>\n",
              "    <tr>\n",
              "      <th>num_access_files</th>\n",
              "      <td>5</td>\n",
              "    </tr>\n",
              "    <tr>\n",
              "      <th>num_outbound_cmds</th>\n",
              "      <td>1</td>\n",
              "    </tr>\n",
              "    <tr>\n",
              "      <th>is_host_login</th>\n",
              "      <td>1</td>\n",
              "    </tr>\n",
              "    <tr>\n",
              "      <th>is_guest_login</th>\n",
              "      <td>2</td>\n",
              "    </tr>\n",
              "    <tr>\n",
              "      <th>count</th>\n",
              "      <td>379</td>\n",
              "    </tr>\n",
              "    <tr>\n",
              "      <th>srv_count</th>\n",
              "      <td>349</td>\n",
              "    </tr>\n",
              "    <tr>\n",
              "      <th>serror_rate</th>\n",
              "      <td>41</td>\n",
              "    </tr>\n",
              "    <tr>\n",
              "      <th>srv_serror_rate</th>\n",
              "      <td>36</td>\n",
              "    </tr>\n",
              "    <tr>\n",
              "      <th>rerror_rate</th>\n",
              "      <td>54</td>\n",
              "    </tr>\n",
              "    <tr>\n",
              "      <th>srv_rerror_rate</th>\n",
              "      <td>30</td>\n",
              "    </tr>\n",
              "    <tr>\n",
              "      <th>same_srv_rate</th>\n",
              "      <td>64</td>\n",
              "    </tr>\n",
              "    <tr>\n",
              "      <th>diff_srv_rate</th>\n",
              "      <td>55</td>\n",
              "    </tr>\n",
              "    <tr>\n",
              "      <th>srv_diff_host_rate</th>\n",
              "      <td>64</td>\n",
              "    </tr>\n",
              "    <tr>\n",
              "      <th>dst_host_count</th>\n",
              "      <td>256</td>\n",
              "    </tr>\n",
              "    <tr>\n",
              "      <th>dst_host_srv_count</th>\n",
              "      <td>256</td>\n",
              "    </tr>\n",
              "    <tr>\n",
              "      <th>dst_host_same_srv_rate</th>\n",
              "      <td>101</td>\n",
              "    </tr>\n",
              "    <tr>\n",
              "      <th>dst_host_diff_srv_rate</th>\n",
              "      <td>101</td>\n",
              "    </tr>\n",
              "    <tr>\n",
              "      <th>dst_host_same_src_port_rate</th>\n",
              "      <td>101</td>\n",
              "    </tr>\n",
              "    <tr>\n",
              "      <th>dst_host_srv_diff_host_rate</th>\n",
              "      <td>54</td>\n",
              "    </tr>\n",
              "    <tr>\n",
              "      <th>dst_host_serror_rate</th>\n",
              "      <td>76</td>\n",
              "    </tr>\n",
              "    <tr>\n",
              "      <th>dst_host_srv_serror_rate</th>\n",
              "      <td>38</td>\n",
              "    </tr>\n",
              "    <tr>\n",
              "      <th>dst_host_rerror_rate</th>\n",
              "      <td>101</td>\n",
              "    </tr>\n",
              "    <tr>\n",
              "      <th>dst_host_srv_rerror_rate</th>\n",
              "      <td>84</td>\n",
              "    </tr>\n",
              "  </tbody>\n",
              "</table>\n",
              "</div><br><label><b>dtype:</b> int64</label>"
            ]
          },
          "metadata": {},
          "execution_count": 29
        }
      ]
    },
    {
      "cell_type": "code",
      "source": [
        "dff.columns[(dff == 0).all()]"
      ],
      "metadata": {
        "colab": {
          "base_uri": "https://localhost:8080/"
        },
        "id": "ZfG3-94Vl620",
        "outputId": "953cf319-1eca-48d6-e865-e5e2122bac3a"
      },
      "execution_count": 30,
      "outputs": [
        {
          "output_type": "execute_result",
          "data": {
            "text/plain": [
              "Index(['num_outbound_cmds', 'is_host_login'], dtype='object')"
            ]
          },
          "metadata": {},
          "execution_count": 30
        }
      ]
    },
    {
      "cell_type": "code",
      "source": [
        "dff = dff.drop(['num_outbound_cmds', 'is_host_login'], axis = 1)"
      ],
      "metadata": {
        "id": "dAg-ZymkmL2N"
      },
      "execution_count": 31,
      "outputs": []
    },
    {
      "cell_type": "code",
      "source": [
        "cols = ['serror_rate', 'srv_serror_rate', 'rerror_rate', 'srv_rerror_rate',\n",
        "       'same_srv_rate', 'diff_srv_rate', 'srv_diff_host_rate', 'dst_host_same_srv_rate',\n",
        "       'dst_host_diff_srv_rate', 'dst_host_same_src_port_rate',\n",
        "       'dst_host_srv_diff_host_rate', 'dst_host_serror_rate',\n",
        "       'dst_host_srv_serror_rate', 'dst_host_rerror_rate',\n",
        "       'dst_host_srv_rerror_rate']\n",
        "\n",
        "dff[cols] = np.array(dff[cols], dtype = float)"
      ],
      "metadata": {
        "id": "52x7zSCTmOTU"
      },
      "execution_count": 32,
      "outputs": []
    },
    {
      "cell_type": "code",
      "source": [
        "cols0 = ['duration', 'src_bytes',\n",
        "       'dst_bytes', 'land', 'wrong_fragment', 'urgent', 'hot',\n",
        "       'num_failed_logins', 'logged_in', 'num_compromised', 'root_shell',\n",
        "       'su_attempted', 'num_root', 'num_file_creations', 'num_shells',\n",
        "       'num_access_files', 'is_guest_login', 'count', 'srv_count',\n",
        "         'dst_host_count', 'dst_host_srv_count']\n",
        "\n",
        "dff[cols0] = np.array(dff[cols0], dtype = int)"
      ],
      "metadata": {
        "id": "Pmbb9yKBmOM9"
      },
      "execution_count": 33,
      "outputs": []
    },
    {
      "cell_type": "code",
      "source": [
        "dff.info()"
      ],
      "metadata": {
        "colab": {
          "base_uri": "https://localhost:8080/"
        },
        "id": "LvcgVfrEmVRN",
        "outputId": "30a46ea4-cf4a-4f85-f754-ce80ab7e36c6"
      },
      "execution_count": 34,
      "outputs": [
        {
          "output_type": "stream",
          "name": "stdout",
          "text": [
            "<class 'pandas.core.frame.DataFrame'>\n",
            "RangeIndex: 104000 entries, 0 to 103999\n",
            "Data columns (total 39 columns):\n",
            " #   Column                       Non-Null Count   Dtype  \n",
            "---  ------                       --------------   -----  \n",
            " 0   duration                     104000 non-null  int64  \n",
            " 1   protocol_type                104000 non-null  object \n",
            " 2   service                      104000 non-null  object \n",
            " 3   flag                         104000 non-null  object \n",
            " 4   src_bytes                    104000 non-null  int64  \n",
            " 5   dst_bytes                    104000 non-null  int64  \n",
            " 6   land                         104000 non-null  int64  \n",
            " 7   wrong_fragment               104000 non-null  int64  \n",
            " 8   urgent                       104000 non-null  int64  \n",
            " 9   hot                          104000 non-null  int64  \n",
            " 10  num_failed_logins            104000 non-null  int64  \n",
            " 11  logged_in                    104000 non-null  int64  \n",
            " 12  num_compromised              104000 non-null  int64  \n",
            " 13  root_shell                   104000 non-null  int64  \n",
            " 14  su_attempted                 104000 non-null  int64  \n",
            " 15  num_root                     104000 non-null  int64  \n",
            " 16  num_file_creations           104000 non-null  int64  \n",
            " 17  num_shells                   104000 non-null  int64  \n",
            " 18  num_access_files             104000 non-null  int64  \n",
            " 19  is_guest_login               104000 non-null  int64  \n",
            " 20  count                        104000 non-null  int64  \n",
            " 21  srv_count                    104000 non-null  int64  \n",
            " 22  serror_rate                  104000 non-null  float64\n",
            " 23  srv_serror_rate              104000 non-null  float64\n",
            " 24  rerror_rate                  104000 non-null  float64\n",
            " 25  srv_rerror_rate              104000 non-null  float64\n",
            " 26  same_srv_rate                104000 non-null  float64\n",
            " 27  diff_srv_rate                104000 non-null  float64\n",
            " 28  srv_diff_host_rate           104000 non-null  float64\n",
            " 29  dst_host_count               104000 non-null  int64  \n",
            " 30  dst_host_srv_count           104000 non-null  int64  \n",
            " 31  dst_host_same_srv_rate       104000 non-null  float64\n",
            " 32  dst_host_diff_srv_rate       104000 non-null  float64\n",
            " 33  dst_host_same_src_port_rate  104000 non-null  float64\n",
            " 34  dst_host_srv_diff_host_rate  104000 non-null  float64\n",
            " 35  dst_host_serror_rate         104000 non-null  float64\n",
            " 36  dst_host_srv_serror_rate     104000 non-null  float64\n",
            " 37  dst_host_rerror_rate         104000 non-null  float64\n",
            " 38  dst_host_srv_rerror_rate     104000 non-null  float64\n",
            "dtypes: float64(15), int64(21), object(3)\n",
            "memory usage: 30.9+ MB\n"
          ]
        }
      ]
    },
    {
      "cell_type": "code",
      "source": [
        "feats = ['protocol_type', 'service', 'flag']\n",
        "\n",
        "def categorical_df_to_numerical(df):\n",
        "    df_one_hot = dff.copy()\n",
        "\n",
        "    for sf_name in reversed(feats):\n",
        "        dum = pd.get_dummies(df[sf_name])\n",
        "        dum.columns = sf_name + \"__\" + dum.columns.map(str)\n",
        "\n",
        "        df_one_hot = pd.concat([dum, df_one_hot], axis = 1)\n",
        "        df_one_hot.drop([sf_name], axis = 1, inplace = True)\n",
        "\n",
        "    return df_one_hot"
      ],
      "metadata": {
        "id": "vQ0O-Er2mVMq"
      },
      "execution_count": 35,
      "outputs": []
    },
    {
      "cell_type": "code",
      "source": [
        "df_one_hot = categorical_df_to_numerical(dff)\n",
        "len(df_one_hot.columns)"
      ],
      "metadata": {
        "colab": {
          "base_uri": "https://localhost:8080/"
        },
        "id": "db978m6tmVIf",
        "outputId": "2e4009ee-462b-440a-fd81-b2952c01b026"
      },
      "execution_count": 36,
      "outputs": [
        {
          "output_type": "execute_result",
          "data": {
            "text/plain": [
              "113"
            ]
          },
          "metadata": {},
          "execution_count": 36
        }
      ]
    },
    {
      "cell_type": "code",
      "source": [
        "scaler = StandardScaler()\n",
        "scaler.fit(df_one_hot)\n",
        "\n",
        "df_train = scaler.transform(df_one_hot)"
      ],
      "metadata": {
        "id": "r_KDBQh3mjQu"
      },
      "execution_count": 37,
      "outputs": []
    },
    {
      "cell_type": "code",
      "source": [
        "print(df_train.shape)"
      ],
      "metadata": {
        "colab": {
          "base_uri": "https://localhost:8080/"
        },
        "id": "UNT44yQimjMt",
        "outputId": "fbf832e4-9ea3-422e-b30a-02dd46109f4c"
      },
      "execution_count": 38,
      "outputs": [
        {
          "output_type": "stream",
          "name": "stdout",
          "text": [
            "(104000, 113)\n"
          ]
        }
      ]
    },
    {
      "cell_type": "markdown",
      "source": [
        "# Model"
      ],
      "metadata": {
        "id": "_VGl_UoLfCFr"
      }
    },
    {
      "cell_type": "markdown",
      "source": [
        ">> https://scikit-learn.org/stable/modules/generated/sklearn.svm.OneClassSVM.html"
      ],
      "metadata": {
        "id": "bN3DOT-4erg2"
      }
    },
    {
      "cell_type": "code",
      "source": [
        "clf = OneClassSVM(nu = 0.05, tol = 0.005).fit(df_train)"
      ],
      "metadata": {
        "id": "Uako4inQmjHL"
      },
      "execution_count": 39,
      "outputs": []
    },
    {
      "cell_type": "code",
      "source": [
        "clf.get_params()"
      ],
      "metadata": {
        "id": "4EgxBoNAfQWy",
        "colab": {
          "base_uri": "https://localhost:8080/"
        },
        "outputId": "cd443948-d4f5-4842-afc2-7b957ee80cca"
      },
      "execution_count": 40,
      "outputs": [
        {
          "output_type": "execute_result",
          "data": {
            "text/plain": [
              "{'cache_size': 200,\n",
              " 'coef0': 0.0,\n",
              " 'degree': 3,\n",
              " 'gamma': 'scale',\n",
              " 'kernel': 'rbf',\n",
              " 'max_iter': -1,\n",
              " 'nu': 0.05,\n",
              " 'shrinking': True,\n",
              " 'tol': 0.005,\n",
              " 'verbose': False}"
            ]
          },
          "metadata": {},
          "execution_count": 40
        }
      ]
    },
    {
      "cell_type": "markdown",
      "source": [],
      "metadata": {
        "id": "IjOb_monq6Qh"
      }
    },
    {
      "cell_type": "code",
      "source": [
        "pred = clf.predict(df_train)\n",
        "(pred.tolist()).count(-1)"
      ],
      "metadata": {
        "id": "tetx6vK0fOlf",
        "colab": {
          "base_uri": "https://localhost:8080/"
        },
        "outputId": "07593523-ea80-4683-bace-bcc57d459a8c"
      },
      "execution_count": 41,
      "outputs": [
        {
          "output_type": "execute_result",
          "data": {
            "text/plain": [
              "5186"
            ]
          },
          "metadata": {},
          "execution_count": 41
        }
      ]
    },
    {
      "cell_type": "code",
      "source": [
        "clf.decision_function(df_train)"
      ],
      "metadata": {
        "id": "24FWMP74hXDo",
        "colab": {
          "base_uri": "https://localhost:8080/"
        },
        "outputId": "78fab47b-a020-4d35-8afd-f515308eb9da"
      },
      "execution_count": 42,
      "outputs": [
        {
          "output_type": "execute_result",
          "data": {
            "text/plain": [
              "array([ 98.47218914,  99.45134116, 100.64362465, ...,   8.05307013,\n",
              "         7.88774717,   7.32906454])"
            ]
          },
          "metadata": {},
          "execution_count": 42
        }
      ]
    },
    {
      "cell_type": "markdown",
      "source": [
        ">> Outputs distance of each datapoint from the separating hyperplane ⏫"
      ],
      "metadata": {
        "id": "18pR76W3qwgG"
      }
    },
    {
      "cell_type": "code",
      "source": [
        "df_one_hot['anomaly_value'] = pred\n",
        "anomalies = df_one_hot.loc[df_one_hot['anomaly_value'] == -1]\n",
        "\n",
        "plt.figure(figsize = (7, 5))\n",
        "plt.plot(df_one_hot['urgent'])\n",
        "plt.plot(anomalies['urgent'], 'o', color = 'red', label = 'Anomaly')\n",
        "plt.title('OneClass SVM (5%) ')\n",
        "plt.grid()\n",
        "plt.ylabel('urgent')\n",
        "plt.legend()"
      ],
      "metadata": {
        "colab": {
          "base_uri": "https://localhost:8080/",
          "height": 486
        },
        "id": "G35KUwIzmgr4",
        "outputId": "fc369db0-ed27-43ca-9e19-ec83f791a324"
      },
      "execution_count": 44,
      "outputs": [
        {
          "output_type": "execute_result",
          "data": {
            "text/plain": [
              "<matplotlib.legend.Legend at 0x7b4fe54c0050>"
            ]
          },
          "metadata": {},
          "execution_count": 44
        },
        {
          "output_type": "display_data",
          "data": {
            "text/plain": [
              "<Figure size 700x500 with 1 Axes>"
            ],
            "image/png": "[encoded data removed]"
          },
          "metadata": {}
        }
      ]
    },
    {
      "cell_type": "markdown",
      "source": [
        "# Hyper-parameter Tuning"
      ],
      "metadata": {
        "id": "0eyjN02Zh0nI"
      }
    },
    {
      "cell_type": "code",
      "source": [
        "clf1 = OneClassSVM(nu = 0.01, tol = 0.005).fit(df_train)"
      ],
      "metadata": {
        "id": "RPI6wbE8h5Sl"
      },
      "execution_count": 45,
      "outputs": []
    },
    {
      "cell_type": "code",
      "source": [
        "pred1 = clf1.predict(df_train)\n",
        "(pred1.tolist()).count(-1)"
      ],
      "metadata": {
        "id": "65kXkjhdmQAM",
        "colab": {
          "base_uri": "https://localhost:8080/"
        },
        "outputId": "17fd435f-d886-4a6c-e7a4-b96a8879ede8"
      },
      "execution_count": 46,
      "outputs": [
        {
          "output_type": "execute_result",
          "data": {
            "text/plain": [
              "1150"
            ]
          },
          "metadata": {},
          "execution_count": 46
        }
      ]
    },
    {
      "cell_type": "code",
      "source": [
        "clf1.decision_function(df_train)"
      ],
      "metadata": {
        "colab": {
          "base_uri": "https://localhost:8080/"
        },
        "id": "vCYkI0q7rtAt",
        "outputId": "3ab10986-e5b2-4fe9-8d52-d30f01da0cab"
      },
      "execution_count": 47,
      "outputs": [
        {
          "output_type": "execute_result",
          "data": {
            "text/plain": [
              "array([4.39726675, 4.41186555, 4.44486587, ..., 1.64810635, 1.64016991,\n",
              "       1.65139788])"
            ]
          },
          "metadata": {},
          "execution_count": 47
        }
      ]
    },
    {
      "cell_type": "code",
      "source": [
        "df_one_hot['anomaly_value'] = pred\n",
        "anomalies = df_one_hot.loc[df_one_hot['anomaly_value'] == -1]\n",
        "\n",
        "plt.figure(figsize = (7, 5))\n",
        "plt.plot(df_one_hot['urgent'])\n",
        "plt.plot(anomalies['urgent'], 'o', color = 'red', label = 'Anomaly')\n",
        "plt.title('OneClass SVM (1%) ')\n",
        "plt.grid()\n",
        "plt.ylabel('urgent')\n",
        "plt.legend()"
      ],
      "metadata": {
        "colab": {
          "base_uri": "https://localhost:8080/",
          "height": 486
        },
        "id": "Pr01bs1Hrs7H",
        "outputId": "1de2dc3b-4520-413b-e4d7-bbd3c8c45f4c"
      },
      "execution_count": 48,
      "outputs": [
        {
          "output_type": "execute_result",
          "data": {
            "text/plain": [
              "<matplotlib.legend.Legend at 0x7b4fe502d990>"
            ]
          },
          "metadata": {},
          "execution_count": 48
        },
        {
          "output_type": "display_data",
          "data": {
            "text/plain": [
              "<Figure size 700x500 with 1 Axes>"
            ],
            "image/png": "[encoded data removed]"
          },
          "metadata": {}
        }
      ]
    },
    {
      "cell_type": "code",
      "source": [
        "results = pd.DataFrame(columns = ['SVM(nu)', 'Datasize', 'Tolerance', 'Max. Iterations', '#outliers'],\n",
        "                       data = [[0.05, 104000, 0.005, 'Default', 5186], [0.01, 104000, 0.005, 'Default', 1150]])\n",
        "results"
      ],
      "metadata": {
        "id": "ZWJsGNgdmVQD",
        "colab": {
          "base_uri": "https://localhost:8080/",
          "height": 125
        },
        "outputId": "b1e0c533-9095-427e-d571-1852b4fe7d7a"
      },
      "execution_count": 58,
      "outputs": [
        {
          "output_type": "execute_result",
          "data": {
            "text/plain": [
              "   SVM(nu)  Datasize  Tolerance Max. Iterations  #outliers\n",
              "0     0.05    104000      0.005         Default       5186\n",
              "1     0.01    104000      0.005         Default       1150"
            ],
            "text/html": [
              "\n",
              "  <div id=\"df-9cf54aee-8631-41b8-a165-b7c94aae14b9\" class=\"colab-df-container\">\n",
              "    <div>\n",
              "<style scoped>\n",
              "    .dataframe tbody tr th:only-of-type {\n",
              "        vertical-align: middle;\n",
              "    }\n",
              "\n",
              "    .dataframe tbody tr th {\n",
              "        vertical-align: top;\n",
              "    }\n",
              "\n",
              "    .dataframe thead th {\n",
              "        text-align: right;\n",
              "    }\n",
              "</style>\n",
              "<table border=\"1\" class=\"dataframe\">\n",
              "  <thead>\n",
              "    <tr style=\"text-align: right;\">\n",
              "      <th></th>\n",
              "      <th>SVM(nu)</th>\n",
              "      <th>Datasize</th>\n",
              "      <th>Tolerance</th>\n",
              "      <th>Max. Iterations</th>\n",
              "      <th>#outliers</th>\n",
              "    </tr>\n",
              "  </thead>\n",
              "  <tbody>\n",
              "    <tr>\n",
              "      <th>0</th>\n",
              "      <td>0.05</td>\n",
              "      <td>104000</td>\n",
              "      <td>0.005</td>\n",
              "      <td>Default</td>\n",
              "      <td>5186</td>\n",
              "    </tr>\n",
              "    <tr>\n",
              "      <th>1</th>\n",
              "      <td>0.01</td>\n",
              "      <td>104000</td>\n",
              "      <td>0.005</td>\n",
              "      <td>Default</td>\n",
              "      <td>1150</td>\n",
              "    </tr>\n",
              "  </tbody>\n",
              "</table>\n",
              "</div>\n",
              "    <div class=\"colab-df-buttons\">\n",
              "\n",
              "  <div class=\"colab-df-container\">\n",
              "    <button class=\"colab-df-convert\" onclick=\"convertToInteractive('df-9cf54aee-8631-41b8-a165-b7c94aae14b9')\"\n",
              "            title=\"Convert this dataframe to an interactive table.\"\n",
              "            style=\"display:none;\">\n",
              "\n",
              "  <svg xmlns=\"http://www.w3.org/2000/svg\" height=\"24px\" viewBox=\"0 -960 960 960\">\n",
              "    <path d=\"M120-120v-720h720v720H120Zm60-500h600v-160H180v160Zm220 220h160v-160H400v160Zm0 220h160v-160H400v160ZM180-400h160v-160H180v160Zm440 0h160v-160H620v160ZM180-180h160v-160H180v160Zm440 0h160v-160H620v160Z\"/>\n",
              "  </svg>\n",
              "    </button>\n",
              "\n",
              "  <style>\n",
              "    .colab-df-container {\n",
              "      display:flex;\n",
              "      gap: 12px;\n",
              "    }\n",
              "\n",
              "    .colab-df-convert {\n",
              "      background-color: #E8F0FE;\n",
              "      border: none;\n",
              "      border-radius: 50%;\n",
              "      cursor: pointer;\n",
              "      display: none;\n",
              "      fill: #1967D2;\n",
              "      height: 32px;\n",
              "      padding: 0 0 0 0;\n",
              "      width: 32px;\n",
              "    }\n",
              "\n",
              "    .colab-df-convert:hover {\n",
              "      background-color: #E2EBFA;\n",
              "      box-shadow: 0px 1px 2px rgba(60, 64, 67, 0.3), 0px 1px 3px 1px rgba(60, 64, 67, 0.15);\n",
              "      fill: #174EA6;\n",
              "    }\n",
              "\n",
              "    .colab-df-buttons div {\n",
              "      margin-bottom: 4px;\n",
              "    }\n",
              "\n",
              "    [theme=dark] .colab-df-convert {\n",
              "      background-color: #3B4455;\n",
              "      fill: #D2E3FC;\n",
              "    }\n",
              "\n",
              "    [theme=dark] .colab-df-convert:hover {\n",
              "      background-color: #434B5C;\n",
              "      box-shadow: 0px 1px 3px 1px rgba(0, 0, 0, 0.15);\n",
              "      filter: drop-shadow(0px 1px 2px rgba(0, 0, 0, 0.3));\n",
              "      fill: #FFFFFF;\n",
              "    }\n",
              "  </style>\n",
              "\n",
              "    <script>\n",
              "      const buttonEl =\n",
              "        document.querySelector('#df-9cf54aee-8631-41b8-a165-b7c94aae14b9 button.colab-df-convert');\n",
              "      buttonEl.style.display =\n",
              "        google.colab.kernel.accessAllowed ? 'block' : 'none';\n",
              "\n",
              "      async function convertToInteractive(key) {\n",
              "        const element = document.querySelector('#df-9cf54aee-8631-41b8-a165-b7c94aae14b9');\n",
              "        const dataTable =\n",
              "          await google.colab.kernel.invokeFunction('convertToInteractive',\n",
              "                                                    [key], {});\n",
              "        if (!dataTable) return;\n",
              "\n",
              "        const docLinkHtml = 'Like what you see? Visit the ' +\n",
              "          '<a target=\"_blank\" href=https://colab.research.google.com/notebooks/data_table.ipynb>data table notebook</a>'\n",
              "          + ' to learn more about interactive tables.';\n",
              "        element.innerHTML = '';\n",
              "        dataTable['output_type'] = 'display_data';\n",
              "        await google.colab.output.renderOutput(dataTable, element);\n",
              "        const docLink = document.createElement('div');\n",
              "        docLink.innerHTML = docLinkHtml;\n",
              "        element.appendChild(docLink);\n",
              "      }\n",
              "    </script>\n",
              "  </div>\n",
              "\n",
              "\n",
              "    <div id=\"df-fdd35a94-15a0-43ed-9485-2f1180bb664f\">\n",
              "      <button class=\"colab-df-quickchart\" onclick=\"quickchart('df-fdd35a94-15a0-43ed-9485-2f1180bb664f')\"\n",
              "                title=\"Suggest charts\"\n",
              "                style=\"display:none;\">\n",
              "\n",
              "<svg xmlns=\"http://www.w3.org/2000/svg\" height=\"24px\"viewBox=\"0 0 24 24\"\n",
              "     width=\"24px\">\n",
              "    <g>\n",
              "        <path d=\"M19 3H5c-1.1 0-2 .9-2 2v14c0 1.1.9 2 2 2h14c1.1 0 2-.9 2-2V5c0-1.1-.9-2-2-2zM9 17H7v-7h2v7zm4 0h-2V7h2v10zm4 0h-2v-4h2v4z\"/>\n",
              "    </g>\n",
              "</svg>\n",
              "      </button>\n",
              "\n",
              "<style>\n",
              "  .colab-df-quickchart {\n",
              "      --bg-color: #E8F0FE;\n",
              "      --fill-color: #1967D2;\n",
              "      --hover-bg-color: #E2EBFA;\n",
              "      --hover-fill-color: #174EA6;\n",
              "      --disabled-fill-color: #AAA;\n",
              "      --disabled-bg-color: #DDD;\n",
              "  }\n",
              "\n",
              "  [theme=dark] .colab-df-quickchart {\n",
              "      --bg-color: #3B4455;\n",
              "      --fill-color: #D2E3FC;\n",
              "      --hover-bg-color: #434B5C;\n",
              "      --hover-fill-color: #FFFFFF;\n",
              "      --disabled-bg-color: #3B4455;\n",
              "      --disabled-fill-color: #666;\n",
              "  }\n",
              "\n",
              "  .colab-df-quickchart {\n",
              "    background-color: var(--bg-color);\n",
              "    border: none;\n",
              "    border-radius: 50%;\n",
              "    cursor: pointer;\n",
              "    display: none;\n",
              "    fill: var(--fill-color);\n",
              "    height: 32px;\n",
              "    padding: 0;\n",
              "    width: 32px;\n",
              "  }\n",
              "\n",
              "  .colab-df-quickchart:hover {\n",
              "    background-color: var(--hover-bg-color);\n",
              "    box-shadow: 0 1px 2px rgba(60, 64, 67, 0.3), 0 1px 3px 1px rgba(60, 64, 67, 0.15);\n",
              "    fill: var(--button-hover-fill-color);\n",
              "  }\n",
              "\n",
              "  .colab-df-quickchart-complete:disabled,\n",
              "  .colab-df-quickchart-complete:disabled:hover {\n",
              "    background-color: var(--disabled-bg-color);\n",
              "    fill: var(--disabled-fill-color);\n",
              "    box-shadow: none;\n",
              "  }\n",
              "\n",
              "  .colab-df-spinner {\n",
              "    border: 2px solid var(--fill-color);\n",
              "    border-color: transparent;\n",
              "    border-bottom-color: var(--fill-color);\n",
              "    animation:\n",
              "      spin 1s steps(1) infinite;\n",
              "  }\n",
              "\n",
              "  @keyframes spin {\n",
              "    0% {\n",
              "      border-color: transparent;\n",
              "      border-bottom-color: var(--fill-color);\n",
              "      border-left-color: var(--fill-color);\n",
              "    }\n",
              "    20% {\n",
              "      border-color: transparent;\n",
              "      border-left-color: var(--fill-color);\n",
              "      border-top-color: var(--fill-color);\n",
              "    }\n",
              "    30% {\n",
              "      border-color: transparent;\n",
              "      border-left-color: var(--fill-color);\n",
              "      border-top-color: var(--fill-color);\n",
              "      border-right-color: var(--fill-color);\n",
              "    }\n",
              "    40% {\n",
              "      border-color: transparent;\n",
              "      border-right-color: var(--fill-color);\n",
              "      border-top-color: var(--fill-color);\n",
              "    }\n",
              "    60% {\n",
              "      border-color: transparent;\n",
              "      border-right-color: var(--fill-color);\n",
              "    }\n",
              "    80% {\n",
              "      border-color: transparent;\n",
              "      border-right-color: var(--fill-color);\n",
              "      border-bottom-color: var(--fill-color);\n",
              "    }\n",
              "    90% {\n",
              "      border-color: transparent;\n",
              "      border-bottom-color: var(--fill-color);\n",
              "    }\n",
              "  }\n",
              "</style>\n",
              "\n",
              "      <script>\n",
              "        async function quickchart(key) {\n",
              "          const quickchartButtonEl =\n",
              "            document.querySelector('#' + key + ' button');\n",
              "          quickchartButtonEl.disabled = true;  // To prevent multiple clicks.\n",
              "          quickchartButtonEl.classList.add('colab-df-spinner');\n",
              "          try {\n",
              "            const charts = await google.colab.kernel.invokeFunction(\n",
              "                'suggestCharts', [key], {});\n",
              "          } catch (error) {\n",
              "            console.error('Error during call to suggestCharts:', error);\n",
              "          }\n",
              "          quickchartButtonEl.classList.remove('colab-df-spinner');\n",
              "          quickchartButtonEl.classList.add('colab-df-quickchart-complete');\n",
              "        }\n",
              "        (() => {\n",
              "          let quickchartButtonEl =\n",
              "            document.querySelector('#df-fdd35a94-15a0-43ed-9485-2f1180bb664f button');\n",
              "          quickchartButtonEl.style.display =\n",
              "            google.colab.kernel.accessAllowed ? 'block' : 'none';\n",
              "        })();\n",
              "      </script>\n",
              "    </div>\n",
              "\n",
              "  <div id=\"id_fcc60698-6293-454b-9655-1daba55a50b5\">\n",
              "    <style>\n",
              "      .colab-df-generate {\n",
              "        background-color: #E8F0FE;\n",
              "        border: none;\n",
              "        border-radius: 50%;\n",
              "        cursor: pointer;\n",
              "        display: none;\n",
              "        fill: #1967D2;\n",
              "        height: 32px;\n",
              "        padding: 0 0 0 0;\n",
              "        width: 32px;\n",
              "      }\n",
              "\n",
              "      .colab-df-generate:hover {\n",
              "        background-color: #E2EBFA;\n",
              "        box-shadow: 0px 1px 2px rgba(60, 64, 67, 0.3), 0px 1px 3px 1px rgba(60, 64, 67, 0.15);\n",
              "        fill: #174EA6;\n",
              "      }\n",
              "\n",
              "      [theme=dark] .colab-df-generate {\n",
              "        background-color: #3B4455;\n",
              "        fill: #D2E3FC;\n",
              "      }\n",
              "\n",
              "      [theme=dark] .colab-df-generate:hover {\n",
              "        background-color: #434B5C;\n",
              "        box-shadow: 0px 1px 3px 1px rgba(0, 0, 0, 0.15);\n",
              "        filter: drop-shadow(0px 1px 2px rgba(0, 0, 0, 0.3));\n",
              "        fill: #FFFFFF;\n",
              "      }\n",
              "    </style>\n",
              "    <button class=\"colab-df-generate\" onclick=\"generateWithVariable('results')\"\n",
              "            title=\"Generate code using this dataframe.\"\n",
              "            style=\"display:none;\">\n",
              "\n",
              "  <svg xmlns=\"http://www.w3.org/2000/svg\" height=\"24px\"viewBox=\"0 0 24 24\"\n",
              "       width=\"24px\">\n",
              "    <path d=\"M7,19H8.4L18.45,9,17,7.55,7,17.6ZM5,21V16.75L18.45,3.32a2,2,0,0,1,2.83,0l1.4,1.43a1.91,1.91,0,0,1,.58,1.4,1.91,1.91,0,0,1-.58,1.4L9.25,21ZM18.45,9,17,7.55Zm-12,3A5.31,5.31,0,0,0,4.9,8.1,5.31,5.31,0,0,0,1,6.5,5.31,5.31,0,0,0,4.9,4.9,5.31,5.31,0,0,0,6.5,1,5.31,5.31,0,0,0,8.1,4.9,5.31,5.31,0,0,0,12,6.5,5.46,5.46,0,0,0,6.5,12Z\"/>\n",
              "  </svg>\n",
              "    </button>\n",
              "    <script>\n",
              "      (() => {\n",
              "      const buttonEl =\n",
              "        document.querySelector('#id_fcc60698-6293-454b-9655-1daba55a50b5 button.colab-df-generate');\n",
              "      buttonEl.style.display =\n",
              "        google.colab.kernel.accessAllowed ? 'block' : 'none';\n",
              "\n",
              "      buttonEl.onclick = () => {\n",
              "        google.colab.notebook.generateWithVariable('results');\n",
              "      }\n",
              "      })();\n",
              "    </script>\n",
              "  </div>\n",
              "\n",
              "    </div>\n",
              "  </div>\n"
            ],
            "application/vnd.google.colaboratory.intrinsic+json": {
              "type": "dataframe",
              "variable_name": "results",
              "summary": "{\n  \"name\": \"results\",\n  \"rows\": 2,\n  \"fields\": [\n    {\n      \"column\": \"SVM(nu)\",\n      \"properties\": {\n        \"dtype\": \"number\",\n        \"std\": 0.028284271247461905,\n        \"min\": 0.01,\n        \"max\": 0.05,\n        \"num_unique_values\": 2,\n        \"samples\": [\n          0.01,\n          0.05\n        ],\n        \"semantic_type\": \"\",\n        \"description\": \"\"\n      }\n    },\n    {\n      \"column\": \"Datasize\",\n      \"properties\": {\n        \"dtype\": \"number\",\n        \"std\": 0,\n        \"min\": 104000,\n        \"max\": 104000,\n        \"num_unique_values\": 1,\n        \"samples\": [\n          104000\n        ],\n        \"semantic_type\": \"\",\n        \"description\": \"\"\n      }\n    },\n    {\n      \"column\": \"Tolerance\",\n      \"properties\": {\n        \"dtype\": \"number\",\n        \"std\": 0.0,\n        \"min\": 0.005,\n        \"max\": 0.005,\n        \"num_unique_values\": 1,\n        \"samples\": [\n          0.005\n        ],\n        \"semantic_type\": \"\",\n        \"description\": \"\"\n      }\n    },\n    {\n      \"column\": \"Max. Iterations\",\n      \"properties\": {\n        \"dtype\": \"string\",\n        \"num_unique_values\": 1,\n        \"samples\": [\n          \"Default\"\n        ],\n        \"semantic_type\": \"\",\n        \"description\": \"\"\n      }\n    },\n    {\n      \"column\": \"#outliers\",\n      \"properties\": {\n        \"dtype\": \"number\",\n        \"std\": 2853,\n        \"min\": 1150,\n        \"max\": 5186,\n        \"num_unique_values\": 2,\n        \"samples\": [\n          1150\n        ],\n        \"semantic_type\": \"\",\n        \"description\": \"\"\n      }\n    }\n  ]\n}"
            }
          },
          "metadata": {},
          "execution_count": 58
        }
      ]
    },
    {
      "cell_type": "markdown",
      "source": [
        ">> The default tolerance (stopping criterion) is 0.001 and default no. of iterations has no limit. A hard limit on this number can be put for huge datasizes."
      ],
      "metadata": {
        "id": "zcFJYxnKvesA"
      }
    }
  ]
}