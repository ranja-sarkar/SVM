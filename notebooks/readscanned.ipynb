{
 "cells": [
  {
   "cell_type": "code",
   "execution_count": 2,
   "metadata": {},
   "outputs": [],
   "source": [
    "#import PyPDF2\n",
    "import pdfplumber\n",
    "import pandas as pd"
   ]
  },
  {
   "cell_type": "code",
   "execution_count": 3,
   "metadata": {},
   "outputs": [],
   "source": [
    "import warnings\n",
    "warnings.filterwarnings(\"ignore\")"
   ]
  },
  {
   "cell_type": "code",
   "execution_count": 14,
   "metadata": {},
   "outputs": [],
   "source": [
    "file = r\"Materials Research Reviews for Sour Gas production.pdf\""
   ]
  },
  {
   "cell_type": "markdown",
   "metadata": {},
   "source": [
    "# TABLES"
   ]
  },
  {
   "cell_type": "code",
   "execution_count": 15,
   "metadata": {},
   "outputs": [],
   "source": [
    "pdf = pdfplumber.open(file)"
   ]
  },
  {
   "cell_type": "code",
   "execution_count": 16,
   "metadata": {},
   "outputs": [],
   "source": [
    "pp = pdf.pages[3]\n",
    "#pp.extract_tables()"
   ]
  },
  {
   "cell_type": "code",
   "execution_count": 17,
   "metadata": {},
   "outputs": [
    {
     "data": {
      "text/plain": [
       "'\", \\n\\' \\n.. \\nShell Development Company \\nWesthollow Research Center \\nIssued:  April  23,  1982 \\nMEMORANDUM  OF  DISCUSSION \\nLOCATION:  Westhollow Research Center  DATE:  March  31,  1982 \\nPARTICIPANTS: \\nShe 11  Oi 1  Comp<\\'~ny \\nE&P  Production  - Engineering Production \\nH.  R.  Gates \\nDeep  Well  Engineering Group \\nC.  R.  Williams \\nM.  C.  Place \\nWestern E&P  Operations  - Mid  Cont.inent  Division \\nG.  N.  Iken \\nEastern E&P  Operations  - Onshore  Division \\nH.  E.  Bross \\nShell Development  Company \\n\\'Production Operations Research  (BRC) \\nF.  W.  Boye \\nT.  W.  Hamby,  Jr. \\nMaterials Science  & Engineering  (WRC) \\nL.  Abrego \\nB.T.A.  Chang \\nW.  J.  Daniels \\nA.  K.  Dunlop \\nB.  T.  Ellison  ... \\nD.  H.  Ender \\nE.  W.  Haycock \\nJ.  W.  Kochera \\nO.  A.  Onyewuenyi \\nP.  R.  Rhodes \\nC.  J.  Wen \\nCorporate  R&D-Science \\nA.  W.  Shaw \\nShell Offshore,  Inc. \\nF.  M.  Pattee \\nMinutes of Quarterly Review  of Eastern Operations \\nR&D  Status \\nSUMMARY \\nThe  topics  of discussion at this meeting are documented  in these minutes. \\nTIle  purpose  of this meeting has  expanded  from  a  status review meeting to \\nan  information exchange meeting.  The  work  reported  in the  Status  Report \\n3 '"
      ]
     },
     "execution_count": 17,
     "metadata": {},
     "output_type": "execute_result"
    }
   ],
   "source": [
    "pp.extract_text()"
   ]
  },
  {
   "cell_type": "markdown",
   "metadata": {},
   "source": [
    "# TEXT"
   ]
  },
  {
   "cell_type": "code",
   "execution_count": 6,
   "metadata": {},
   "outputs": [],
   "source": [
    "import PyPDF2\n",
    "from PyPDF2 import PdfFileReader "
   ]
  },
  {
   "cell_type": "code",
   "execution_count": 7,
   "metadata": {},
   "outputs": [],
   "source": [
    "pdfFileObj = open(file, 'rb') \n",
    "pdfreader = PyPDF2.PdfFileReader(pdfFileObj) "
   ]
  },
  {
   "cell_type": "code",
   "execution_count": 10,
   "metadata": {},
   "outputs": [],
   "source": [
    "page1 = pdfreader.getPage(2)\n",
    "pp1 = page1.extractText()"
   ]
  },
  {
   "cell_type": "code",
   "execution_count": 11,
   "metadata": {},
   "outputs": [
    {
     "data": {
      "text/plain": [
       "'\\n\\n\\n\\n\\n\\n\\n\\n\\n\\n\\n\\n'"
      ]
     },
     "execution_count": 11,
     "metadata": {},
     "output_type": "execute_result"
    }
   ],
   "source": [
    "pp1"
   ]
  },
  {
   "cell_type": "code",
   "execution_count": null,
   "metadata": {},
   "outputs": [],
   "source": []
  }
 ],
 "metadata": {
  "kernelspec": {
   "display_name": "Python 3",
   "language": "python",
   "name": "python3"
  },
  "language_info": {
   "codemirror_mode": {
    "name": "ipython",
    "version": 3
   },
   "file_extension": ".py",
   "mimetype": "text/x-python",
   "name": "python",
   "nbconvert_exporter": "python",
   "pygments_lexer": "ipython3",
   "version": "3.7.6"
  }
 },
 "nbformat": 4,
 "nbformat_minor": 2
}
