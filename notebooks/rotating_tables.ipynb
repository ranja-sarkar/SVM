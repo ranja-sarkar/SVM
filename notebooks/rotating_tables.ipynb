{
 "cells": [
  {
   "cell_type": "code",
   "execution_count": null,
   "metadata": {},
   "outputs": [],
   "source": [
    "from PyPDF2 import PdfFileReader, PdfFileWriter\n",
    "\n",
    "infile = PdfFileReader(\"GS.08.53115_Adhesive_bonded_metallic_permeation_barrier_for_thermoplastic_pipes.pdf\", 'rb')\n",
    "\n",
    "pdfwriter = PdfFileWriter()\n",
    "\n",
    "#for i in range(10, 15):\n",
    "page = infile.getPage(1).rotateClockwise(90)\n",
    "pdfwriter.addPage(page)\n",
    "    \n",
    "\n",
    "#page1 = infile.getPage(10).rotateClockwise(90)\n",
    "#pdfwriter.addPage(page1)\n",
    "\n",
    "#page2 = infile.getPage(11).rotateClockwise(90)\n",
    "#pdfwriter.addPage(page2)\n",
    "\n",
    "#page3 = infile.getPage(12).rotateClockwise(90)\n",
    "#pdfwriter.addPage(page3)\n",
    "\n",
    "#page4 = infile.getPage(13).rotateClockwise(90)\n",
    "#pdfwriter.addPage(page4)\n",
    "\n",
    "#page5 = infile.getPage(14).rotateClockwise(90)\n",
    "#pdfwriter.addPage(page5)\n",
    "\n",
    "with open('rotate_pages.pdf', 'wb') as fh:\n",
    "    pdfwriter.write(fh)\n"
   ]
  },
  {
   "cell_type": "code",
   "execution_count": null,
   "metadata": {},
   "outputs": [],
   "source": []
  }
 ],
 "metadata": {
  "kernelspec": {
   "display_name": "Python 3",
   "language": "python",
   "name": "python3"
  },
  "language_info": {
   "codemirror_mode": {
    "name": "ipython",
    "version": 3
   },
   "file_extension": ".py",
   "mimetype": "text/x-python",
   "name": "python",
   "nbconvert_exporter": "python",
   "pygments_lexer": "ipython3",
   "version": "3.7.6"
  },
  "toc": {
   "base_numbering": 1,
   "nav_menu": {},
   "number_sections": true,
   "sideBar": true,
   "skip_h1_title": false,
   "title_cell": "Table of Contents",
   "title_sidebar": "Contents",
   "toc_cell": false,
   "toc_position": {},
   "toc_section_display": true,
   "toc_window_display": false
  },
  "varInspector": {
   "cols": {
    "lenName": 16,
    "lenType": 16,
    "lenVar": 40
   },
   "kernels_config": {
    "python": {
     "delete_cmd_postfix": "",
     "delete_cmd_prefix": "del ",
     "library": "var_list.py",
     "varRefreshCmd": "print(var_dic_list())"
    },
    "r": {
     "delete_cmd_postfix": ") ",
     "delete_cmd_prefix": "rm(",
     "library": "var_list.r",
     "varRefreshCmd": "cat(var_dic_list()) "
    }
   },
   "types_to_exclude": [
    "module",
    "function",
    "builtin_function_or_method",
    "instance",
    "_Feature"
   ],
   "window_display": false
  }
 },
 "nbformat": 4,
 "nbformat_minor": 2
}
