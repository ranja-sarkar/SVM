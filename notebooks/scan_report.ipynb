{
 "cells": [
  {
   "cell_type": "code",
   "execution_count": 1,
   "metadata": {},
   "outputs": [],
   "source": [
    "import pandas as pd\n",
    "import tabula\n",
    "\n",
    "import warnings\n",
    "warnings.filterwarnings(\"ignore\")"
   ]
  },
  {
   "cell_type": "code",
   "execution_count": 3,
   "metadata": {},
   "outputs": [
    {
     "output_type": "stream",
     "name": "stderr",
     "text": [
      "Got stderr: Jun 16, 2021 11:16:40 AM org.apache.pdfbox.pdmodel.font.PDSimpleFont toUnicode\nWARNING: No Unicode mapping for .notdef (128) in font Courier\nJun 16, 2021 11:16:40 AM org.apache.pdfbox.rendering.Type1Glyph2D getPathForCharacterCode\nWARNING: No glyph for code 128 (.notdef) in font Courier\nJun 16, 2021 11:16:59 AM org.apache.pdfbox.pdmodel.font.PDSimpleFont toUnicode\nWARNING: No Unicode mapping for .notdef (128) in font Times-Roman\nJun 16, 2021 11:17:01 AM org.apache.pdfbox.rendering.Type1Glyph2D getPathForCharacterCode\nWARNING: No glyph for code 128 (.notdef) in font Times-Roman\n\n"
     ]
    }
   ],
   "source": [
    "file = \"C:/Users/Ranja.Sarkar/DPdatabase/Polymer Compatibility with CO2/xtra/scan_annotations/Ender_CO2 Resistance of FRP pipe.PDF\"\n",
    "\n",
    "tables = tabula.read_pdf(file, pages = \"all\", multiple_tables = True)\n",
    "#tables[]"
   ]
  },
  {
   "cell_type": "code",
   "execution_count": 4,
   "metadata": {},
   "outputs": [
    {
     "output_type": "execute_result",
     "data": {
      "text/plain": [
       "    1     VI4&           Star aFiber Glass Syst., Inc         TETA/EPOM 826  \\\n",
       "0   2    VI27A          C 500                  Ameron       Anhydride/epoxy   \n",
       "1   3    VI27C        TBS 810              Smith/goch       Anhydride/epoxy   \n",
       "2   4  VII57-2       Koch 310             bSmith/Koch       Anhydride/epoxy   \n",
       "3   5  VII57-3       Koch 312              Smith/~och       Anhydride/epoxy   \n",
       "4   6  VII57-4       Koch 320             bSmith/goch  Aromatic amine/epoxy   \n",
       "5   7  Vli57-5       Koch 322             bSmith/goch  Aromatic amine/epoxy   \n",
       "6   8    VI31A        Duoline        Rice Engineering  Aromatic amine/epoxy   \n",
       "7   9     VI35  Red Thread II                   Smith  Aromatic amine/epoxy   \n",
       "8  10     VI44            TFP       Texas Fiber Glass  Aromatic amine/eposy   \n",
       "9  11    VII48            NaN                CCentron  Aromatic amine/epoxy   \n",
       "\n",
       "  Unnamed: 0  3.25     3.0      500  \n",
       "0      0.025  4.12    3.70      450  \n",
       "1          -  3.60    3.20      800  \n",
       "2          -  8.70    8.25      250  \n",
       "3      0.020  8.85    8.30      250  \n",
       "4       8.75  8.30  250.00      NaN  \n",
       "5      0.020  8.75    8.30      250  \n",
       "6          -  2.90    2.80  (liner)  \n",
       "7          -  3.75    3.50      450  \n",
       "8          -  4.75    4.00     2000  \n",
       "9          -  2.75    2.00       Nl  "
      ],
      "text/html": "<div>\n<style scoped>\n    .dataframe tbody tr th:only-of-type {\n        vertical-align: middle;\n    }\n\n    .dataframe tbody tr th {\n        vertical-align: top;\n    }\n\n    .dataframe thead th {\n        text-align: right;\n    }\n</style>\n<table border=\"1\" class=\"dataframe\">\n  <thead>\n    <tr style=\"text-align: right;\">\n      <th></th>\n      <th>1</th>\n      <th>VI4&amp;</th>\n      <th>Star</th>\n      <th>aFiber Glass Syst., Inc</th>\n      <th>TETA/EPOM 826</th>\n      <th>Unnamed: 0</th>\n      <th>3.25</th>\n      <th>3.0</th>\n      <th>500</th>\n    </tr>\n  </thead>\n  <tbody>\n    <tr>\n      <th>0</th>\n      <td>2</td>\n      <td>VI27A</td>\n      <td>C 500</td>\n      <td>Ameron</td>\n      <td>Anhydride/epoxy</td>\n      <td>0.025</td>\n      <td>4.12</td>\n      <td>3.70</td>\n      <td>450</td>\n    </tr>\n    <tr>\n      <th>1</th>\n      <td>3</td>\n      <td>VI27C</td>\n      <td>TBS 810</td>\n      <td>Smith/goch</td>\n      <td>Anhydride/epoxy</td>\n      <td>-</td>\n      <td>3.60</td>\n      <td>3.20</td>\n      <td>800</td>\n    </tr>\n    <tr>\n      <th>2</th>\n      <td>4</td>\n      <td>VII57-2</td>\n      <td>Koch 310</td>\n      <td>bSmith/Koch</td>\n      <td>Anhydride/epoxy</td>\n      <td>-</td>\n      <td>8.70</td>\n      <td>8.25</td>\n      <td>250</td>\n    </tr>\n    <tr>\n      <th>3</th>\n      <td>5</td>\n      <td>VII57-3</td>\n      <td>Koch 312</td>\n      <td>Smith/~och</td>\n      <td>Anhydride/epoxy</td>\n      <td>0.020</td>\n      <td>8.85</td>\n      <td>8.30</td>\n      <td>250</td>\n    </tr>\n    <tr>\n      <th>4</th>\n      <td>6</td>\n      <td>VII57-4</td>\n      <td>Koch 320</td>\n      <td>bSmith/goch</td>\n      <td>Aromatic amine/epoxy</td>\n      <td>8.75</td>\n      <td>8.30</td>\n      <td>250.00</td>\n      <td>NaN</td>\n    </tr>\n    <tr>\n      <th>5</th>\n      <td>7</td>\n      <td>Vli57-5</td>\n      <td>Koch 322</td>\n      <td>bSmith/goch</td>\n      <td>Aromatic amine/epoxy</td>\n      <td>0.020</td>\n      <td>8.75</td>\n      <td>8.30</td>\n      <td>250</td>\n    </tr>\n    <tr>\n      <th>6</th>\n      <td>8</td>\n      <td>VI31A</td>\n      <td>Duoline</td>\n      <td>Rice Engineering</td>\n      <td>Aromatic amine/epoxy</td>\n      <td>-</td>\n      <td>2.90</td>\n      <td>2.80</td>\n      <td>(liner)</td>\n    </tr>\n    <tr>\n      <th>7</th>\n      <td>9</td>\n      <td>VI35</td>\n      <td>Red Thread II</td>\n      <td>Smith</td>\n      <td>Aromatic amine/epoxy</td>\n      <td>-</td>\n      <td>3.75</td>\n      <td>3.50</td>\n      <td>450</td>\n    </tr>\n    <tr>\n      <th>8</th>\n      <td>10</td>\n      <td>VI44</td>\n      <td>TFP</td>\n      <td>Texas Fiber Glass</td>\n      <td>Aromatic amine/eposy</td>\n      <td>-</td>\n      <td>4.75</td>\n      <td>4.00</td>\n      <td>2000</td>\n    </tr>\n    <tr>\n      <th>9</th>\n      <td>11</td>\n      <td>VII48</td>\n      <td>NaN</td>\n      <td>CCentron</td>\n      <td>Aromatic amine/epoxy</td>\n      <td>-</td>\n      <td>2.75</td>\n      <td>2.00</td>\n      <td>Nl</td>\n    </tr>\n  </tbody>\n</table>\n</div>"
     },
     "metadata": {},
     "execution_count": 4
    }
   ],
   "source": [
    "tables[3]"
   ]
  },
  {
   "cell_type": "code",
   "execution_count": null,
   "metadata": {},
   "outputs": [],
   "source": []
  }
 ],
 "metadata": {
  "kernelspec": {
   "name": "python3",
   "display_name": "Python 3.7.6 64-bit ('base': conda)"
  },
  "language_info": {
   "codemirror_mode": {
    "name": "ipython",
    "version": 3
   },
   "file_extension": ".py",
   "mimetype": "text/x-python",
   "name": "python",
   "nbconvert_exporter": "python",
   "pygments_lexer": "ipython3",
   "version": "3.7.6"
  },
  "toc": {
   "base_numbering": 1,
   "nav_menu": {},
   "number_sections": true,
   "sideBar": true,
   "skip_h1_title": false,
   "title_cell": "Table of Contents",
   "title_sidebar": "Contents",
   "toc_cell": false,
   "toc_position": {},
   "toc_section_display": true,
   "toc_window_display": false
  },
  "varInspector": {
   "cols": {
    "lenName": 16,
    "lenType": 16,
    "lenVar": 40
   },
   "kernels_config": {
    "python": {
     "delete_cmd_postfix": "",
     "delete_cmd_prefix": "del ",
     "library": "var_list.py",
     "varRefreshCmd": "print(var_dic_list())"
    },
    "r": {
     "delete_cmd_postfix": ") ",
     "delete_cmd_prefix": "rm(",
     "library": "var_list.r",
     "varRefreshCmd": "cat(var_dic_list()) "
    }
   },
   "types_to_exclude": [
    "module",
    "function",
    "builtin_function_or_method",
    "instance",
    "_Feature"
   ],
   "window_display": false
  },
  "interpreter": {
   "hash": "af8b93295ec152667600696eebafdfb1a6679e79e15871d01906b24cd0cc4b31"
  }
 },
 "nbformat": 4,
 "nbformat_minor": 4
}