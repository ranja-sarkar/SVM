{
 "cells": [
  {
   "cell_type": "code",
   "execution_count": 1,
   "metadata": {},
   "outputs": [],
   "source": [
    "\"\"\"\n",
    "import minecart\n",
    "\n",
    "pdffile = open('C:/Users/Ranja.Sarkar/GS.09.51520_Evaluation_of_polymers_for_gas_injection_lines_conveying_high_pressure_and_supercritical_carbon_dioxide.pdf', 'rb')\n",
    "\n",
    "doc = minecart.Document(pdffile)\n",
    "page = doc.get_page(13)\n",
    "\n",
    "\"\"\"\n",
    "\n",
    "#im = page.images[0].as_pil()\n",
    "#im.show()"
   ]
  },
  {
   "cell_type": "code",
   "execution_count": 1,
   "metadata": {},
   "outputs": [],
   "source": [
    "#import sys, fitz                            # import the binding\n",
    "#fname = sys.argv[1]                         # get filename from command line\n",
    "#doc = fitz.open('C:/Users/Ranja.Sarkar/GS.09.51520_Evaluation_of_polymers_for_gas_injection_lines_conveying_high_pressure_and_supercritical_carbon_dioxide.pdf')\n",
    "#for page in doc:                            # iterate through the pages\n",
    "#    pix = page.getPixmap(alpha = False)     # render page to an image\n",
    "#   pix.writePNG(\"test4.png\" % page.number) \n",
    "  "
   ]
  },
  {
   "cell_type": "code",
   "execution_count": 28,
   "metadata": {},
   "outputs": [],
   "source": [
    "#%matplotlib notebook\n",
    "\"\"\"\n",
    "\n",
    "from PIL import Image\n",
    "from scipy import *\n",
    "from pylab import *\n",
    "\n",
    "im = array(Image.open('C:/Users/Ranja.Sarkar/4_100.jpg'))\n",
    "#imshow(im)\n",
    "\n",
    "vr = im.shape[0]\n",
    "hr = im.shape[1]\n",
    "#print(vr, hr)\n",
    "    \n",
    "col = array([255, 0, 0])\n",
    "bnd1 = 10\n",
    "\n",
    "yax = linspace(0, 50, vr)\n",
    "xax = linspace(0, 400, hr)\n",
    "\n",
    "for i in range(vr):\n",
    "    for j in range(hr):\n",
    "        im[i,j,:] = 255 * (any(im[i,j,:] > col + bnd1 ) or any(im[i,j,:] < col - bnd1 ))\n",
    "\n",
    "mapim = abs(1 - (im[:,:,0]/255)).astype(bool)\n",
    "\n",
    "yval = array([average(yax[mapim[:,t]]) for t in range(hr)])\n",
    "\n",
    "#print(xax, yval)\n",
    "\n",
    "#print(im.shape, hr, vr, len(xax), len(yval))\n",
    "\n",
    "%matplotlib inline\n",
    "\n",
    "plot(xax, yval)\n",
    "\n",
    "\"\"\""
   ]
  },
  {
   "cell_type": "code",
   "execution_count": null,
   "metadata": {},
   "outputs": [],
   "source": [
    "%matplotlib notebook\n",
    "\n",
    "from PIL import Image\n",
    "from scipy import *\n",
    "from pylab import *\n",
    "\n",
    "im = array(Image.open('C:/Users/Ranja.Sarkar/PVDF.jpg'))\n",
    "\n",
    "hh = im.shape[0]\n",
    "ww = im.shape[1]\n",
    "\n",
    "imshow(im)    \n",
    "\n",
    "#From nb hoverarrow CI\n",
    "yp1 = [318, 311, 268, 234, 321, 323, 323]\n",
    "yp11 = []\n",
    "\n",
    "for i in range(0, 7):\n",
    "    yps = ((1 - yp1[i]/vr) * 5) + 5.5\n",
    "    yp11.append(round(yps, 1))\n",
    "\n",
    "yp11\n",
    "#From nb hoverarrow KHI\n",
    "#yp2 = []\n",
    "\n",
    "#for i in range(0, 7):\n",
    "#    yp22 = ((1 - yp2[i]/vr) * 5) + 6\n",
    "#    print(round(yp22, 2))\n"
   ]
  },
  {
   "cell_type": "code",
   "execution_count": null,
   "metadata": {},
   "outputs": [],
   "source": []
  },
  {
   "cell_type": "code",
   "execution_count": null,
   "metadata": {},
   "outputs": [],
   "source": [
    "%matplotlib notebook\n",
    "\n",
    "from PIL import Image\n",
    "from scipy import *\n",
    "from pylab import *\n",
    "\n",
    "im = array(Image.open('C:/Users/Ranja.Sarkar/PTFE.jpg'))\n",
    "\n",
    "hh = im.shape[0]\n",
    "ww = im.shape[1]\n",
    "\n",
    "imshow(im)    \n",
    "\n",
    "#From nb hoverarrow CI\n",
    "yp1 = [318, 311, 268, 234, 321, 323, 323]\n",
    "yp11 = []\n",
    "\n",
    "for i in range(0, 7):\n",
    "    yps = ((1 - yp1[i]/vr) * 5) + 5.5\n",
    "    yp11.append(round(yps, 1))\n",
    "\n",
    "yp11\n",
    "#From nb hoverarrow KHI\n",
    "#yp2 = []\n",
    "\n",
    "#for i in range(0, 7):\n",
    "#    yp22 = ((1 - yp2[i]/vr) * 5) + 6\n",
    "#    print(round(yp22, 2))\n"
   ]
  },
  {
   "cell_type": "code",
   "execution_count": null,
   "metadata": {},
   "outputs": [],
   "source": []
  },
  {
   "cell_type": "code",
   "execution_count": null,
   "metadata": {},
   "outputs": [],
   "source": []
  },
  {
   "cell_type": "code",
   "execution_count": null,
   "metadata": {},
   "outputs": [],
   "source": []
  },
  {
   "cell_type": "code",
   "execution_count": null,
   "metadata": {},
   "outputs": [],
   "source": []
  }
 ],
 "metadata": {
  "kernelspec": {
   "display_name": "Python 3",
   "language": "python",
   "name": "python3"
  },
  "language_info": {
   "codemirror_mode": {
    "name": "ipython",
    "version": 3
   },
   "file_extension": ".py",
   "mimetype": "text/x-python",
   "name": "python",
   "nbconvert_exporter": "python",
   "pygments_lexer": "ipython3",
   "version": "3.6.8"
  }
 },
 "nbformat": 4,
 "nbformat_minor": 2
}
