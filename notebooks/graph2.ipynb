{
 "cells": [
  {
   "cell_type": "code",
   "execution_count": 4,
   "metadata": {},
   "outputs": [],
   "source": [
    "#pip install Pillow\n",
    "\"\"\"\n",
    "import minecart\n",
    "\n",
    "pdffile = open('C:/Users/Ranja.Sarkar/MAU-SR.16.10506 PEARL Assessment of HNBR for BOP application.pdf', 'rb')\n",
    "\n",
    "doc = minecart.Document(pdffile)\n",
    "page = doc.get_page(9)\n",
    "\n",
    "\"\"\"\n",
    "#im = page.images[1].as_pil()\n",
    "#im.show()"
   ]
  },
  {
   "cell_type": "code",
   "execution_count": 16,
   "metadata": {},
   "outputs": [],
   "source": [
    "#%matplotlib notebook\n",
    "\n",
    "from PIL import Image\n",
    "from scipy import *\n",
    "from pylab import *\n",
    "\n",
    "im = array(Image.open('C:/Users/Ranja.Sarkar/test2.jpg'))\n",
    "#imshow(im) \n",
    "\n",
    "vr = im.shape[0]\n",
    "hr = im.shape[1]\n",
    "#print(im.shape, vr, hr)\n",
    "\n",
    "\n",
    "#From nb hoverarrow CI\n",
    "yp1 = [318, 311, 268, 234, 321, 323, 323]\n",
    "yp11 = []\n",
    "\n",
    "for i in range(0, 7):\n",
    "    yps = ((1 - yp1[i]/vr) * 5) + 5.5\n",
    "    yp11.append(round(yps, 1))\n",
    "\n",
    "yp11\n",
    "#From nb hoverarrow KHI\n",
    "#yp2 = []\n",
    "\n",
    "#for i in range(0, 7):\n",
    "#    yp22 = ((1 - yp2[i]/vr) * 5) + 6\n",
    "#    print(round(yp22, 2))"
   ]
  },
  {
   "cell_type": "code",
   "execution_count": null,
   "metadata": {},
   "outputs": [],
   "source": []
  },
  {
   "cell_type": "code",
   "execution_count": null,
   "metadata": {},
   "outputs": [],
   "source": [
    "%matplotlib notebook\n",
    "\n",
    "from PIL import Image\n",
    "from scipy import *\n",
    "from pylab import *\n",
    "\n",
    "im = array(Image.open('C:/Users/Ranja.Sarkar/test3.jpg'))\n",
    "\n",
    "hh = im.shape[0]\n",
    "ww = im.shape[1]\n",
    "\n",
    "imshow(im)    \n",
    "\n",
    "#From nb hoverarrow CI\n",
    "yp1 = [318, 311, 268, 234, 321, 323, 323]\n",
    "yp11 = []\n",
    "\n",
    "for i in range(0, 7):\n",
    "    yps = ((1 - yp1[i]/vr) * 5) + 5.5\n",
    "    yp11.append(round(yps, 1))\n",
    "\n",
    "yp11\n",
    "#From nb hoverarrow KHI\n",
    "#yp2 = []\n",
    "\n",
    "#for i in range(0, 7):\n",
    "#    yp22 = ((1 - yp2[i]/vr) * 5) + 6\n",
    "#    print(round(yp22, 2))"
   ]
  },
  {
   "cell_type": "code",
   "execution_count": null,
   "metadata": {},
   "outputs": [],
   "source": []
  }
 ],
 "metadata": {
  "kernelspec": {
   "display_name": "Python 3",
   "language": "python",
   "name": "python3"
  },
  "language_info": {
   "codemirror_mode": {
    "name": "ipython",
    "version": 3
   },
   "file_extension": ".py",
   "mimetype": "text/x-python",
   "name": "python",
   "nbconvert_exporter": "python",
   "pygments_lexer": "ipython3",
   "version": "3.6.8"
  }
 },
 "nbformat": 4,
 "nbformat_minor": 2
}
