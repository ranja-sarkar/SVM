{
 "cells": [
  {
   "cell_type": "code",
   "execution_count": null,
   "metadata": {},
   "outputs": [],
   "source": [
    "import matplotlib.pyplot as plt\n",
    "import pandas as pd\n",
    "import numpy as np\n",
    "\n",
    "df = pd.read_csv('test1.csv')\n",
    "n = len(df)\n",
    "\n",
    "#df1 = df.sort_values('Concentration', axis = 0, ascending = True)\n",
    "#df2 = df.sort_values('Temperature', axis = 0, ascending = True)\n",
    "\n",
    "mapping = {(x, y): z for (x, y, z) in df[[\"Concentration\", \"Temperature\", \"Resistance\"]].values}\n",
    "mat = np.zeros((n, n))\n",
    "\n",
    "conc = df['Concentration']\n",
    "temp = df['Temperature']\n",
    "\n",
    "for i, x in np.ndenumerate(conc):\n",
    "    for j, y in np.ndenumerate(temp):\n",
    "        mat[j, i] = mapping.get((x, y), 0)  \n",
    "       \n",
    "\n",
    "#print(mat)\n",
    "\n",
    "%matplotlib inline\n",
    "\n",
    "#min(conc), max(conc), min(temp), max(temp)\n",
    "levels = np.linspace(0, 10)\n",
    "img = plt.contourf(finalmat, extent = [min(conc), max(conc), max(temp), min(temp)], levels = levels, cmap = 'RdYlGn')\n",
    "#plt.grid()\n",
    "bounds = [0, 1, 2, 3, 4, 5, 6, 7, 8, 9, 10]\n",
    "#pylab.colorbar(ticks = bounds)\n",
    "\n",
    "plt.colorbar(img, ticks = bounds, label = 'Chemical Resistance')\n",
    "#plt.clim(0,10)\n",
    "plt.xlabel('Concentration (vol%)', fontsize = 12.0)\n",
    "plt.ylabel('Temperature (C)', fontsize = 12.0)\n"
   ]
  },
  {
   "cell_type": "code",
   "execution_count": null,
   "metadata": {},
   "outputs": [],
   "source": []
  }
 ],
 "metadata": {
  "kernelspec": {
   "display_name": "Python 3",
   "language": "python",
   "name": "python3"
  },
  "language_info": {
   "codemirror_mode": {
    "name": "ipython",
    "version": 3
   },
   "file_extension": ".py",
   "mimetype": "text/x-python",
   "name": "python",
   "nbconvert_exporter": "python",
   "pygments_lexer": "ipython3",
   "version": "3.7.6"
  },
  "toc": {
   "base_numbering": 1,
   "nav_menu": {},
   "number_sections": true,
   "sideBar": true,
   "skip_h1_title": false,
   "title_cell": "Table of Contents",
   "title_sidebar": "Contents",
   "toc_cell": false,
   "toc_position": {},
   "toc_section_display": true,
   "toc_window_display": false
  },
  "varInspector": {
   "cols": {
    "lenName": 16,
    "lenType": 16,
    "lenVar": 40
   },
   "kernels_config": {
    "python": {
     "delete_cmd_postfix": "",
     "delete_cmd_prefix": "del ",
     "library": "var_list.py",
     "varRefreshCmd": "print(var_dic_list())"
    },
    "r": {
     "delete_cmd_postfix": ") ",
     "delete_cmd_prefix": "rm(",
     "library": "var_list.r",
     "varRefreshCmd": "cat(var_dic_list()) "
    }
   },
   "types_to_exclude": [
    "module",
    "function",
    "builtin_function_or_method",
    "instance",
    "_Feature"
   ],
   "window_display": false
  }
 },
 "nbformat": 4,
 "nbformat_minor": 4
}
