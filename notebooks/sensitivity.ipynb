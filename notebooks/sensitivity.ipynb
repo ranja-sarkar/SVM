{
 "cells": [
  {
   "cell_type": "code",
   "execution_count": null,
   "metadata": {},
   "outputs": [],
   "source": [
    "#Binary (2-class) Dataset\n",
    "\n",
    "from sklearn.datasets import make_classification\n",
    "\n",
    "#X, y = make_classification(n_samples=1000, n_features=20, n_informative=15, n_redundant=5, random_state=1)\n",
    "X, y = make_classification(n_samples = 1000, n_features = 20, random_state = 1)\n",
    "\n",
    "print(X.shape, y.shape)"
   ]
  },
  {
   "cell_type": "code",
   "execution_count": null,
   "metadata": {},
   "outputs": [],
   "source": [
    "#Baseline Model: Decision Tree Classifier\n",
    "\n",
    "from sklearn.model_selection import cross_val_score\n",
    "from sklearn.model_selection import RepeatedStratifiedKFold\n",
    "from sklearn.tree import DecisionTreeClassifier\n",
    "\n",
    "cv = RepeatedStratifiedKFold(n_splits = 10, n_repeats = 3, random_state = 1) #3repeats, 10folds in cross-validation\n",
    "model = DecisionTreeClassifier()\n",
    "scores = cross_val_score(model, X, y, scoring = 'accuracy', cv = cv, n_jobs = -1)\n",
    "\n",
    "print('Mean Classification Accuracy (STD): %.2f (%.4f)' % ((scores.mean())*100, scores.std()))\n",
    "\n",
    "#NOTE: Your results may vary a little given the stochastic nature of the algorithm or evaluation procedure, \n",
    "#    or differences in numerical precision. Consider running the example a few times and compare the average outcome."
   ]
  },
  {
   "cell_type": "markdown",
   "metadata": {},
   "source": [
    "# Sensitivity Analysis (Classification)"
   ]
  },
  {
   "cell_type": "code",
   "execution_count": null,
   "metadata": {},
   "outputs": [],
   "source": [
    "from sklearn.datasets import make_classification\n",
    "from sklearn.model_selection import cross_val_score\n",
    "from sklearn.model_selection import RepeatedStratifiedKFold\n",
    "from sklearn.tree import DecisionTreeClassifier\n",
    "from matplotlib import pyplot\n",
    "\n",
    "\n",
    "def load_dataset(n_samples):\n",
    "    X, y = make_classification(n_samples = int(n_samples), n_features = 20, random_state = 1)\n",
    "    return X, y\n",
    "\n",
    "def evaluate_model(X, y):\n",
    "    cv = RepeatedStratifiedKFold(n_splits = 10, n_repeats = 3, random_state = 1)\n",
    "    model = DecisionTreeClassifier()\n",
    "    scores = cross_val_score(model, X, y, scoring = 'accuracy', cv = cv, n_jobs = -1)\n",
    "    return [scores.mean(), scores.std()]\n",
    "\n",
    "# define number of samples to consider\n",
    "sizes = [1000, 5000, 10000, 50000, 100000, 500000, 900000]\n",
    "\n",
    "means, stds = list(), list()\n",
    "for n_samples in sizes:\n",
    "    X, y = load_dataset(n_samples)\n",
    "    mean, std = evaluate_model(X, y)\n",
    "    means.append(mean)\n",
    "    stds.append(std)\n",
    "    #print('>%d: %.2f (%.2f)' % (n_samples, mean, std))\n",
    "    \n",
    "# define error bar as 2 standard deviations from the mean or 95%\n",
    "err = [min(1, s*2) for s in stds]\n",
    "pyplot.errorbar(sizes, means, yerr = err, fmt = '-o')\n",
    "ax = pyplot.gca()\n",
    "ax.set_xscale(\"log\", nonpositive = 'clip')\n",
    "pyplot.xlabel('Dataset size')\n",
    "pyplot.ylabel('Estimated Model Performance')\n",
    "pyplot.grid()\n",
    "pyplot.show()"
   ]
  },
  {
   "cell_type": "markdown",
   "metadata": {},
   "source": [
    "# Power Analysis"
   ]
  },
  {
   "cell_type": "code",
   "execution_count": 1,
   "metadata": {},
   "outputs": [
    {
     "data": {
      "image/png": "[encoded data removed]",
      "text/plain": [
       "<Figure size 432x288 with 1 Axes>"
      ]
     },
     "metadata": {
      "needs_background": "light"
     },
     "output_type": "display_data"
    }
   ],
   "source": [
    "import statsmodels \n",
    "from statsmodels.stats.power import TTestIndPower\n",
    "from numpy import array\n",
    "from matplotlib import pyplot\n",
    "\n",
    "effect_sizes = array([0.75, 0.95])\n",
    "sample_sizes = array(range(50, 500))\n",
    "\n",
    "PowerAns = TTestIndPower()\n",
    "PowerAns.plot_power(dep_var = 'nobs', nobs = sample_sizes, effect_size = effect_sizes)\n",
    "pyplot.xlabel('Dataset size') \n",
    "pyplot.ylabel('Power')\n",
    "pyplot.title('')\n",
    "pyplot.show()\n"
   ]
  },
  {
   "cell_type": "code",
   "execution_count": 2,
   "metadata": {},
   "outputs": [
    {
     "name": "stdout",
     "output_type": "stream",
     "text": [
      "Dataset size: 33.07804662693298\n"
     ]
    }
   ],
   "source": [
    "effect_size = 0.9 #effect size (quantification of the effect of a test)\n",
    "alpha = 0.05 #significance level\n",
    "\n",
    "#Probability of rejecting null hypothesis or accepting alternative hypothesis (95%) or of detection of an effect\n",
    "power = 0.95\n",
    "\n",
    "#Observations (min) required to atleast detect an effect of 0.9  \n",
    "samples = PowerAns.solve_power(effect_size, power = power, nobs1 = None, alpha = alpha)\n",
    "print(\"Dataset size:\", samples) "
   ]
  },
  {
   "cell_type": "markdown",
   "metadata": {},
   "source": [
    "# Sensitivity Analysis (Regression)"
   ]
  },
  {
   "cell_type": "code",
   "execution_count": null,
   "metadata": {},
   "outputs": [],
   "source": [
    "from sklearn.datasets import make_regression\n",
    "\n",
    "X, y, x1 = make_regression(n_samples = 1000, n_features = 5, n_targets = 1, coef = True, random_state = 1)\n",
    "print(X.shape, y.shape, x1.shape)"
   ]
  },
  {
   "cell_type": "code",
   "execution_count": null,
   "metadata": {},
   "outputs": [],
   "source": [
    "#from sklearn.linear_model import LinearRegression\n",
    "from xgboost import XGBRegressor\n",
    "from sklearn.model_selection import cross_validate\n",
    "from sklearn.model_selection import cross_val_score\n",
    "\n",
    "model = XGBRegressor()\n",
    "#scores = cross_validate(model, X, y, cv = 3, scoring = 'r2', return_train_score = True, n_jobs = -1)\n",
    "scores = cross_val_score(model, X, y, cv = 5, scoring = 'r2', n_jobs = -1)\n",
    "#print(scores.keys())\n",
    "#print(scores['train_score'].mean(), scores['train_score'].std())\n",
    "#print(scores.mean(), scores.std())\n",
    "\n",
    "print('Mean Regression Accuracy (STD): %.2f (%.4f)' % ((scores.mean())*100, scores.std()))"
   ]
  },
  {
   "cell_type": "code",
   "execution_count": 1,
   "metadata": {},
   "outputs": [
    {
     "data": {
      "image/png": "[encoded data removed]",
      "text/plain": [
       "<Figure size 432x288 with 1 Axes>"
      ]
     },
     "metadata": {
      "needs_background": "light"
     },
     "output_type": "display_data"
    }
   ],
   "source": [
    "from sklearn.datasets import make_regression\n",
    "from xgboost import XGBRegressor\n",
    "from sklearn.model_selection import cross_val_score\n",
    "from matplotlib import pyplot\n",
    "\n",
    "\n",
    "def load_dataset(n_samples):\n",
    "    X, y, x1 = make_regression(n_samples = int(n_samples), n_features = 5, n_targets = 1, coef = True, random_state = 1)\n",
    "    return X, y\n",
    "\n",
    "def evaluate_model(X, y):\n",
    "    model = XGBRegressor()\n",
    "    scores = cross_val_score(model, X, y, cv = 5, scoring = 'r2', n_jobs = -1)\n",
    "    return [scores.mean(), scores.std()]\n",
    "\n",
    "\n",
    "sizes = [1000, 5000, 10000, 50000, 100000, 500000, 900000]\n",
    "\n",
    "means, stds = list(), list()\n",
    "for n_samples in sizes:\n",
    "    X, y = load_dataset(n_samples)\n",
    "    mean, std = evaluate_model(X, y)\n",
    "    means.append(mean)\n",
    "    stds.append(std)\n",
    "\n",
    "\n",
    "err = [min(1, s*2) for s in stds]\n",
    "pyplot.errorbar(sizes, means, yerr = err, fmt = '-o')\n",
    "ax = pyplot.gca()\n",
    "ax.set_xscale(\"log\", nonpositive = 'clip')\n",
    "pyplot.xlabel('Dataset size')\n",
    "pyplot.ylabel('Estimated Model Performance')\n",
    "pyplot.grid()\n",
    "pyplot.show()"
   ]
  },
  {
   "cell_type": "code",
   "execution_count": null,
   "metadata": {},
   "outputs": [],
   "source": []
  },
  {
   "cell_type": "code",
   "execution_count": null,
   "metadata": {},
   "outputs": [],
   "source": []
  },
  {
   "cell_type": "code",
   "execution_count": null,
   "metadata": {},
   "outputs": [],
   "source": [
    "from sklearn.utils.multiclass import type_of_target\n",
    "\n",
    "type_of_target(y)"
   ]
  },
  {
   "cell_type": "code",
   "execution_count": null,
   "metadata": {},
   "outputs": [],
   "source": []
  }
 ],
 "metadata": {
  "kernelspec": {
   "display_name": "Python 3",
   "language": "python",
   "name": "python3"
  },
  "language_info": {
   "codemirror_mode": {
    "name": "ipython",
    "version": 3
   },
   "file_extension": ".py",
   "mimetype": "text/x-python",
   "name": "python",
   "nbconvert_exporter": "python",
   "pygments_lexer": "ipython3",
   "version": "3.7.6"
  },
  "toc": {
   "base_numbering": 1,
   "nav_menu": {},
   "number_sections": true,
   "sideBar": true,
   "skip_h1_title": false,
   "title_cell": "Table of Contents",
   "title_sidebar": "Contents",
   "toc_cell": false,
   "toc_position": {},
   "toc_section_display": true,
   "toc_window_display": false
  },
  "varInspector": {
   "cols": {
    "lenName": 16,
    "lenType": 16,
    "lenVar": 40
   },
   "kernels_config": {
    "python": {
     "delete_cmd_postfix": "",
     "delete_cmd_prefix": "del ",
     "library": "var_list.py",
     "varRefreshCmd": "print(var_dic_list())"
    },
    "r": {
     "delete_cmd_postfix": ") ",
     "delete_cmd_prefix": "rm(",
     "library": "var_list.r",
     "varRefreshCmd": "cat(var_dic_list()) "
    }
   },
   "types_to_exclude": [
    "module",
    "function",
    "builtin_function_or_method",
    "instance",
    "_Feature"
   ],
   "window_display": false
  }
 },
 "nbformat": 4,
 "nbformat_minor": 4
}
