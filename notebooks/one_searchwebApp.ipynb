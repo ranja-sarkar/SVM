{
 "cells": [
  {
   "cell_type": "code",
   "execution_count": null,
   "metadata": {
    "scrolled": true
   },
   "outputs": [],
   "source": [
    "import dash\n",
    "import dash_html_components as html\n",
    "import dash_core_components as dcc\n",
    "from dash.dependencies import Output, Input, State\n",
    "#from dash.exceptions import PreventUpdate\n",
    "import dash_table as dt\n",
    "import pickle\n",
    "import pandas as pd\n",
    "import flask\n",
    "from waitress import serve\n",
    "\n",
    "#external_stylesheets = ['https://codepen.io/chriddyp/pen/bWLwgP.css']\n",
    "\n",
    "server = flask.Flask(__name__)\n",
    "app = dash.Dash(__name__, server = server, url_base_pathname = '/polymers/') #external stylesheet can be used here\n",
    "#app = dash.Dash(__name__, server = server) #default\n",
    "\n",
    "@server.route('/')\n",
    "def hello():\n",
    "    \"\"\" Main Page \"\"\"\n",
    "    return 'Hello Digital Polymer'\n",
    "\n",
    "colors = {'background': '#FFD500', 'text': '#ED1C24'}\n",
    "app.layout = html.Div([\n",
    "    html.H1('Search for non-metallics data', style = {'color': colors['text'], 'backgroundColor': colors['background']}),\n",
    "    dcc.Input(placeholder = '', value = None, id = 'box', type = 'text', style = {'width': '25%'}),\n",
    "    html.Button(id = 'button', children = 'Search', style = {'width': '5%'}),\n",
    "    html.Hr(),\n",
    "    html.Div(id = 'output'),\n",
    "    dcc.Link('Source Reports - Restricted', href = 'https://my.shell.com/personal/ranja_sarkar_shell_com/_layouts/15/onedrive.aspx?id=%2Fpersonal%2Franja%5Fsarkar%5Fshell%5Fcom%2FDocuments%2FNon%2Dmetallic%20%28Polymer%29%20Reports%2Frestricted%20sources'), \n",
    "    html.Br()\n",
    "#    dcc.Link('Source Reports - Confidential', href = 'https://my.shell.com/personal/ranja_sarkar_shell_com/_layouts/15/onedrive.aspx?id=%2Fpersonal%2Franja%5Fsarkar%5Fshell%5Fcom%2FDocuments%2FNon%2Dmetallic%20%28Polymer%29%20Reports%2Fconfidential%20sources')\n",
    "                    ],\n",
    "\n",
    "#   style = {'columnCount': 1}\n",
    "    style = {'textAlign': 'center', 'font-family': 'futura medium', 'font-size': '20px'}\n",
    "                    )\n",
    "\n",
    "@app.callback(Output('output', 'children'),\n",
    "             [Input('button', 'n_clicks')],\n",
    "             [State('box', 'value')])\n",
    "\n",
    "\n",
    "@server.route(\"/polymers\") \n",
    "def update_output(n_clicks, keyword):  \n",
    "    \"\"\" Search results \"\"\"\n",
    "    if n_clicks and n_clicks > 0:\n",
    "        filepath = 'C:/Users/Ranja.Sarkar/DPdatabase/failure_analysis_data/grams_93_summary.pkl'\n",
    "        with open(filepath,'rb') as f:\n",
    "            search_word = pickle.load(f)\n",
    "        \n",
    "        try:\n",
    "            rr = search_word[str(keyword)]\n",
    "            df = pd.DataFrame(rr, columns = ('Source', 'Score', 'Summary'))\n",
    "            df = df.sort_values('Relevance Score', ascending = False)\n",
    "            return html.Div([html.Div(id = 'output_table'), dt.DataTable(id = 'table', data = df.to_dict('records'),\n",
    "                columns = [{\"name\": i, \"id\": i} for i in df.columns], style_cell = {'textAlign': 'left', 'overflow': 'hidden', 'textOverflow': 'ellipsis', 'font-family': 'futura medium'}, style_data = {'whiteSpace': 'normal'}, style_header = \n",
    "                {'backgroundColor': '#FFD500', 'color': '#ED1C24', 'textAlign': 'center', 'font-family': 'futura medium'}, style_as_list_view = False)\n",
    "                        ])\n",
    "        except Exception:\n",
    "#            return (print(e)) ## works without n_clicks\n",
    "            if keyword == keyword.upper():\n",
    "                return html.Div([html.H4('Lowercase keywords searchable')])\n",
    "            if len(keyword.split()) > 3:\n",
    "                return html.Div([html.H4('Please restrict keyphrase to a maximum of 3 words')])\n",
    "            else:\n",
    "                return html.Div([html.H4('No results found for keyword')])\n",
    "\n",
    "\n",
    "if __name__ == \"__main__\":\n",
    "#    from waitress import serve\n",
    "#    serve(app.server, host = \"localhost\") #serve(app.server)\n",
    "    serve(app.server, host = \"0.0.0.0\") #default:8080\n",
    "#    app.run_server(host = \"localhost\", port = 2020)\n",
    "#    app.run_server(host = \"0.0.0.0\")#    app.run_server(debug = False) #default:127.0.0.1:8050\n"
   ]
  },
  {
   "cell_type": "code",
   "execution_count": null,
   "metadata": {},
   "outputs": [],
   "source": []
  }
 ],
 "metadata": {
  "kernelspec": {
   "display_name": "Python 3",
   "language": "python",
   "name": "python3"
  },
  "language_info": {
   "codemirror_mode": {
    "name": "ipython",
    "version": 3
   },
   "file_extension": ".py",
   "mimetype": "text/x-python",
   "name": "python",
   "nbconvert_exporter": "python",
   "pygments_lexer": "ipython3",
   "version": "3.7.6"
  },
  "toc": {
   "base_numbering": 1,
   "nav_menu": {},
   "number_sections": true,
   "sideBar": true,
   "skip_h1_title": false,
   "title_cell": "Table of Contents",
   "title_sidebar": "Contents",
   "toc_cell": false,
   "toc_position": {},
   "toc_section_display": true,
   "toc_window_display": false
  },
  "varInspector": {
   "cols": {
    "lenName": 16,
    "lenType": 16,
    "lenVar": 40
   },
   "kernels_config": {
    "python": {
     "delete_cmd_postfix": "",
     "delete_cmd_prefix": "del ",
     "library": "var_list.py",
     "varRefreshCmd": "print(var_dic_list())"
    },
    "r": {
     "delete_cmd_postfix": ") ",
     "delete_cmd_prefix": "rm(",
     "library": "var_list.r",
     "varRefreshCmd": "cat(var_dic_list()) "
    }
   },
   "types_to_exclude": [
    "module",
    "function",
    "builtin_function_or_method",
    "instance",
    "_Feature"
   ],
   "window_display": false
  }
 },
 "nbformat": 4,
 "nbformat_minor": 2
}
