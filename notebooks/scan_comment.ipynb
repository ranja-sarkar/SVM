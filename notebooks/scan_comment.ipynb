{
 "metadata": {
  "language_info": {
   "codemirror_mode": {
    "name": "ipython",
    "version": 3
   },
   "file_extension": ".py",
   "mimetype": "text/x-python",
   "name": "python",
   "nbconvert_exporter": "python",
   "pygments_lexer": "ipython3",
   "version": "3.7.6"
  },
  "orig_nbformat": 2,
  "kernelspec": {
   "name": "python3",
   "display_name": "Python 3.7.6 64-bit ('base': conda)"
  },
  "interpreter": {
   "hash": "af8b93295ec152667600696eebafdfb1a6679e79e15871d01906b24cd0cc4b31"
  }
 },
 "nbformat": 4,
 "nbformat_minor": 2,
 "cells": [
  {
   "cell_type": "code",
   "execution_count": 1,
   "source": [
    "from PyPDF2 import PdfFileWriter, PdfFileReader, PdfFileMerger\r\n",
    "import os\r\n",
    "\r\n",
    "#from reportlab.pdfgen.canvas import Canvas\r\n",
    "#from reportlab.lib.pagesizes import letter"
   ],
   "outputs": [],
   "metadata": {}
  },
  {
   "cell_type": "markdown",
   "source": [
    "can = Canvas(\"add.pdf\")\n",
    "can.drawString(100, 700, \"This document has been reclassified from CONFIDENTIAL to RESTRICTED.\")\n",
    "can.setFont(\"Times-Roman\", 44)\n",
    "can.save()"
   ],
   "metadata": {}
  },
  {
   "cell_type": "code",
   "execution_count": 2,
   "source": [
    "input_folder = \"C:/Users/Ranja.Sarkar/DPdatabase/scanned_sources/\"\r\n",
    "output_folder = \"C:/Users/Ranja.Sarkar/DPdatabase/scanned_sources_new/\"\r\n",
    "\r\n",
    "input_folder_path = os.path.abspath(input_folder)\r\n",
    "output_folder_path = os.path.abspath(output_folder)\r\n",
    "\r\n",
    "os.chdir(input_folder)\r\n",
    "\r\n",
    "if not os.path.exists(output_folder):\r\n",
    "    print('Creating output folder...')\r\n",
    "    os.makedirs(output_folder)\r\n",
    "    print(output_folder, 'created')\r\n",
    "\r\n",
    "input_file_path = os.listdir(input_folder_path)\r\n",
    "#print(input_file_path)\r\n",
    "for input_file_name in input_file_path:\r\n",
    "    if not (input_file_name.lower().endswith(\".pdf\")) or (input_file_name.lower().endswith(\".PDF\")):\r\n",
    "        continue\r\n",
    "   # print(input_file_name)\r\n",
    "    infile_1 = PdfFileReader(input_file_name, 'rb')\r\n",
    "    infile_2 = PdfFileReader(\"C:/Users/Ranja.Sarkar/DPdatabase/add.pdf\", 'rb')\r\n",
    "    \r\n",
    "    pdfmerger = PdfFileMerger()\r\n",
    "    pdfmerger.append(infile_2)\r\n",
    "    pdfmerger.merge(1, infile_1)\r\n",
    "    \r\n",
    "    file_name = os.path.splitext(input_file_name)[0]\r\n",
    "    output_file_path = os.path.join(output_folder_path, file_name + \".pdf\")\r\n",
    "    with open(output_file_path, \"wb\") as of:\r\n",
    "        pdfmerger.write(of)\r\n",
    "    "
   ],
   "outputs": [
    {
     "output_type": "stream",
     "name": "stdout",
     "text": [
      "Creating output folder...\n",
      "C:/Users/Ranja.Sarkar/DPdatabase/scanned_sources_new/ created\n"
     ]
    },
    {
     "output_type": "stream",
     "name": "stderr",
     "text": [
      "PdfReadWarning: Xref table not zero-indexed. ID numbers for objects will be corrected. [pdf.py:1736]\n"
     ]
    }
   ],
   "metadata": {}
  }
 ]
}